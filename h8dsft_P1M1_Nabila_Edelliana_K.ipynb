{
  "cells": [
    {
      "cell_type": "markdown",
      "metadata": {
        "id": "Zb6Y44qdxueG"
      },
      "source": [
        "**Using this template**\n",
        "\n",
        "1. Change notebook title to assignment title you working on, eg. `Graded Challenge 1 or Milestone 1`\n",
        "2. Put your identity such as name and batch number below notebook title.\n",
        "3. Write your description before do any work. State your purpose of this assignment and what you are trying to achieve. \n",
        "4. Look at the rubric of this assignment and make sure you understand the criteria.\n",
        "5. Code your solution in the cell provided below the working area section.\n",
        "6. State your conlusions, findings, and any other relevant information in the cell provided below the conclusions sections.\n",
        "7. Save this notebook and rename it to assignment title you working on  eg. `Graded Challenge 1 or Milestone 1`\n",
        "8. Push your assignment before deadline.\n",
        "9. Good Luck!"
      ]
    },
    {
      "cell_type": "markdown",
      "metadata": {
        "id": "aZ68GsboxueL"
      },
      "source": [
        "# I. Perkenalan"
      ]
    },
    {
      "cell_type": "markdown",
      "metadata": {
        "id": "r_FWKJ_exueM"
      },
      "source": [
        "## 1.1. Perkenalan"
      ]
    },
    {
      "cell_type": "markdown",
      "metadata": {
        "id": "6liN450RxueO"
      },
      "source": [
        "### Milestones 1 - P1\n",
        "\n",
        "- Name   : Nabila Edelliana Khairunnisa\n",
        "- Batch  : 011"
      ]
    },
    {
      "cell_type": "markdown",
      "metadata": {
        "id": "lDss3R8RxueP"
      },
      "source": [
        "### Description\n",
        "Project tugas ini bertujuan untuk mendalami lebih lanjut dasar-dasar data science khususnya konsep Supervised Learning.\n",
        "\n",
        "Data yang di olah merupakan data tentang informasi default credit card dengan keterangan sebagai berikut.\n",
        "  - limit_bal: Amount of given credit in NT dollars (includes individual and family/supplementary credit\n",
        "  - sex: Gender (1=male, 2=female)\n",
        "  - education: (1=graduate school, 2=university, 3=high school, 4=others, 5=unknown, 6=unknown)\n",
        "  - marital_status: Marital status (1=married, 2=single, 3=others)\n",
        "  - age: Age in years\n",
        "  - pay_n*: Repayment status in specific month, 2005 (-1=pay duly, 1=payment delay for one month, 2=payment delay for two months, … 8=payment delay for eight months, 9=payment delay for nine months and above)\n",
        "  - bill_amtn*: Amount of bill statement in specific month, 2005 (NT dollar)\n",
        "  - pay_amt*: Amount of previous payment in specific month, 2005 (NT dollar)\n",
        "  - default_payment_next_month: Default payment (1=yes, 0=no)\n",
        "  - * = the smallest n is the latest month\n",
        "\n",
        "\n",
        "### Objective\n",
        "1. Mampu memperoleh data menggunakan BigQuery\n",
        "2. Mampu memahami konsep supervised learning\n",
        "3. Mampu mempersiapkan data untuk digunakan dalam model supervised learning\n",
        "4. Mampu mengimplementasikan supervised learning dengan data yang diberikan\n",
        "5. Mampu melakukan evaluasi model\n",
        "6. Mampu melakukan model tuning\n",
        "\n",
        "### Problem Statement\n",
        "\n",
        "1. Manakah algortima machine learning terbaik untuk dataset ini?\n",
        "2. Bagaimanakah hyperparameter terbaik dari algoritma terbaik untuk dataset ini?\n",
        "3. Bagaimana kualitas machine learning dari algoritma dan hyperparameter terbaiknya untuk dataset ini?"
      ]
    },
    {
      "cell_type": "markdown",
      "metadata": {
        "id": "EK1BRRGBxuek"
      },
      "source": [
        "## 1.2. Query dari BigQuery"
      ]
    },
    {
      "cell_type": "markdown",
      "metadata": {
        "id": "osGCO0rBxuem"
      },
      "source": [
        "SELECT\n",
        "\n",
        "\n",
        "limit_balance, sex, education_level, marital_status, age, pay_0, pay_2, pay_3, pay_4, pay_5, pay_6, bill_amt_1, bill_amt_2, bill_amt_3, bill_amt_4, bill_amt_5, bill_amt_6, pay_amt_1, pay_amt_2, pay_amt_3, pay_amt_4, pay_amt_5, pay_amt_6, default_payment_next_month\n",
        "\n",
        "\n",
        "FROM `bigquery-public-data.ml_datasets.credit_card_default`\n",
        "\n",
        "\n",
        "LIMIT 21989;"
      ]
    },
    {
      "cell_type": "markdown",
      "source": [
        "limit : (tahun kelahiran = 1999) x (batch = 011) = 21989"
      ],
      "metadata": {
        "id": "tDaC_DhngMC_"
      }
    },
    {
      "cell_type": "markdown",
      "metadata": {
        "id": "YZLxZifOxueq"
      },
      "source": [
        "## Working Area\n",
        "\n",
        "```txt\n",
        "Put your code, analysis, everything below this line\n",
        "\n",
        "Make sure to check everything the rubric requires before you submit\n",
        "```"
      ]
    },
    {
      "cell_type": "markdown",
      "metadata": {
        "id": "3CMGXeFcxuer"
      },
      "source": [
        "# II. Import Pustaka yang Dibutuhkan"
      ]
    },
    {
      "cell_type": "code",
      "execution_count": null,
      "metadata": {
        "id": "M4lIhPOmxuet"
      },
      "outputs": [],
      "source": [
        "# Library EDA\n",
        "import numpy as np\n",
        "import pandas as pd\n",
        "import matplotlib.pyplot as plt\n",
        "import seaborn as sns\n",
        "import scipy.stats as stats\n",
        "\n",
        "# Library pre-processing\n",
        "from sklearn.model_selection import train_test_split\n",
        "from sklearn.preprocessing import MinMaxScaler\n",
        "from sklearn.preprocessing import OneHotEncoder\n",
        "import warnings\n",
        "\n",
        "# Library Model Machine Learning\n",
        "from sklearn.linear_model import LogisticRegression\n",
        "from sklearn.svm import SVC\n",
        "from sklearn.tree import DecisionTreeClassifier\n",
        "from sklearn.ensemble import RandomForestClassifier\n",
        "from sklearn.neighbors import KNeighborsClassifier\n",
        "from sklearn.naive_bayes import GaussianNB\n",
        "from sklearn.ensemble import AdaBoostClassifier\n",
        "\n",
        "# Library Evaluasi Model\n",
        "from sklearn.model_selection import cross_val_score\n",
        "from sklearn.model_selection import GridSearchCV\n",
        "from sklearn.metrics import classification_report,ConfusionMatrixDisplay,confusion_matrix\n",
        "\n",
        "# Library Saving dan Open Model\n",
        "import pickle"
      ]
    },
    {
      "cell_type": "markdown",
      "metadata": {
        "id": "-eP8S6LIxuew"
      },
      "source": [
        "# III. Data Loading"
      ]
    },
    {
      "cell_type": "code",
      "execution_count": null,
      "metadata": {
        "colab": {
          "base_uri": "https://localhost:8080/",
          "height": 300
        },
        "id": "0Hx2FloExuew",
        "outputId": "7031b884-74f6-4f57-bf45-e051b1345b9b"
      },
      "outputs": [
        {
          "output_type": "execute_result",
          "data": {
            "text/plain": [
              "   limit_balance  sex  education_level  marital_status   age  pay_0  pay_2  \\\n",
              "0        50000.0    1                1               2  39.0    0.0    0.0   \n",
              "1       110000.0    2                1               2  29.0    0.0    0.0   \n",
              "2       270000.0    1                1               2  36.0    0.0    0.0   \n",
              "3       130000.0    1                1               1  45.0    0.0    0.0   \n",
              "4        50000.0    1                1               2  24.0    0.0    0.0   \n",
              "\n",
              "   pay_3  pay_4  pay_5  ...  bill_amt_4  bill_amt_5  bill_amt_6  pay_amt_1  \\\n",
              "0    0.0    0.0      0  ...     50803.0     30789.0     15874.0     1800.0   \n",
              "1    0.0    0.0      0  ...     32489.0     26354.0     20221.0     2000.0   \n",
              "2    0.0    2.0      0  ...     40335.0     37165.0     22156.0    10076.0   \n",
              "3    0.0    0.0      0  ...     62377.0     63832.0     65099.0     2886.0   \n",
              "4    0.0    0.0      0  ...     19837.0     19855.0     20151.0     1367.0   \n",
              "\n",
              "   pay_amt_2  pay_amt_3  pay_amt_4  pay_amt_5  pay_amt_6  \\\n",
              "0     2000.0     3000.0     2000.0     2000.0     2000.0   \n",
              "1     2010.0     3000.0     3000.0     3000.0     1000.0   \n",
              "2     4018.0       14.0     2051.0     2000.0        0.0   \n",
              "3     2908.0     2129.0     2354.0     2366.0     2291.0   \n",
              "4     1606.0      692.0      709.0      721.0      692.0   \n",
              "\n",
              "   default_payment_next_month  \n",
              "0                           0  \n",
              "1                           0  \n",
              "2                           0  \n",
              "3                           0  \n",
              "4                           0  \n",
              "\n",
              "[5 rows x 24 columns]"
            ],
            "text/html": [
              "\n",
              "  <div id=\"df-246090a9-bf84-45c9-8305-f48f3b4a7f2b\">\n",
              "    <div class=\"colab-df-container\">\n",
              "      <div>\n",
              "<style scoped>\n",
              "    .dataframe tbody tr th:only-of-type {\n",
              "        vertical-align: middle;\n",
              "    }\n",
              "\n",
              "    .dataframe tbody tr th {\n",
              "        vertical-align: top;\n",
              "    }\n",
              "\n",
              "    .dataframe thead th {\n",
              "        text-align: right;\n",
              "    }\n",
              "</style>\n",
              "<table border=\"1\" class=\"dataframe\">\n",
              "  <thead>\n",
              "    <tr style=\"text-align: right;\">\n",
              "      <th></th>\n",
              "      <th>limit_balance</th>\n",
              "      <th>sex</th>\n",
              "      <th>education_level</th>\n",
              "      <th>marital_status</th>\n",
              "      <th>age</th>\n",
              "      <th>pay_0</th>\n",
              "      <th>pay_2</th>\n",
              "      <th>pay_3</th>\n",
              "      <th>pay_4</th>\n",
              "      <th>pay_5</th>\n",
              "      <th>...</th>\n",
              "      <th>bill_amt_4</th>\n",
              "      <th>bill_amt_5</th>\n",
              "      <th>bill_amt_6</th>\n",
              "      <th>pay_amt_1</th>\n",
              "      <th>pay_amt_2</th>\n",
              "      <th>pay_amt_3</th>\n",
              "      <th>pay_amt_4</th>\n",
              "      <th>pay_amt_5</th>\n",
              "      <th>pay_amt_6</th>\n",
              "      <th>default_payment_next_month</th>\n",
              "    </tr>\n",
              "  </thead>\n",
              "  <tbody>\n",
              "    <tr>\n",
              "      <th>0</th>\n",
              "      <td>50000.0</td>\n",
              "      <td>1</td>\n",
              "      <td>1</td>\n",
              "      <td>2</td>\n",
              "      <td>39.0</td>\n",
              "      <td>0.0</td>\n",
              "      <td>0.0</td>\n",
              "      <td>0.0</td>\n",
              "      <td>0.0</td>\n",
              "      <td>0</td>\n",
              "      <td>...</td>\n",
              "      <td>50803.0</td>\n",
              "      <td>30789.0</td>\n",
              "      <td>15874.0</td>\n",
              "      <td>1800.0</td>\n",
              "      <td>2000.0</td>\n",
              "      <td>3000.0</td>\n",
              "      <td>2000.0</td>\n",
              "      <td>2000.0</td>\n",
              "      <td>2000.0</td>\n",
              "      <td>0</td>\n",
              "    </tr>\n",
              "    <tr>\n",
              "      <th>1</th>\n",
              "      <td>110000.0</td>\n",
              "      <td>2</td>\n",
              "      <td>1</td>\n",
              "      <td>2</td>\n",
              "      <td>29.0</td>\n",
              "      <td>0.0</td>\n",
              "      <td>0.0</td>\n",
              "      <td>0.0</td>\n",
              "      <td>0.0</td>\n",
              "      <td>0</td>\n",
              "      <td>...</td>\n",
              "      <td>32489.0</td>\n",
              "      <td>26354.0</td>\n",
              "      <td>20221.0</td>\n",
              "      <td>2000.0</td>\n",
              "      <td>2010.0</td>\n",
              "      <td>3000.0</td>\n",
              "      <td>3000.0</td>\n",
              "      <td>3000.0</td>\n",
              "      <td>1000.0</td>\n",
              "      <td>0</td>\n",
              "    </tr>\n",
              "    <tr>\n",
              "      <th>2</th>\n",
              "      <td>270000.0</td>\n",
              "      <td>1</td>\n",
              "      <td>1</td>\n",
              "      <td>2</td>\n",
              "      <td>36.0</td>\n",
              "      <td>0.0</td>\n",
              "      <td>0.0</td>\n",
              "      <td>0.0</td>\n",
              "      <td>2.0</td>\n",
              "      <td>0</td>\n",
              "      <td>...</td>\n",
              "      <td>40335.0</td>\n",
              "      <td>37165.0</td>\n",
              "      <td>22156.0</td>\n",
              "      <td>10076.0</td>\n",
              "      <td>4018.0</td>\n",
              "      <td>14.0</td>\n",
              "      <td>2051.0</td>\n",
              "      <td>2000.0</td>\n",
              "      <td>0.0</td>\n",
              "      <td>0</td>\n",
              "    </tr>\n",
              "    <tr>\n",
              "      <th>3</th>\n",
              "      <td>130000.0</td>\n",
              "      <td>1</td>\n",
              "      <td>1</td>\n",
              "      <td>1</td>\n",
              "      <td>45.0</td>\n",
              "      <td>0.0</td>\n",
              "      <td>0.0</td>\n",
              "      <td>0.0</td>\n",
              "      <td>0.0</td>\n",
              "      <td>0</td>\n",
              "      <td>...</td>\n",
              "      <td>62377.0</td>\n",
              "      <td>63832.0</td>\n",
              "      <td>65099.0</td>\n",
              "      <td>2886.0</td>\n",
              "      <td>2908.0</td>\n",
              "      <td>2129.0</td>\n",
              "      <td>2354.0</td>\n",
              "      <td>2366.0</td>\n",
              "      <td>2291.0</td>\n",
              "      <td>0</td>\n",
              "    </tr>\n",
              "    <tr>\n",
              "      <th>4</th>\n",
              "      <td>50000.0</td>\n",
              "      <td>1</td>\n",
              "      <td>1</td>\n",
              "      <td>2</td>\n",
              "      <td>24.0</td>\n",
              "      <td>0.0</td>\n",
              "      <td>0.0</td>\n",
              "      <td>0.0</td>\n",
              "      <td>0.0</td>\n",
              "      <td>0</td>\n",
              "      <td>...</td>\n",
              "      <td>19837.0</td>\n",
              "      <td>19855.0</td>\n",
              "      <td>20151.0</td>\n",
              "      <td>1367.0</td>\n",
              "      <td>1606.0</td>\n",
              "      <td>692.0</td>\n",
              "      <td>709.0</td>\n",
              "      <td>721.0</td>\n",
              "      <td>692.0</td>\n",
              "      <td>0</td>\n",
              "    </tr>\n",
              "  </tbody>\n",
              "</table>\n",
              "<p>5 rows × 24 columns</p>\n",
              "</div>\n",
              "      <button class=\"colab-df-convert\" onclick=\"convertToInteractive('df-246090a9-bf84-45c9-8305-f48f3b4a7f2b')\"\n",
              "              title=\"Convert this dataframe to an interactive table.\"\n",
              "              style=\"display:none;\">\n",
              "        \n",
              "  <svg xmlns=\"http://www.w3.org/2000/svg\" height=\"24px\"viewBox=\"0 0 24 24\"\n",
              "       width=\"24px\">\n",
              "    <path d=\"M0 0h24v24H0V0z\" fill=\"none\"/>\n",
              "    <path d=\"M18.56 5.44l.94 2.06.94-2.06 2.06-.94-2.06-.94-.94-2.06-.94 2.06-2.06.94zm-11 1L8.5 8.5l.94-2.06 2.06-.94-2.06-.94L8.5 2.5l-.94 2.06-2.06.94zm10 10l.94 2.06.94-2.06 2.06-.94-2.06-.94-.94-2.06-.94 2.06-2.06.94z\"/><path d=\"M17.41 7.96l-1.37-1.37c-.4-.4-.92-.59-1.43-.59-.52 0-1.04.2-1.43.59L10.3 9.45l-7.72 7.72c-.78.78-.78 2.05 0 2.83L4 21.41c.39.39.9.59 1.41.59.51 0 1.02-.2 1.41-.59l7.78-7.78 2.81-2.81c.8-.78.8-2.07 0-2.86zM5.41 20L4 18.59l7.72-7.72 1.47 1.35L5.41 20z\"/>\n",
              "  </svg>\n",
              "      </button>\n",
              "      \n",
              "  <style>\n",
              "    .colab-df-container {\n",
              "      display:flex;\n",
              "      flex-wrap:wrap;\n",
              "      gap: 12px;\n",
              "    }\n",
              "\n",
              "    .colab-df-convert {\n",
              "      background-color: #E8F0FE;\n",
              "      border: none;\n",
              "      border-radius: 50%;\n",
              "      cursor: pointer;\n",
              "      display: none;\n",
              "      fill: #1967D2;\n",
              "      height: 32px;\n",
              "      padding: 0 0 0 0;\n",
              "      width: 32px;\n",
              "    }\n",
              "\n",
              "    .colab-df-convert:hover {\n",
              "      background-color: #E2EBFA;\n",
              "      box-shadow: 0px 1px 2px rgba(60, 64, 67, 0.3), 0px 1px 3px 1px rgba(60, 64, 67, 0.15);\n",
              "      fill: #174EA6;\n",
              "    }\n",
              "\n",
              "    [theme=dark] .colab-df-convert {\n",
              "      background-color: #3B4455;\n",
              "      fill: #D2E3FC;\n",
              "    }\n",
              "\n",
              "    [theme=dark] .colab-df-convert:hover {\n",
              "      background-color: #434B5C;\n",
              "      box-shadow: 0px 1px 3px 1px rgba(0, 0, 0, 0.15);\n",
              "      filter: drop-shadow(0px 1px 2px rgba(0, 0, 0, 0.3));\n",
              "      fill: #FFFFFF;\n",
              "    }\n",
              "  </style>\n",
              "\n",
              "      <script>\n",
              "        const buttonEl =\n",
              "          document.querySelector('#df-246090a9-bf84-45c9-8305-f48f3b4a7f2b button.colab-df-convert');\n",
              "        buttonEl.style.display =\n",
              "          google.colab.kernel.accessAllowed ? 'block' : 'none';\n",
              "\n",
              "        async function convertToInteractive(key) {\n",
              "          const element = document.querySelector('#df-246090a9-bf84-45c9-8305-f48f3b4a7f2b');\n",
              "          const dataTable =\n",
              "            await google.colab.kernel.invokeFunction('convertToInteractive',\n",
              "                                                     [key], {});\n",
              "          if (!dataTable) return;\n",
              "\n",
              "          const docLinkHtml = 'Like what you see? Visit the ' +\n",
              "            '<a target=\"_blank\" href=https://colab.research.google.com/notebooks/data_table.ipynb>data table notebook</a>'\n",
              "            + ' to learn more about interactive tables.';\n",
              "          element.innerHTML = '';\n",
              "          dataTable['output_type'] = 'display_data';\n",
              "          await google.colab.output.renderOutput(dataTable, element);\n",
              "          const docLink = document.createElement('div');\n",
              "          docLink.innerHTML = docLinkHtml;\n",
              "          element.appendChild(docLink);\n",
              "        }\n",
              "      </script>\n",
              "    </div>\n",
              "  </div>\n",
              "  "
            ]
          },
          "metadata": {},
          "execution_count": 2
        }
      ],
      "source": [
        "data = pd.read_csv('h8dsft_P1M1_Nabila_Edelliana_K.csv')\n",
        "# Menampilkan head data\n",
        "data.head()"
      ]
    },
    {
      "cell_type": "code",
      "execution_count": null,
      "metadata": {
        "colab": {
          "base_uri": "https://localhost:8080/",
          "height": 300
        },
        "id": "zB0Dls--xuez",
        "outputId": "bd6a038f-a1e7-4321-b328-b35b52bd36ae"
      },
      "outputs": [
        {
          "output_type": "execute_result",
          "data": {
            "text/plain": [
              "      limit_balance  sex  education_level  marital_status   age  pay_0  pay_2  \\\n",
              "2960       210000.0    2                2               1  39.0   -1.0   -1.0   \n",
              "2961       280000.0    2                1               1  41.0    2.0   -1.0   \n",
              "2962        80000.0    1                1               2  28.0    1.0   -1.0   \n",
              "2963       200000.0    1                2               1  53.0    1.0   -1.0   \n",
              "2964        20000.0    2                1               2  24.0   -1.0   -1.0   \n",
              "\n",
              "      pay_3  pay_4  pay_5  ...  bill_amt_4  bill_amt_5  bill_amt_6  pay_amt_1  \\\n",
              "2960   -1.0   -1.0     -2  ...         0.0         0.0     12000.0        0.0   \n",
              "2961   -1.0   -1.0     -2  ...         0.0         0.0       244.0     6859.0   \n",
              "2962   -1.0   -1.0     -2  ...         0.0         0.0         0.0       47.0   \n",
              "2963   -1.0   -2.0     -2  ...         0.0         0.0      6753.0     2920.0   \n",
              "2964   -2.0   -2.0     -2  ...         0.0         0.0         0.0        0.0   \n",
              "\n",
              "      pay_amt_2  pay_amt_3  pay_amt_4  pay_amt_5  pay_amt_6  \\\n",
              "2960    28428.0        0.0        0.0    12000.0    33664.0   \n",
              "2961      486.0        0.0        0.0      244.0        0.0   \n",
              "2962      207.0        0.0        0.0        0.0        0.0   \n",
              "2963        0.0        0.0        0.0     6753.0        0.0   \n",
              "2964        0.0        0.0        0.0        0.0        0.0   \n",
              "\n",
              "      default_payment_next_month  \n",
              "2960                           0  \n",
              "2961                           0  \n",
              "2962                           0  \n",
              "2963                           1  \n",
              "2964                           0  \n",
              "\n",
              "[5 rows x 24 columns]"
            ],
            "text/html": [
              "\n",
              "  <div id=\"df-c5147f43-8d73-47f1-af0d-cc3ce0d59026\">\n",
              "    <div class=\"colab-df-container\">\n",
              "      <div>\n",
              "<style scoped>\n",
              "    .dataframe tbody tr th:only-of-type {\n",
              "        vertical-align: middle;\n",
              "    }\n",
              "\n",
              "    .dataframe tbody tr th {\n",
              "        vertical-align: top;\n",
              "    }\n",
              "\n",
              "    .dataframe thead th {\n",
              "        text-align: right;\n",
              "    }\n",
              "</style>\n",
              "<table border=\"1\" class=\"dataframe\">\n",
              "  <thead>\n",
              "    <tr style=\"text-align: right;\">\n",
              "      <th></th>\n",
              "      <th>limit_balance</th>\n",
              "      <th>sex</th>\n",
              "      <th>education_level</th>\n",
              "      <th>marital_status</th>\n",
              "      <th>age</th>\n",
              "      <th>pay_0</th>\n",
              "      <th>pay_2</th>\n",
              "      <th>pay_3</th>\n",
              "      <th>pay_4</th>\n",
              "      <th>pay_5</th>\n",
              "      <th>...</th>\n",
              "      <th>bill_amt_4</th>\n",
              "      <th>bill_amt_5</th>\n",
              "      <th>bill_amt_6</th>\n",
              "      <th>pay_amt_1</th>\n",
              "      <th>pay_amt_2</th>\n",
              "      <th>pay_amt_3</th>\n",
              "      <th>pay_amt_4</th>\n",
              "      <th>pay_amt_5</th>\n",
              "      <th>pay_amt_6</th>\n",
              "      <th>default_payment_next_month</th>\n",
              "    </tr>\n",
              "  </thead>\n",
              "  <tbody>\n",
              "    <tr>\n",
              "      <th>2960</th>\n",
              "      <td>210000.0</td>\n",
              "      <td>2</td>\n",
              "      <td>2</td>\n",
              "      <td>1</td>\n",
              "      <td>39.0</td>\n",
              "      <td>-1.0</td>\n",
              "      <td>-1.0</td>\n",
              "      <td>-1.0</td>\n",
              "      <td>-1.0</td>\n",
              "      <td>-2</td>\n",
              "      <td>...</td>\n",
              "      <td>0.0</td>\n",
              "      <td>0.0</td>\n",
              "      <td>12000.0</td>\n",
              "      <td>0.0</td>\n",
              "      <td>28428.0</td>\n",
              "      <td>0.0</td>\n",
              "      <td>0.0</td>\n",
              "      <td>12000.0</td>\n",
              "      <td>33664.0</td>\n",
              "      <td>0</td>\n",
              "    </tr>\n",
              "    <tr>\n",
              "      <th>2961</th>\n",
              "      <td>280000.0</td>\n",
              "      <td>2</td>\n",
              "      <td>1</td>\n",
              "      <td>1</td>\n",
              "      <td>41.0</td>\n",
              "      <td>2.0</td>\n",
              "      <td>-1.0</td>\n",
              "      <td>-1.0</td>\n",
              "      <td>-1.0</td>\n",
              "      <td>-2</td>\n",
              "      <td>...</td>\n",
              "      <td>0.0</td>\n",
              "      <td>0.0</td>\n",
              "      <td>244.0</td>\n",
              "      <td>6859.0</td>\n",
              "      <td>486.0</td>\n",
              "      <td>0.0</td>\n",
              "      <td>0.0</td>\n",
              "      <td>244.0</td>\n",
              "      <td>0.0</td>\n",
              "      <td>0</td>\n",
              "    </tr>\n",
              "    <tr>\n",
              "      <th>2962</th>\n",
              "      <td>80000.0</td>\n",
              "      <td>1</td>\n",
              "      <td>1</td>\n",
              "      <td>2</td>\n",
              "      <td>28.0</td>\n",
              "      <td>1.0</td>\n",
              "      <td>-1.0</td>\n",
              "      <td>-1.0</td>\n",
              "      <td>-1.0</td>\n",
              "      <td>-2</td>\n",
              "      <td>...</td>\n",
              "      <td>0.0</td>\n",
              "      <td>0.0</td>\n",
              "      <td>0.0</td>\n",
              "      <td>47.0</td>\n",
              "      <td>207.0</td>\n",
              "      <td>0.0</td>\n",
              "      <td>0.0</td>\n",
              "      <td>0.0</td>\n",
              "      <td>0.0</td>\n",
              "      <td>0</td>\n",
              "    </tr>\n",
              "    <tr>\n",
              "      <th>2963</th>\n",
              "      <td>200000.0</td>\n",
              "      <td>1</td>\n",
              "      <td>2</td>\n",
              "      <td>1</td>\n",
              "      <td>53.0</td>\n",
              "      <td>1.0</td>\n",
              "      <td>-1.0</td>\n",
              "      <td>-1.0</td>\n",
              "      <td>-2.0</td>\n",
              "      <td>-2</td>\n",
              "      <td>...</td>\n",
              "      <td>0.0</td>\n",
              "      <td>0.0</td>\n",
              "      <td>6753.0</td>\n",
              "      <td>2920.0</td>\n",
              "      <td>0.0</td>\n",
              "      <td>0.0</td>\n",
              "      <td>0.0</td>\n",
              "      <td>6753.0</td>\n",
              "      <td>0.0</td>\n",
              "      <td>1</td>\n",
              "    </tr>\n",
              "    <tr>\n",
              "      <th>2964</th>\n",
              "      <td>20000.0</td>\n",
              "      <td>2</td>\n",
              "      <td>1</td>\n",
              "      <td>2</td>\n",
              "      <td>24.0</td>\n",
              "      <td>-1.0</td>\n",
              "      <td>-1.0</td>\n",
              "      <td>-2.0</td>\n",
              "      <td>-2.0</td>\n",
              "      <td>-2</td>\n",
              "      <td>...</td>\n",
              "      <td>0.0</td>\n",
              "      <td>0.0</td>\n",
              "      <td>0.0</td>\n",
              "      <td>0.0</td>\n",
              "      <td>0.0</td>\n",
              "      <td>0.0</td>\n",
              "      <td>0.0</td>\n",
              "      <td>0.0</td>\n",
              "      <td>0.0</td>\n",
              "      <td>0</td>\n",
              "    </tr>\n",
              "  </tbody>\n",
              "</table>\n",
              "<p>5 rows × 24 columns</p>\n",
              "</div>\n",
              "      <button class=\"colab-df-convert\" onclick=\"convertToInteractive('df-c5147f43-8d73-47f1-af0d-cc3ce0d59026')\"\n",
              "              title=\"Convert this dataframe to an interactive table.\"\n",
              "              style=\"display:none;\">\n",
              "        \n",
              "  <svg xmlns=\"http://www.w3.org/2000/svg\" height=\"24px\"viewBox=\"0 0 24 24\"\n",
              "       width=\"24px\">\n",
              "    <path d=\"M0 0h24v24H0V0z\" fill=\"none\"/>\n",
              "    <path d=\"M18.56 5.44l.94 2.06.94-2.06 2.06-.94-2.06-.94-.94-2.06-.94 2.06-2.06.94zm-11 1L8.5 8.5l.94-2.06 2.06-.94-2.06-.94L8.5 2.5l-.94 2.06-2.06.94zm10 10l.94 2.06.94-2.06 2.06-.94-2.06-.94-.94-2.06-.94 2.06-2.06.94z\"/><path d=\"M17.41 7.96l-1.37-1.37c-.4-.4-.92-.59-1.43-.59-.52 0-1.04.2-1.43.59L10.3 9.45l-7.72 7.72c-.78.78-.78 2.05 0 2.83L4 21.41c.39.39.9.59 1.41.59.51 0 1.02-.2 1.41-.59l7.78-7.78 2.81-2.81c.8-.78.8-2.07 0-2.86zM5.41 20L4 18.59l7.72-7.72 1.47 1.35L5.41 20z\"/>\n",
              "  </svg>\n",
              "      </button>\n",
              "      \n",
              "  <style>\n",
              "    .colab-df-container {\n",
              "      display:flex;\n",
              "      flex-wrap:wrap;\n",
              "      gap: 12px;\n",
              "    }\n",
              "\n",
              "    .colab-df-convert {\n",
              "      background-color: #E8F0FE;\n",
              "      border: none;\n",
              "      border-radius: 50%;\n",
              "      cursor: pointer;\n",
              "      display: none;\n",
              "      fill: #1967D2;\n",
              "      height: 32px;\n",
              "      padding: 0 0 0 0;\n",
              "      width: 32px;\n",
              "    }\n",
              "\n",
              "    .colab-df-convert:hover {\n",
              "      background-color: #E2EBFA;\n",
              "      box-shadow: 0px 1px 2px rgba(60, 64, 67, 0.3), 0px 1px 3px 1px rgba(60, 64, 67, 0.15);\n",
              "      fill: #174EA6;\n",
              "    }\n",
              "\n",
              "    [theme=dark] .colab-df-convert {\n",
              "      background-color: #3B4455;\n",
              "      fill: #D2E3FC;\n",
              "    }\n",
              "\n",
              "    [theme=dark] .colab-df-convert:hover {\n",
              "      background-color: #434B5C;\n",
              "      box-shadow: 0px 1px 3px 1px rgba(0, 0, 0, 0.15);\n",
              "      filter: drop-shadow(0px 1px 2px rgba(0, 0, 0, 0.3));\n",
              "      fill: #FFFFFF;\n",
              "    }\n",
              "  </style>\n",
              "\n",
              "      <script>\n",
              "        const buttonEl =\n",
              "          document.querySelector('#df-c5147f43-8d73-47f1-af0d-cc3ce0d59026 button.colab-df-convert');\n",
              "        buttonEl.style.display =\n",
              "          google.colab.kernel.accessAllowed ? 'block' : 'none';\n",
              "\n",
              "        async function convertToInteractive(key) {\n",
              "          const element = document.querySelector('#df-c5147f43-8d73-47f1-af0d-cc3ce0d59026');\n",
              "          const dataTable =\n",
              "            await google.colab.kernel.invokeFunction('convertToInteractive',\n",
              "                                                     [key], {});\n",
              "          if (!dataTable) return;\n",
              "\n",
              "          const docLinkHtml = 'Like what you see? Visit the ' +\n",
              "            '<a target=\"_blank\" href=https://colab.research.google.com/notebooks/data_table.ipynb>data table notebook</a>'\n",
              "            + ' to learn more about interactive tables.';\n",
              "          element.innerHTML = '';\n",
              "          dataTable['output_type'] = 'display_data';\n",
              "          await google.colab.output.renderOutput(dataTable, element);\n",
              "          const docLink = document.createElement('div');\n",
              "          docLink.innerHTML = docLinkHtml;\n",
              "          element.appendChild(docLink);\n",
              "        }\n",
              "      </script>\n",
              "    </div>\n",
              "  </div>\n",
              "  "
            ]
          },
          "metadata": {},
          "execution_count": 3
        }
      ],
      "source": [
        "# Menampilkan tail data\n",
        "data.tail()"
      ]
    },
    {
      "cell_type": "code",
      "execution_count": null,
      "metadata": {
        "id": "vH0EjVGQxue0"
      },
      "outputs": [],
      "source": [
        "# Membuat salinan data untuk backup\n",
        "data_copy = data.copy()"
      ]
    },
    {
      "cell_type": "code",
      "execution_count": null,
      "metadata": {
        "colab": {
          "base_uri": "https://localhost:8080/"
        },
        "id": "JXoHi5eHxue1",
        "outputId": "ec652ef2-d2f8-47f0-e0ee-509cb2f06c91"
      },
      "outputs": [
        {
          "output_type": "execute_result",
          "data": {
            "text/plain": [
              "(2965, 24)"
            ]
          },
          "metadata": {},
          "execution_count": 5
        }
      ],
      "source": [
        "# mengecek ukuran dataset\n",
        "data.shape"
      ]
    },
    {
      "cell_type": "code",
      "execution_count": null,
      "metadata": {
        "colab": {
          "base_uri": "https://localhost:8080/"
        },
        "id": "TcpFHo_wxue2",
        "outputId": "7b75d543-80e9-4ce1-f079-1c2f70f2bb79"
      },
      "outputs": [
        {
          "output_type": "stream",
          "name": "stdout",
          "text": [
            "<class 'pandas.core.frame.DataFrame'>\n",
            "RangeIndex: 2965 entries, 0 to 2964\n",
            "Data columns (total 24 columns):\n",
            " #   Column                      Non-Null Count  Dtype  \n",
            "---  ------                      --------------  -----  \n",
            " 0   limit_balance               2965 non-null   float64\n",
            " 1   sex                         2965 non-null   int64  \n",
            " 2   education_level             2965 non-null   int64  \n",
            " 3   marital_status              2965 non-null   int64  \n",
            " 4   age                         2965 non-null   float64\n",
            " 5   pay_0                       2965 non-null   float64\n",
            " 6   pay_2                       2965 non-null   float64\n",
            " 7   pay_3                       2965 non-null   float64\n",
            " 8   pay_4                       2965 non-null   float64\n",
            " 9   pay_5                       2965 non-null   int64  \n",
            " 10  pay_6                       2965 non-null   int64  \n",
            " 11  bill_amt_1                  2965 non-null   float64\n",
            " 12  bill_amt_2                  2965 non-null   float64\n",
            " 13  bill_amt_3                  2965 non-null   float64\n",
            " 14  bill_amt_4                  2965 non-null   float64\n",
            " 15  bill_amt_5                  2965 non-null   float64\n",
            " 16  bill_amt_6                  2965 non-null   float64\n",
            " 17  pay_amt_1                   2965 non-null   float64\n",
            " 18  pay_amt_2                   2965 non-null   float64\n",
            " 19  pay_amt_3                   2965 non-null   float64\n",
            " 20  pay_amt_4                   2965 non-null   float64\n",
            " 21  pay_amt_5                   2965 non-null   float64\n",
            " 22  pay_amt_6                   2965 non-null   float64\n",
            " 23  default_payment_next_month  2965 non-null   int64  \n",
            "dtypes: float64(18), int64(6)\n",
            "memory usage: 556.1 KB\n"
          ]
        }
      ],
      "source": [
        "data.info()"
      ]
    },
    {
      "cell_type": "markdown",
      "source": [
        "dataset ini terdiri dari kolom-kolom bertipe numerik. Akan tetapi, sebenarnya dataset ini mempunyai kolom-kolom bertipe kategorikal juga seperti `sex, education_level, marital_status, pay_n, dan default_payment_next_month`."
      ],
      "metadata": {
        "id": "BlK3Kyvqe6V5"
      }
    },
    {
      "cell_type": "markdown",
      "metadata": {
        "id": "Z8yY_uhExue4"
      },
      "source": [
        "# IV. Exploratory Data Analysis (EDA)"
      ]
    },
    {
      "cell_type": "markdown",
      "metadata": {
        "id": "TiJ-iTI2xue5"
      },
      "source": [
        "## 4.1. Melihat missing value"
      ]
    },
    {
      "cell_type": "code",
      "execution_count": null,
      "metadata": {
        "colab": {
          "base_uri": "https://localhost:8080/"
        },
        "id": "V_JtExuFxue6",
        "outputId": "22b4e510-3b5f-4d4e-86da-9c771b7672d7"
      },
      "outputs": [
        {
          "output_type": "execute_result",
          "data": {
            "text/plain": [
              "limit_balance                 0\n",
              "sex                           0\n",
              "education_level               0\n",
              "marital_status                0\n",
              "age                           0\n",
              "pay_0                         0\n",
              "pay_2                         0\n",
              "pay_3                         0\n",
              "pay_4                         0\n",
              "pay_5                         0\n",
              "pay_6                         0\n",
              "bill_amt_1                    0\n",
              "bill_amt_2                    0\n",
              "bill_amt_3                    0\n",
              "bill_amt_4                    0\n",
              "bill_amt_5                    0\n",
              "bill_amt_6                    0\n",
              "pay_amt_1                     0\n",
              "pay_amt_2                     0\n",
              "pay_amt_3                     0\n",
              "pay_amt_4                     0\n",
              "pay_amt_5                     0\n",
              "pay_amt_6                     0\n",
              "default_payment_next_month    0\n",
              "dtype: int64"
            ]
          },
          "metadata": {},
          "execution_count": 7
        }
      ],
      "source": [
        "# Melihat data yang memiliki missing value\n",
        "data.isnull().sum()"
      ]
    },
    {
      "cell_type": "markdown",
      "source": [
        "Tidak ada missing values dalam data."
      ],
      "metadata": {
        "id": "EgHy-q_udWCX"
      }
    },
    {
      "cell_type": "markdown",
      "metadata": {
        "id": "xqOx8dPjxufG"
      },
      "source": [
        "## 4.2. Melihat unique values kolom kategorikal"
      ]
    },
    {
      "cell_type": "code",
      "source": [
        "data['sex'].unique()"
      ],
      "metadata": {
        "colab": {
          "base_uri": "https://localhost:8080/"
        },
        "id": "ljc1njxPzxcC",
        "outputId": "a098743e-58bd-41f5-b176-ca008b5339a7"
      },
      "execution_count": null,
      "outputs": [
        {
          "output_type": "execute_result",
          "data": {
            "text/plain": [
              "array([1, 2])"
            ]
          },
          "metadata": {},
          "execution_count": 8
        }
      ]
    },
    {
      "cell_type": "markdown",
      "source": [
        "sex: (1=male, 2=female)"
      ],
      "metadata": {
        "id": "3FIsQOv80e4c"
      }
    },
    {
      "cell_type": "code",
      "source": [
        "data['education_level'].unique()"
      ],
      "metadata": {
        "colab": {
          "base_uri": "https://localhost:8080/"
        },
        "id": "RLK4Q-Y6z0zN",
        "outputId": "8cd23012-4bc5-4652-98bb-9401d057829c"
      },
      "execution_count": null,
      "outputs": [
        {
          "output_type": "execute_result",
          "data": {
            "text/plain": [
              "array([1, 2, 3, 5, 4, 6, 0])"
            ]
          },
          "metadata": {},
          "execution_count": 9
        }
      ]
    },
    {
      "cell_type": "markdown",
      "source": [
        "education_level (1=graduate school, 2=university, 3=high school, 4=others, 5=unknown, 6=unknown)"
      ],
      "metadata": {
        "id": "KZSlHTGy0hkJ"
      }
    },
    {
      "cell_type": "markdown",
      "source": [
        "Terdapat duplikat values yaitu value unknown dengan label 5 dan 6, kemudian ada pula label 0 yang tidak diketahui education_levelnya. Saya akan memasukkan value 0 dan 6 ke value 5."
      ],
      "metadata": {
        "id": "29s0Cz1KfV0n"
      }
    },
    {
      "cell_type": "code",
      "source": [
        "data['education_level'] = data.education_level.replace((6,0),(5,5), regex=True)"
      ],
      "metadata": {
        "id": "t-PiBlPGDla-"
      },
      "execution_count": null,
      "outputs": []
    },
    {
      "cell_type": "code",
      "source": [
        "data['education_level'].unique()"
      ],
      "metadata": {
        "colab": {
          "base_uri": "https://localhost:8080/"
        },
        "id": "d6xYuOGfD_Qe",
        "outputId": "3504cb0f-5e16-4e11-b880-9057a868f10a"
      },
      "execution_count": null,
      "outputs": [
        {
          "output_type": "execute_result",
          "data": {
            "text/plain": [
              "array([1, 2, 3, 5, 4])"
            ]
          },
          "metadata": {},
          "execution_count": 11
        }
      ]
    },
    {
      "cell_type": "code",
      "source": [
        "data['marital_status'].unique()"
      ],
      "metadata": {
        "colab": {
          "base_uri": "https://localhost:8080/"
        },
        "id": "sWwqjpo6z1jb",
        "outputId": "8c5a022a-cf25-4000-90bb-6d0c8d5b72e4"
      },
      "execution_count": null,
      "outputs": [
        {
          "output_type": "execute_result",
          "data": {
            "text/plain": [
              "array([2, 1, 3, 0])"
            ]
          },
          "metadata": {},
          "execution_count": 12
        }
      ]
    },
    {
      "cell_type": "markdown",
      "source": [
        "marital_status (1=married, 2=single, 3=others)"
      ],
      "metadata": {
        "id": "R8gdMw6j0pGF"
      }
    },
    {
      "cell_type": "code",
      "source": [
        "data['pay_0'].unique()"
      ],
      "metadata": {
        "colab": {
          "base_uri": "https://localhost:8080/"
        },
        "id": "2SWss3bqz1PV",
        "outputId": "63582267-46a9-46dc-cdae-11d38de92d06"
      },
      "execution_count": null,
      "outputs": [
        {
          "output_type": "execute_result",
          "data": {
            "text/plain": [
              "array([ 0., -1.,  2.,  1.,  3., -2.,  4.,  5.,  6.,  7.,  8.])"
            ]
          },
          "metadata": {},
          "execution_count": 13
        }
      ]
    },
    {
      "cell_type": "markdown",
      "source": [
        "(-1=pay duly, 1=payment delay for one month, 2=payment delay for two months, … 8=payment delay for eight months, 9=payment delay for nine months and above)"
      ],
      "metadata": {
        "id": "8u7pfPnMGU0A"
      }
    },
    {
      "cell_type": "code",
      "source": [
        "data['default_payment_next_month'].unique()"
      ],
      "metadata": {
        "id": "CEOr0oXdA2BP",
        "colab": {
          "base_uri": "https://localhost:8080/"
        },
        "outputId": "5ebbc792-f871-4f3f-8c6b-869952df4630"
      },
      "execution_count": null,
      "outputs": [
        {
          "output_type": "execute_result",
          "data": {
            "text/plain": [
              "array([0, 1])"
            ]
          },
          "metadata": {},
          "execution_count": 14
        }
      ]
    },
    {
      "cell_type": "markdown",
      "source": [
        "default_payment_next_month (1=yes, 0=no)"
      ],
      "metadata": {
        "id": "8YJqAtRe0s8n"
      }
    },
    {
      "cell_type": "code",
      "execution_count": null,
      "metadata": {
        "colab": {
          "base_uri": "https://localhost:8080/",
          "height": 300
        },
        "id": "CMDXAdPtxufG",
        "outputId": "8face2ee-b709-4c7c-86bc-ad01b4056834"
      },
      "outputs": [
        {
          "output_type": "execute_result",
          "data": {
            "text/plain": [
              "   limit_balance  sex  education_level  marital_status   age  pay_0  pay_2  \\\n",
              "0        50000.0    1                1               2  39.0    0.0    0.0   \n",
              "1       110000.0    2                1               2  29.0    0.0    0.0   \n",
              "2       270000.0    1                1               2  36.0    0.0    0.0   \n",
              "3       130000.0    1                1               1  45.0    0.0    0.0   \n",
              "4        50000.0    1                1               2  24.0    0.0    0.0   \n",
              "\n",
              "   pay_3  pay_4  pay_5  ...  bill_amt_4  bill_amt_5  bill_amt_6  pay_amt_1  \\\n",
              "0    0.0    0.0      0  ...     50803.0     30789.0     15874.0     1800.0   \n",
              "1    0.0    0.0      0  ...     32489.0     26354.0     20221.0     2000.0   \n",
              "2    0.0    2.0      0  ...     40335.0     37165.0     22156.0    10076.0   \n",
              "3    0.0    0.0      0  ...     62377.0     63832.0     65099.0     2886.0   \n",
              "4    0.0    0.0      0  ...     19837.0     19855.0     20151.0     1367.0   \n",
              "\n",
              "   pay_amt_2  pay_amt_3  pay_amt_4  pay_amt_5  pay_amt_6  \\\n",
              "0     2000.0     3000.0     2000.0     2000.0     2000.0   \n",
              "1     2010.0     3000.0     3000.0     3000.0     1000.0   \n",
              "2     4018.0       14.0     2051.0     2000.0        0.0   \n",
              "3     2908.0     2129.0     2354.0     2366.0     2291.0   \n",
              "4     1606.0      692.0      709.0      721.0      692.0   \n",
              "\n",
              "   default_payment_next_month  \n",
              "0                           0  \n",
              "1                           0  \n",
              "2                           0  \n",
              "3                           0  \n",
              "4                           0  \n",
              "\n",
              "[5 rows x 24 columns]"
            ],
            "text/html": [
              "\n",
              "  <div id=\"df-625380f7-347b-4aab-81ae-0ccf51defe1b\">\n",
              "    <div class=\"colab-df-container\">\n",
              "      <div>\n",
              "<style scoped>\n",
              "    .dataframe tbody tr th:only-of-type {\n",
              "        vertical-align: middle;\n",
              "    }\n",
              "\n",
              "    .dataframe tbody tr th {\n",
              "        vertical-align: top;\n",
              "    }\n",
              "\n",
              "    .dataframe thead th {\n",
              "        text-align: right;\n",
              "    }\n",
              "</style>\n",
              "<table border=\"1\" class=\"dataframe\">\n",
              "  <thead>\n",
              "    <tr style=\"text-align: right;\">\n",
              "      <th></th>\n",
              "      <th>limit_balance</th>\n",
              "      <th>sex</th>\n",
              "      <th>education_level</th>\n",
              "      <th>marital_status</th>\n",
              "      <th>age</th>\n",
              "      <th>pay_0</th>\n",
              "      <th>pay_2</th>\n",
              "      <th>pay_3</th>\n",
              "      <th>pay_4</th>\n",
              "      <th>pay_5</th>\n",
              "      <th>...</th>\n",
              "      <th>bill_amt_4</th>\n",
              "      <th>bill_amt_5</th>\n",
              "      <th>bill_amt_6</th>\n",
              "      <th>pay_amt_1</th>\n",
              "      <th>pay_amt_2</th>\n",
              "      <th>pay_amt_3</th>\n",
              "      <th>pay_amt_4</th>\n",
              "      <th>pay_amt_5</th>\n",
              "      <th>pay_amt_6</th>\n",
              "      <th>default_payment_next_month</th>\n",
              "    </tr>\n",
              "  </thead>\n",
              "  <tbody>\n",
              "    <tr>\n",
              "      <th>0</th>\n",
              "      <td>50000.0</td>\n",
              "      <td>1</td>\n",
              "      <td>1</td>\n",
              "      <td>2</td>\n",
              "      <td>39.0</td>\n",
              "      <td>0.0</td>\n",
              "      <td>0.0</td>\n",
              "      <td>0.0</td>\n",
              "      <td>0.0</td>\n",
              "      <td>0</td>\n",
              "      <td>...</td>\n",
              "      <td>50803.0</td>\n",
              "      <td>30789.0</td>\n",
              "      <td>15874.0</td>\n",
              "      <td>1800.0</td>\n",
              "      <td>2000.0</td>\n",
              "      <td>3000.0</td>\n",
              "      <td>2000.0</td>\n",
              "      <td>2000.0</td>\n",
              "      <td>2000.0</td>\n",
              "      <td>0</td>\n",
              "    </tr>\n",
              "    <tr>\n",
              "      <th>1</th>\n",
              "      <td>110000.0</td>\n",
              "      <td>2</td>\n",
              "      <td>1</td>\n",
              "      <td>2</td>\n",
              "      <td>29.0</td>\n",
              "      <td>0.0</td>\n",
              "      <td>0.0</td>\n",
              "      <td>0.0</td>\n",
              "      <td>0.0</td>\n",
              "      <td>0</td>\n",
              "      <td>...</td>\n",
              "      <td>32489.0</td>\n",
              "      <td>26354.0</td>\n",
              "      <td>20221.0</td>\n",
              "      <td>2000.0</td>\n",
              "      <td>2010.0</td>\n",
              "      <td>3000.0</td>\n",
              "      <td>3000.0</td>\n",
              "      <td>3000.0</td>\n",
              "      <td>1000.0</td>\n",
              "      <td>0</td>\n",
              "    </tr>\n",
              "    <tr>\n",
              "      <th>2</th>\n",
              "      <td>270000.0</td>\n",
              "      <td>1</td>\n",
              "      <td>1</td>\n",
              "      <td>2</td>\n",
              "      <td>36.0</td>\n",
              "      <td>0.0</td>\n",
              "      <td>0.0</td>\n",
              "      <td>0.0</td>\n",
              "      <td>2.0</td>\n",
              "      <td>0</td>\n",
              "      <td>...</td>\n",
              "      <td>40335.0</td>\n",
              "      <td>37165.0</td>\n",
              "      <td>22156.0</td>\n",
              "      <td>10076.0</td>\n",
              "      <td>4018.0</td>\n",
              "      <td>14.0</td>\n",
              "      <td>2051.0</td>\n",
              "      <td>2000.0</td>\n",
              "      <td>0.0</td>\n",
              "      <td>0</td>\n",
              "    </tr>\n",
              "    <tr>\n",
              "      <th>3</th>\n",
              "      <td>130000.0</td>\n",
              "      <td>1</td>\n",
              "      <td>1</td>\n",
              "      <td>1</td>\n",
              "      <td>45.0</td>\n",
              "      <td>0.0</td>\n",
              "      <td>0.0</td>\n",
              "      <td>0.0</td>\n",
              "      <td>0.0</td>\n",
              "      <td>0</td>\n",
              "      <td>...</td>\n",
              "      <td>62377.0</td>\n",
              "      <td>63832.0</td>\n",
              "      <td>65099.0</td>\n",
              "      <td>2886.0</td>\n",
              "      <td>2908.0</td>\n",
              "      <td>2129.0</td>\n",
              "      <td>2354.0</td>\n",
              "      <td>2366.0</td>\n",
              "      <td>2291.0</td>\n",
              "      <td>0</td>\n",
              "    </tr>\n",
              "    <tr>\n",
              "      <th>4</th>\n",
              "      <td>50000.0</td>\n",
              "      <td>1</td>\n",
              "      <td>1</td>\n",
              "      <td>2</td>\n",
              "      <td>24.0</td>\n",
              "      <td>0.0</td>\n",
              "      <td>0.0</td>\n",
              "      <td>0.0</td>\n",
              "      <td>0.0</td>\n",
              "      <td>0</td>\n",
              "      <td>...</td>\n",
              "      <td>19837.0</td>\n",
              "      <td>19855.0</td>\n",
              "      <td>20151.0</td>\n",
              "      <td>1367.0</td>\n",
              "      <td>1606.0</td>\n",
              "      <td>692.0</td>\n",
              "      <td>709.0</td>\n",
              "      <td>721.0</td>\n",
              "      <td>692.0</td>\n",
              "      <td>0</td>\n",
              "    </tr>\n",
              "  </tbody>\n",
              "</table>\n",
              "<p>5 rows × 24 columns</p>\n",
              "</div>\n",
              "      <button class=\"colab-df-convert\" onclick=\"convertToInteractive('df-625380f7-347b-4aab-81ae-0ccf51defe1b')\"\n",
              "              title=\"Convert this dataframe to an interactive table.\"\n",
              "              style=\"display:none;\">\n",
              "        \n",
              "  <svg xmlns=\"http://www.w3.org/2000/svg\" height=\"24px\"viewBox=\"0 0 24 24\"\n",
              "       width=\"24px\">\n",
              "    <path d=\"M0 0h24v24H0V0z\" fill=\"none\"/>\n",
              "    <path d=\"M18.56 5.44l.94 2.06.94-2.06 2.06-.94-2.06-.94-.94-2.06-.94 2.06-2.06.94zm-11 1L8.5 8.5l.94-2.06 2.06-.94-2.06-.94L8.5 2.5l-.94 2.06-2.06.94zm10 10l.94 2.06.94-2.06 2.06-.94-2.06-.94-.94-2.06-.94 2.06-2.06.94z\"/><path d=\"M17.41 7.96l-1.37-1.37c-.4-.4-.92-.59-1.43-.59-.52 0-1.04.2-1.43.59L10.3 9.45l-7.72 7.72c-.78.78-.78 2.05 0 2.83L4 21.41c.39.39.9.59 1.41.59.51 0 1.02-.2 1.41-.59l7.78-7.78 2.81-2.81c.8-.78.8-2.07 0-2.86zM5.41 20L4 18.59l7.72-7.72 1.47 1.35L5.41 20z\"/>\n",
              "  </svg>\n",
              "      </button>\n",
              "      \n",
              "  <style>\n",
              "    .colab-df-container {\n",
              "      display:flex;\n",
              "      flex-wrap:wrap;\n",
              "      gap: 12px;\n",
              "    }\n",
              "\n",
              "    .colab-df-convert {\n",
              "      background-color: #E8F0FE;\n",
              "      border: none;\n",
              "      border-radius: 50%;\n",
              "      cursor: pointer;\n",
              "      display: none;\n",
              "      fill: #1967D2;\n",
              "      height: 32px;\n",
              "      padding: 0 0 0 0;\n",
              "      width: 32px;\n",
              "    }\n",
              "\n",
              "    .colab-df-convert:hover {\n",
              "      background-color: #E2EBFA;\n",
              "      box-shadow: 0px 1px 2px rgba(60, 64, 67, 0.3), 0px 1px 3px 1px rgba(60, 64, 67, 0.15);\n",
              "      fill: #174EA6;\n",
              "    }\n",
              "\n",
              "    [theme=dark] .colab-df-convert {\n",
              "      background-color: #3B4455;\n",
              "      fill: #D2E3FC;\n",
              "    }\n",
              "\n",
              "    [theme=dark] .colab-df-convert:hover {\n",
              "      background-color: #434B5C;\n",
              "      box-shadow: 0px 1px 3px 1px rgba(0, 0, 0, 0.15);\n",
              "      filter: drop-shadow(0px 1px 2px rgba(0, 0, 0, 0.3));\n",
              "      fill: #FFFFFF;\n",
              "    }\n",
              "  </style>\n",
              "\n",
              "      <script>\n",
              "        const buttonEl =\n",
              "          document.querySelector('#df-625380f7-347b-4aab-81ae-0ccf51defe1b button.colab-df-convert');\n",
              "        buttonEl.style.display =\n",
              "          google.colab.kernel.accessAllowed ? 'block' : 'none';\n",
              "\n",
              "        async function convertToInteractive(key) {\n",
              "          const element = document.querySelector('#df-625380f7-347b-4aab-81ae-0ccf51defe1b');\n",
              "          const dataTable =\n",
              "            await google.colab.kernel.invokeFunction('convertToInteractive',\n",
              "                                                     [key], {});\n",
              "          if (!dataTable) return;\n",
              "\n",
              "          const docLinkHtml = 'Like what you see? Visit the ' +\n",
              "            '<a target=\"_blank\" href=https://colab.research.google.com/notebooks/data_table.ipynb>data table notebook</a>'\n",
              "            + ' to learn more about interactive tables.';\n",
              "          element.innerHTML = '';\n",
              "          dataTable['output_type'] = 'display_data';\n",
              "          await google.colab.output.renderOutput(dataTable, element);\n",
              "          const docLink = document.createElement('div');\n",
              "          docLink.innerHTML = docLinkHtml;\n",
              "          element.appendChild(docLink);\n",
              "        }\n",
              "      </script>\n",
              "    </div>\n",
              "  </div>\n",
              "  "
            ]
          },
          "metadata": {},
          "execution_count": 15
        }
      ],
      "source": [
        "# menyalin data lagi untuk berjaga-jaga\n",
        "df_new = data.copy()\n",
        "df_new.head()"
      ]
    },
    {
      "cell_type": "code",
      "source": [
        "# mengganti nama kolom PAY_0 agar lebih bisa dimengerti karena yang lain untuk latest month kodenya 1.\n",
        "df_new.rename(columns={'pay_0' : 'pay_1'}, inplace = True)\n",
        "df_new.head()"
      ],
      "metadata": {
        "id": "U_9XDlHPA8CW",
        "colab": {
          "base_uri": "https://localhost:8080/",
          "height": 300
        },
        "outputId": "f69dd1cd-479b-4b53-9707-23fbbbcbca39"
      },
      "execution_count": null,
      "outputs": [
        {
          "output_type": "execute_result",
          "data": {
            "text/plain": [
              "   limit_balance  sex  education_level  marital_status   age  pay_1  pay_2  \\\n",
              "0        50000.0    1                1               2  39.0    0.0    0.0   \n",
              "1       110000.0    2                1               2  29.0    0.0    0.0   \n",
              "2       270000.0    1                1               2  36.0    0.0    0.0   \n",
              "3       130000.0    1                1               1  45.0    0.0    0.0   \n",
              "4        50000.0    1                1               2  24.0    0.0    0.0   \n",
              "\n",
              "   pay_3  pay_4  pay_5  ...  bill_amt_4  bill_amt_5  bill_amt_6  pay_amt_1  \\\n",
              "0    0.0    0.0      0  ...     50803.0     30789.0     15874.0     1800.0   \n",
              "1    0.0    0.0      0  ...     32489.0     26354.0     20221.0     2000.0   \n",
              "2    0.0    2.0      0  ...     40335.0     37165.0     22156.0    10076.0   \n",
              "3    0.0    0.0      0  ...     62377.0     63832.0     65099.0     2886.0   \n",
              "4    0.0    0.0      0  ...     19837.0     19855.0     20151.0     1367.0   \n",
              "\n",
              "   pay_amt_2  pay_amt_3  pay_amt_4  pay_amt_5  pay_amt_6  \\\n",
              "0     2000.0     3000.0     2000.0     2000.0     2000.0   \n",
              "1     2010.0     3000.0     3000.0     3000.0     1000.0   \n",
              "2     4018.0       14.0     2051.0     2000.0        0.0   \n",
              "3     2908.0     2129.0     2354.0     2366.0     2291.0   \n",
              "4     1606.0      692.0      709.0      721.0      692.0   \n",
              "\n",
              "   default_payment_next_month  \n",
              "0                           0  \n",
              "1                           0  \n",
              "2                           0  \n",
              "3                           0  \n",
              "4                           0  \n",
              "\n",
              "[5 rows x 24 columns]"
            ],
            "text/html": [
              "\n",
              "  <div id=\"df-f479aac3-d268-4c26-97f8-4c1b846bedf1\">\n",
              "    <div class=\"colab-df-container\">\n",
              "      <div>\n",
              "<style scoped>\n",
              "    .dataframe tbody tr th:only-of-type {\n",
              "        vertical-align: middle;\n",
              "    }\n",
              "\n",
              "    .dataframe tbody tr th {\n",
              "        vertical-align: top;\n",
              "    }\n",
              "\n",
              "    .dataframe thead th {\n",
              "        text-align: right;\n",
              "    }\n",
              "</style>\n",
              "<table border=\"1\" class=\"dataframe\">\n",
              "  <thead>\n",
              "    <tr style=\"text-align: right;\">\n",
              "      <th></th>\n",
              "      <th>limit_balance</th>\n",
              "      <th>sex</th>\n",
              "      <th>education_level</th>\n",
              "      <th>marital_status</th>\n",
              "      <th>age</th>\n",
              "      <th>pay_1</th>\n",
              "      <th>pay_2</th>\n",
              "      <th>pay_3</th>\n",
              "      <th>pay_4</th>\n",
              "      <th>pay_5</th>\n",
              "      <th>...</th>\n",
              "      <th>bill_amt_4</th>\n",
              "      <th>bill_amt_5</th>\n",
              "      <th>bill_amt_6</th>\n",
              "      <th>pay_amt_1</th>\n",
              "      <th>pay_amt_2</th>\n",
              "      <th>pay_amt_3</th>\n",
              "      <th>pay_amt_4</th>\n",
              "      <th>pay_amt_5</th>\n",
              "      <th>pay_amt_6</th>\n",
              "      <th>default_payment_next_month</th>\n",
              "    </tr>\n",
              "  </thead>\n",
              "  <tbody>\n",
              "    <tr>\n",
              "      <th>0</th>\n",
              "      <td>50000.0</td>\n",
              "      <td>1</td>\n",
              "      <td>1</td>\n",
              "      <td>2</td>\n",
              "      <td>39.0</td>\n",
              "      <td>0.0</td>\n",
              "      <td>0.0</td>\n",
              "      <td>0.0</td>\n",
              "      <td>0.0</td>\n",
              "      <td>0</td>\n",
              "      <td>...</td>\n",
              "      <td>50803.0</td>\n",
              "      <td>30789.0</td>\n",
              "      <td>15874.0</td>\n",
              "      <td>1800.0</td>\n",
              "      <td>2000.0</td>\n",
              "      <td>3000.0</td>\n",
              "      <td>2000.0</td>\n",
              "      <td>2000.0</td>\n",
              "      <td>2000.0</td>\n",
              "      <td>0</td>\n",
              "    </tr>\n",
              "    <tr>\n",
              "      <th>1</th>\n",
              "      <td>110000.0</td>\n",
              "      <td>2</td>\n",
              "      <td>1</td>\n",
              "      <td>2</td>\n",
              "      <td>29.0</td>\n",
              "      <td>0.0</td>\n",
              "      <td>0.0</td>\n",
              "      <td>0.0</td>\n",
              "      <td>0.0</td>\n",
              "      <td>0</td>\n",
              "      <td>...</td>\n",
              "      <td>32489.0</td>\n",
              "      <td>26354.0</td>\n",
              "      <td>20221.0</td>\n",
              "      <td>2000.0</td>\n",
              "      <td>2010.0</td>\n",
              "      <td>3000.0</td>\n",
              "      <td>3000.0</td>\n",
              "      <td>3000.0</td>\n",
              "      <td>1000.0</td>\n",
              "      <td>0</td>\n",
              "    </tr>\n",
              "    <tr>\n",
              "      <th>2</th>\n",
              "      <td>270000.0</td>\n",
              "      <td>1</td>\n",
              "      <td>1</td>\n",
              "      <td>2</td>\n",
              "      <td>36.0</td>\n",
              "      <td>0.0</td>\n",
              "      <td>0.0</td>\n",
              "      <td>0.0</td>\n",
              "      <td>2.0</td>\n",
              "      <td>0</td>\n",
              "      <td>...</td>\n",
              "      <td>40335.0</td>\n",
              "      <td>37165.0</td>\n",
              "      <td>22156.0</td>\n",
              "      <td>10076.0</td>\n",
              "      <td>4018.0</td>\n",
              "      <td>14.0</td>\n",
              "      <td>2051.0</td>\n",
              "      <td>2000.0</td>\n",
              "      <td>0.0</td>\n",
              "      <td>0</td>\n",
              "    </tr>\n",
              "    <tr>\n",
              "      <th>3</th>\n",
              "      <td>130000.0</td>\n",
              "      <td>1</td>\n",
              "      <td>1</td>\n",
              "      <td>1</td>\n",
              "      <td>45.0</td>\n",
              "      <td>0.0</td>\n",
              "      <td>0.0</td>\n",
              "      <td>0.0</td>\n",
              "      <td>0.0</td>\n",
              "      <td>0</td>\n",
              "      <td>...</td>\n",
              "      <td>62377.0</td>\n",
              "      <td>63832.0</td>\n",
              "      <td>65099.0</td>\n",
              "      <td>2886.0</td>\n",
              "      <td>2908.0</td>\n",
              "      <td>2129.0</td>\n",
              "      <td>2354.0</td>\n",
              "      <td>2366.0</td>\n",
              "      <td>2291.0</td>\n",
              "      <td>0</td>\n",
              "    </tr>\n",
              "    <tr>\n",
              "      <th>4</th>\n",
              "      <td>50000.0</td>\n",
              "      <td>1</td>\n",
              "      <td>1</td>\n",
              "      <td>2</td>\n",
              "      <td>24.0</td>\n",
              "      <td>0.0</td>\n",
              "      <td>0.0</td>\n",
              "      <td>0.0</td>\n",
              "      <td>0.0</td>\n",
              "      <td>0</td>\n",
              "      <td>...</td>\n",
              "      <td>19837.0</td>\n",
              "      <td>19855.0</td>\n",
              "      <td>20151.0</td>\n",
              "      <td>1367.0</td>\n",
              "      <td>1606.0</td>\n",
              "      <td>692.0</td>\n",
              "      <td>709.0</td>\n",
              "      <td>721.0</td>\n",
              "      <td>692.0</td>\n",
              "      <td>0</td>\n",
              "    </tr>\n",
              "  </tbody>\n",
              "</table>\n",
              "<p>5 rows × 24 columns</p>\n",
              "</div>\n",
              "      <button class=\"colab-df-convert\" onclick=\"convertToInteractive('df-f479aac3-d268-4c26-97f8-4c1b846bedf1')\"\n",
              "              title=\"Convert this dataframe to an interactive table.\"\n",
              "              style=\"display:none;\">\n",
              "        \n",
              "  <svg xmlns=\"http://www.w3.org/2000/svg\" height=\"24px\"viewBox=\"0 0 24 24\"\n",
              "       width=\"24px\">\n",
              "    <path d=\"M0 0h24v24H0V0z\" fill=\"none\"/>\n",
              "    <path d=\"M18.56 5.44l.94 2.06.94-2.06 2.06-.94-2.06-.94-.94-2.06-.94 2.06-2.06.94zm-11 1L8.5 8.5l.94-2.06 2.06-.94-2.06-.94L8.5 2.5l-.94 2.06-2.06.94zm10 10l.94 2.06.94-2.06 2.06-.94-2.06-.94-.94-2.06-.94 2.06-2.06.94z\"/><path d=\"M17.41 7.96l-1.37-1.37c-.4-.4-.92-.59-1.43-.59-.52 0-1.04.2-1.43.59L10.3 9.45l-7.72 7.72c-.78.78-.78 2.05 0 2.83L4 21.41c.39.39.9.59 1.41.59.51 0 1.02-.2 1.41-.59l7.78-7.78 2.81-2.81c.8-.78.8-2.07 0-2.86zM5.41 20L4 18.59l7.72-7.72 1.47 1.35L5.41 20z\"/>\n",
              "  </svg>\n",
              "      </button>\n",
              "      \n",
              "  <style>\n",
              "    .colab-df-container {\n",
              "      display:flex;\n",
              "      flex-wrap:wrap;\n",
              "      gap: 12px;\n",
              "    }\n",
              "\n",
              "    .colab-df-convert {\n",
              "      background-color: #E8F0FE;\n",
              "      border: none;\n",
              "      border-radius: 50%;\n",
              "      cursor: pointer;\n",
              "      display: none;\n",
              "      fill: #1967D2;\n",
              "      height: 32px;\n",
              "      padding: 0 0 0 0;\n",
              "      width: 32px;\n",
              "    }\n",
              "\n",
              "    .colab-df-convert:hover {\n",
              "      background-color: #E2EBFA;\n",
              "      box-shadow: 0px 1px 2px rgba(60, 64, 67, 0.3), 0px 1px 3px 1px rgba(60, 64, 67, 0.15);\n",
              "      fill: #174EA6;\n",
              "    }\n",
              "\n",
              "    [theme=dark] .colab-df-convert {\n",
              "      background-color: #3B4455;\n",
              "      fill: #D2E3FC;\n",
              "    }\n",
              "\n",
              "    [theme=dark] .colab-df-convert:hover {\n",
              "      background-color: #434B5C;\n",
              "      box-shadow: 0px 1px 3px 1px rgba(0, 0, 0, 0.15);\n",
              "      filter: drop-shadow(0px 1px 2px rgba(0, 0, 0, 0.3));\n",
              "      fill: #FFFFFF;\n",
              "    }\n",
              "  </style>\n",
              "\n",
              "      <script>\n",
              "        const buttonEl =\n",
              "          document.querySelector('#df-f479aac3-d268-4c26-97f8-4c1b846bedf1 button.colab-df-convert');\n",
              "        buttonEl.style.display =\n",
              "          google.colab.kernel.accessAllowed ? 'block' : 'none';\n",
              "\n",
              "        async function convertToInteractive(key) {\n",
              "          const element = document.querySelector('#df-f479aac3-d268-4c26-97f8-4c1b846bedf1');\n",
              "          const dataTable =\n",
              "            await google.colab.kernel.invokeFunction('convertToInteractive',\n",
              "                                                     [key], {});\n",
              "          if (!dataTable) return;\n",
              "\n",
              "          const docLinkHtml = 'Like what you see? Visit the ' +\n",
              "            '<a target=\"_blank\" href=https://colab.research.google.com/notebooks/data_table.ipynb>data table notebook</a>'\n",
              "            + ' to learn more about interactive tables.';\n",
              "          element.innerHTML = '';\n",
              "          dataTable['output_type'] = 'display_data';\n",
              "          await google.colab.output.renderOutput(dataTable, element);\n",
              "          const docLink = document.createElement('div');\n",
              "          docLink.innerHTML = docLinkHtml;\n",
              "          element.appendChild(docLink);\n",
              "        }\n",
              "      </script>\n",
              "    </div>\n",
              "  </div>\n",
              "  "
            ]
          },
          "metadata": {},
          "execution_count": 16
        }
      ]
    },
    {
      "cell_type": "markdown",
      "metadata": {
        "id": "9O7hVltTxufK"
      },
      "source": [
        "## 4.3. Melihat korelasi setiap kolom dengan target (default_payment_next_month)"
      ]
    },
    {
      "cell_type": "markdown",
      "source": [
        "### Korelasi categorical columns dengan grafik"
      ],
      "metadata": {
        "id": "C7809RmdPF3S"
      }
    },
    {
      "cell_type": "code",
      "source": [
        "# membuat list kolom kategorikal\n",
        "categorical_columns = ['sex', 'marital_status', 'education_level', 'pay_1', 'pay_2', 'pay_3', 'pay_4', 'pay_5', 'pay_6']"
      ],
      "metadata": {
        "id": "dEyqQNnRNBBC"
      },
      "execution_count": null,
      "outputs": []
    },
    {
      "cell_type": "code",
      "source": [
        "fig, axes = plt.subplots(2,5, figsize = (20,10))\n",
        "\n",
        "axes = np.ravel(axes)\n",
        "for i in range(len(categorical_columns)):\n",
        "    sns.countplot(data = df_new, x = categorical_columns[i], ax = axes[i], hue='default_payment_next_month', order = df_new[categorical_columns[i]].value_counts().index)\n",
        "    axes[i].set_xticklabels(labels = df_new[categorical_columns[i]].unique(), rotation=45, ha='right')\n",
        "axes = np.reshape(axes, (2, 5))\n",
        "plt.tight_layout()"
      ],
      "metadata": {
        "colab": {
          "base_uri": "https://localhost:8080/",
          "height": 656
        },
        "id": "v2cRhjb3M-mi",
        "outputId": "af1f4649-3cc4-4c1e-bac4-b3bd2975b740"
      },
      "execution_count": null,
      "outputs": [
        {
          "output_type": "display_data",
          "data": {
            "text/plain": [
              "<Figure size 1440x720 with 10 Axes>"
            ],
            "image/png": "[encoded data removed]"
          },
          "metadata": {
            "needs_background": "light"
          }
        }
      ]
    },
    {
      "cell_type": "markdown",
      "source": [
        "Apabila dilihat secara sepintas, target dataset ini imbalance yaitu value 0/not default untuk bulan depan jauh lebih banyak daripada value 1/default untuk bulan depan."
      ],
      "metadata": {
        "id": "SoJxdsiUgLmH"
      }
    },
    {
      "cell_type": "markdown",
      "source": [
        "### Korelasi numerical columns dengan grafik"
      ],
      "metadata": {
        "id": "fhltP2V6PQoy"
      }
    },
    {
      "cell_type": "code",
      "source": [
        "# membuat list kolom numerikal\n",
        "numeric_columns = ['limit_balance', 'age', 'bill_amt_1',\n",
        "       'bill_amt_2', 'bill_amt_3', 'bill_amt_4', 'bill_amt_5', 'bill_amt_6',\n",
        "       'pay_amt_1', 'pay_amt_2', 'pay_amt_3', 'pay_amt_4', 'pay_amt_5',\n",
        "       'pay_amt_6']\n",
        "\n",
        "# membuat fungsi untuk menampilkan grafik displot\n",
        "def distplot(df, col, axes):\n",
        "    sns.distplot(df[col], ax = axes)\n",
        "    axes.axvline(df[col].mean(), linestyle = '--', color = \"red\")\n",
        "    axes.axvline(df[col].median(), linestyle = '--', color = \"green\")\n",
        "\n",
        "fig, axes = plt.subplots(6,5, figsize = (20,15))\n",
        "\n",
        "# menampilkan distplot tiap kolom numerik untuk analisis korelasi\n",
        "axes = np.ravel(axes)\n",
        "for i in range(len(numeric_columns)):\n",
        "    distplot(df_new, numeric_columns[i], axes[i])\n",
        "for i in range(len(numeric_columns), 6*5):\n",
        "    axes[i].axis(\"off\")\n",
        "axes = np.reshape(axes, (6, 5))\n",
        "plt.tight_layout()\n",
        "plt.show()"
      ],
      "metadata": {
        "colab": {
          "base_uri": "https://localhost:8080/",
          "height": 1000
        },
        "id": "YMs1RQwKObQj",
        "outputId": "0fc88575-1402-4134-8c60-2e46f690de89"
      },
      "execution_count": null,
      "outputs": [
        {
          "output_type": "stream",
          "name": "stderr",
          "text": [
            "/usr/local/lib/python3.7/dist-packages/seaborn/distributions.py:2619: FutureWarning: `distplot` is a deprecated function and will be removed in a future version. Please adapt your code to use either `displot` (a figure-level function with similar flexibility) or `histplot` (an axes-level function for histograms).\n",
            "  warnings.warn(msg, FutureWarning)\n",
            "/usr/local/lib/python3.7/dist-packages/seaborn/distributions.py:2619: FutureWarning: `distplot` is a deprecated function and will be removed in a future version. Please adapt your code to use either `displot` (a figure-level function with similar flexibility) or `histplot` (an axes-level function for histograms).\n",
            "  warnings.warn(msg, FutureWarning)\n",
            "/usr/local/lib/python3.7/dist-packages/seaborn/distributions.py:2619: FutureWarning: `distplot` is a deprecated function and will be removed in a future version. Please adapt your code to use either `displot` (a figure-level function with similar flexibility) or `histplot` (an axes-level function for histograms).\n",
            "  warnings.warn(msg, FutureWarning)\n",
            "/usr/local/lib/python3.7/dist-packages/seaborn/distributions.py:2619: FutureWarning: `distplot` is a deprecated function and will be removed in a future version. Please adapt your code to use either `displot` (a figure-level function with similar flexibility) or `histplot` (an axes-level function for histograms).\n",
            "  warnings.warn(msg, FutureWarning)\n",
            "/usr/local/lib/python3.7/dist-packages/seaborn/distributions.py:2619: FutureWarning: `distplot` is a deprecated function and will be removed in a future version. Please adapt your code to use either `displot` (a figure-level function with similar flexibility) or `histplot` (an axes-level function for histograms).\n",
            "  warnings.warn(msg, FutureWarning)\n",
            "/usr/local/lib/python3.7/dist-packages/seaborn/distributions.py:2619: FutureWarning: `distplot` is a deprecated function and will be removed in a future version. Please adapt your code to use either `displot` (a figure-level function with similar flexibility) or `histplot` (an axes-level function for histograms).\n",
            "  warnings.warn(msg, FutureWarning)\n",
            "/usr/local/lib/python3.7/dist-packages/seaborn/distributions.py:2619: FutureWarning: `distplot` is a deprecated function and will be removed in a future version. Please adapt your code to use either `displot` (a figure-level function with similar flexibility) or `histplot` (an axes-level function for histograms).\n",
            "  warnings.warn(msg, FutureWarning)\n",
            "/usr/local/lib/python3.7/dist-packages/seaborn/distributions.py:2619: FutureWarning: `distplot` is a deprecated function and will be removed in a future version. Please adapt your code to use either `displot` (a figure-level function with similar flexibility) or `histplot` (an axes-level function for histograms).\n",
            "  warnings.warn(msg, FutureWarning)\n",
            "/usr/local/lib/python3.7/dist-packages/seaborn/distributions.py:2619: FutureWarning: `distplot` is a deprecated function and will be removed in a future version. Please adapt your code to use either `displot` (a figure-level function with similar flexibility) or `histplot` (an axes-level function for histograms).\n",
            "  warnings.warn(msg, FutureWarning)\n",
            "/usr/local/lib/python3.7/dist-packages/seaborn/distributions.py:2619: FutureWarning: `distplot` is a deprecated function and will be removed in a future version. Please adapt your code to use either `displot` (a figure-level function with similar flexibility) or `histplot` (an axes-level function for histograms).\n",
            "  warnings.warn(msg, FutureWarning)\n",
            "/usr/local/lib/python3.7/dist-packages/seaborn/distributions.py:2619: FutureWarning: `distplot` is a deprecated function and will be removed in a future version. Please adapt your code to use either `displot` (a figure-level function with similar flexibility) or `histplot` (an axes-level function for histograms).\n",
            "  warnings.warn(msg, FutureWarning)\n",
            "/usr/local/lib/python3.7/dist-packages/seaborn/distributions.py:2619: FutureWarning: `distplot` is a deprecated function and will be removed in a future version. Please adapt your code to use either `displot` (a figure-level function with similar flexibility) or `histplot` (an axes-level function for histograms).\n",
            "  warnings.warn(msg, FutureWarning)\n",
            "/usr/local/lib/python3.7/dist-packages/seaborn/distributions.py:2619: FutureWarning: `distplot` is a deprecated function and will be removed in a future version. Please adapt your code to use either `displot` (a figure-level function with similar flexibility) or `histplot` (an axes-level function for histograms).\n",
            "  warnings.warn(msg, FutureWarning)\n",
            "/usr/local/lib/python3.7/dist-packages/seaborn/distributions.py:2619: FutureWarning: `distplot` is a deprecated function and will be removed in a future version. Please adapt your code to use either `displot` (a figure-level function with similar flexibility) or `histplot` (an axes-level function for histograms).\n",
            "  warnings.warn(msg, FutureWarning)\n"
          ]
        },
        {
          "output_type": "display_data",
          "data": {
            "text/plain": [
              "<Figure size 1440x1080 with 30 Axes>"
            ],
            "image/png": "[encoded data removed]"
          },
          "metadata": {
            "needs_background": "light"
          }
        }
      ]
    },
    {
      "cell_type": "markdown",
      "source": [
        "Apabila dilihat sepintas, dataset ini right-skewed."
      ],
      "metadata": {
        "id": "R2Svj0vegmLz"
      }
    },
    {
      "cell_type": "markdown",
      "metadata": {
        "id": "8oM9jiYCxufL"
      },
      "source": [
        "korelasi di setiap kolom akan dilihat dari :\n",
        "1. Distribusi data kolom tersebut dengan kolom target.\n",
        "2. Chi-Square test.\n",
        "    dilakukan dengan hypothesis testing dengan rules :\n",
        "    - H0: tidak ada korelasi antara kolom dan kolom target\n",
        "    - H1: ada korelasi antara kolom dan kolom target\n",
        "    - P-Val < alpha (0.05) --> berhasil menolak H0\n",
        "    - P-Val >= alpha (0.05) --> gagal menolak H0 --> kemungkinan ada korelasi --> masukkan kolom ke pemodelan"
      ]
    },
    {
      "cell_type": "markdown",
      "metadata": {
        "id": "2eLxxQLVxufM"
      },
      "source": [
        "### 4.3.1. Melihat korelasi default_payment_next_month dan age"
      ]
    },
    {
      "cell_type": "markdown",
      "metadata": {
        "id": "cjUE23ngxufP"
      },
      "source": [
        "grafik korelasi"
      ]
    },
    {
      "cell_type": "code",
      "execution_count": null,
      "metadata": {
        "colab": {
          "base_uri": "https://localhost:8080/",
          "height": 513
        },
        "id": "IVJQN1pnxufP",
        "outputId": "f7be520d-5f48-446a-92ad-52e5dfd1e9fc"
      },
      "outputs": [
        {
          "output_type": "display_data",
          "data": {
            "text/plain": [
              "<Figure size 1080x576 with 1 Axes>"
            ],
            "image/png": "[encoded data removed]"
          },
          "metadata": {
            "needs_background": "light"
          }
        }
      ],
      "source": [
        "fig, axes = plt.subplots(ncols=1,figsize=(15,8))\n",
        "axes.hist(df_new[df_new['default_payment_next_month'] == 1].age,\n",
        "         histtype='step', label='1')\n",
        "axes.hist(df_new[df_new['default_payment_next_month'] == 0].age,\n",
        "         histtype='step', label='0')\n",
        "axes.set_title('Grafik Distribusi default_payment_next_month berdasarkan Age')\n",
        "axes.legend()\n",
        "axes.set_ylabel('count')\n",
        "axes.set_xlabel('age')\n",
        "axes.grid()"
      ]
    },
    {
      "cell_type": "markdown",
      "metadata": {
        "id": "tHej_-B9xufQ"
      },
      "source": [
        "- sebagian esar data ini adalah orang-orang di usia antara 20-30 tahun.\n",
        "- terdapat pattern dimana semakin tua usia, maka kemungkinan credit card default bulan depan semakin kecil"
      ]
    },
    {
      "cell_type": "markdown",
      "metadata": {
        "id": "TzV2AmIqxufR"
      },
      "source": [
        "Chi-Square Age"
      ]
    },
    {
      "cell_type": "code",
      "execution_count": null,
      "metadata": {
        "colab": {
          "base_uri": "https://localhost:8080/"
        },
        "id": "j9lfDTRXxufR",
        "outputId": "821a60be-0585-45f8-b0d7-e0bec854d650"
      },
      "outputs": [
        {
          "output_type": "stream",
          "name": "stdout",
          "text": [
            "Approach 1: The p-value approach to hypothesis testing in the decision rule\n",
            "chisquare-score is: 56.93225473924361  and p value is: 0.17679420406607826\n",
            "Failed to reject the null hypothesis.\n",
            "\n",
            "--------------------------------------------------------------------------------------\n",
            "Approach 2: The critical value approach to hypothesis testing in the decision rule\n",
            "chisquare-score is: 56.93225473924361  and critical value is: 65.17076890356982\n",
            "Failed to reject the null hypothesis.\n"
          ]
        }
      ],
      "source": [
        "# Membuat contingency table\n",
        "data_crosstab = pd.crosstab(df_new['default_payment_next_month'],\n",
        "                            df_new['age'],\n",
        "                           margins=True, margins_name=\"Total\")\n",
        "\n",
        "# Mendefinisikan significance level\n",
        "alpha = 0.05\n",
        "\n",
        "# Perhitungan Chisquare\n",
        "chi_square = 0\n",
        "rows = data['default_payment_next_month'].unique()\n",
        "columns = data['age'].unique()\n",
        "for i in columns:\n",
        "    for j in rows:\n",
        "        O = data_crosstab[i][j]\n",
        "        E = data_crosstab[i]['Total'] * data_crosstab['Total'][j] / data_crosstab['Total']['Total']\n",
        "        chi_square += (O-E)**2/E\n",
        "\n",
        "# Pendekatan dengan p-value\n",
        "print(\"Approach 1: The p-value approach to hypothesis testing in the decision rule\")\n",
        "p_value = 1 - stats.chi2.cdf(chi_square, (len(rows)-1)*(len(columns)-1))\n",
        "conclusion = \"Failed to reject the null hypothesis.\"\n",
        "if p_value <= alpha:\n",
        "    conclusion = \"Null Hypothesis is rejected.\"\n",
        "        \n",
        "print(\"chisquare-score is:\", chi_square, \" and p value is:\", p_value)\n",
        "print(conclusion)\n",
        "    \n",
        "# Pendekatan dengan critical value\n",
        "print(\"\\n--------------------------------------------------------------------------------------\")\n",
        "print(\"Approach 2: The critical value approach to hypothesis testing in the decision rule\")\n",
        "critical_value = stats.chi2.ppf(1-alpha, (len(rows)-1)*(len(columns)-1))\n",
        "conclusion = \"Failed to reject the null hypothesis.\"\n",
        "if chi_square > critical_value:\n",
        "    conclusion = \"Null Hypothesis is rejected.\"\n",
        "        \n",
        "print(\"chisquare-score is:\", chi_square, \" and critical value is:\", critical_value)\n",
        "print(conclusion)"
      ]
    },
    {
      "cell_type": "markdown",
      "metadata": {
        "id": "jOUoZ7E-xufT"
      },
      "source": [
        "berdasarkan perhitungan chi-square test, terdapat kemungkinan age tidak berkorelasi dengan target. Akan tetapi berdasarkan distribusinya di grafik korelasi, terdapat pattern yang menarik antara age dan target.\n",
        "\n",
        "conclusion : age dimasukkan sebagai fitur ke model ML."
      ]
    },
    {
      "cell_type": "markdown",
      "metadata": {
        "id": "UPS2rqzExufU"
      },
      "source": [
        "### 4.3.2. Melihat korelasi default_payment_next_month dan sex"
      ]
    },
    {
      "cell_type": "markdown",
      "metadata": {
        "id": "6tVCwbTfxufV"
      },
      "source": [
        "grafik korelasi"
      ]
    },
    {
      "cell_type": "code",
      "execution_count": null,
      "metadata": {
        "colab": {
          "base_uri": "https://localhost:8080/",
          "height": 513
        },
        "id": "Pp9efu4IxufV",
        "outputId": "5b37c8f2-2cfe-4f14-a3a0-b734de502acb"
      },
      "outputs": [
        {
          "output_type": "display_data",
          "data": {
            "text/plain": [
              "<Figure size 1080x576 with 1 Axes>"
            ],
            "image/png": "[encoded data removed]"
          },
          "metadata": {
            "needs_background": "light"
          }
        }
      ],
      "source": [
        "fig, axes = plt.subplots(ncols=1,figsize=(15,8))\n",
        "axes.hist(df_new[df_new['default_payment_next_month'] == 1].sex,\n",
        "         histtype='step', label='yes')\n",
        "axes.hist(df_new[df_new['default_payment_next_month'] == 0].sex,\n",
        "         histtype='step', label='no')\n",
        "axes.set_title('Grafik Distribusi default_payment_next_month berdasarkan sex')\n",
        "axes.legend()\n",
        "axes.set_ylabel('count')\n",
        "axes.set_xlabel('sex')\n",
        "axes.grid()"
      ]
    },
    {
      "cell_type": "markdown",
      "metadata": {
        "id": "KfY07v36xufW"
      },
      "source": [
        "Berdasarkan grafik:\n",
        "- sebagian besar gender data ini female (2)\n",
        "- gender female memiliki probabilitas lebih besar untuk default kartu kreditnya bulan depan."
      ]
    },
    {
      "cell_type": "markdown",
      "metadata": {
        "id": "7AYuGbUhxufW"
      },
      "source": [
        "Chi-Square sex"
      ]
    },
    {
      "cell_type": "code",
      "execution_count": null,
      "metadata": {
        "colab": {
          "base_uri": "https://localhost:8080/"
        },
        "id": "Z4DYHbJpxufX",
        "outputId": "2d681e67-f30e-45f7-8afb-05e7b9c5177a"
      },
      "outputs": [
        {
          "output_type": "stream",
          "name": "stdout",
          "text": [
            "Approach 1: The p-value approach to hypothesis testing in the decision rule\n",
            "chisquare-score is: 1.4045101337994392  and p value is: 0.23596988449992484\n",
            "Failed to reject the null hypothesis.\n",
            "\n",
            "--------------------------------------------------------------------------------------\n",
            "Approach 2: The critical value approach to hypothesis testing in the decision rule\n",
            "chisquare-score is: 1.4045101337994392  and critical value is: 3.841458820694124\n",
            "Failed to reject the null hypothesis.\n"
          ]
        }
      ],
      "source": [
        "# Membuat contingency table\n",
        "data_crosstab = pd.crosstab(df_new['default_payment_next_month'],\n",
        "                            df_new['sex'],\n",
        "                           margins=True, margins_name=\"Total\")\n",
        "\n",
        "# Mendefinisikan significance level\n",
        "alpha = 0.05\n",
        "\n",
        "# Perhitungan Chisquare\n",
        "chi_square = 0\n",
        "rows = data['default_payment_next_month'].unique()\n",
        "columns = data['sex'].unique()\n",
        "for i in columns:\n",
        "    for j in rows:\n",
        "        O = data_crosstab[i][j]\n",
        "        E = data_crosstab[i]['Total'] * data_crosstab['Total'][j] / data_crosstab['Total']['Total']\n",
        "        chi_square += (O-E)**2/E\n",
        "\n",
        "# Pendekatan dengan p-value\n",
        "print(\"Approach 1: The p-value approach to hypothesis testing in the decision rule\")\n",
        "p_value = 1 - stats.chi2.cdf(chi_square, (len(rows)-1)*(len(columns)-1))\n",
        "conclusion = \"Failed to reject the null hypothesis.\"\n",
        "if p_value <= alpha:\n",
        "    conclusion = \"Null Hypothesis is rejected.\"\n",
        "        \n",
        "print(\"chisquare-score is:\", chi_square, \" and p value is:\", p_value)\n",
        "print(conclusion)\n",
        "    \n",
        "# Pendekatan dengan critical value\n",
        "print(\"\\n--------------------------------------------------------------------------------------\")\n",
        "print(\"Approach 2: The critical value approach to hypothesis testing in the decision rule\")\n",
        "critical_value = stats.chi2.ppf(1-alpha, (len(rows)-1)*(len(columns)-1))\n",
        "conclusion = \"Failed to reject the null hypothesis.\"\n",
        "if chi_square > critical_value:\n",
        "    conclusion = \"Null Hypothesis is rejected.\"\n",
        "        \n",
        "print(\"chisquare-score is:\", chi_square, \" and critical value is:\", critical_value)\n",
        "print(conclusion)"
      ]
    },
    {
      "cell_type": "markdown",
      "metadata": {
        "id": "qRLODCC-xufY"
      },
      "source": [
        "berdasarkan perhitungan chi-square test, terdapat kemungkinan sex tidak berkorelasi dengan target. Akan tetapi berdasarkan distribusinya di grafik korelasi, terdapat pattern yang menarik antara sex dan target.\n",
        "\n",
        "conclusion : sex dimasukkan sebagai fitur ke model ML."
      ]
    },
    {
      "cell_type": "markdown",
      "metadata": {
        "id": "0kzdsRusxufY"
      },
      "source": [
        "### 4.3.3. Melihat korelasi default_payment_next_month dan education_level"
      ]
    },
    {
      "cell_type": "markdown",
      "metadata": {
        "id": "56yFP-2CxufZ"
      },
      "source": [
        "grafik korelasi"
      ]
    },
    {
      "cell_type": "code",
      "execution_count": null,
      "metadata": {
        "colab": {
          "base_uri": "https://localhost:8080/",
          "height": 514
        },
        "id": "5k4Jg45Txufa",
        "outputId": "7c4a56f6-30dc-4c99-90b3-8955c62ed6f4"
      },
      "outputs": [
        {
          "output_type": "display_data",
          "data": {
            "text/plain": [
              "<Figure size 1080x576 with 1 Axes>"
            ],
            "image/png": "[encoded data removed]"
          },
          "metadata": {
            "needs_background": "light"
          }
        }
      ],
      "source": [
        "fig, axes = plt.subplots(ncols=1,figsize=(15,8))\n",
        "axes.hist(df_new[df_new['default_payment_next_month'] == 1].education_level,\n",
        "         histtype='step', label='yes')\n",
        "axes.hist(df_new[df_new['default_payment_next_month'] == 0].education_level,\n",
        "         histtype='step', label='no')\n",
        "axes.set_title('Grafik Distribusi Income berdasarkan education_level')\n",
        "axes.legend()\n",
        "axes.set_ylabel('count')\n",
        "axes.set_xlabel('education_level')\n",
        "axes.grid()"
      ]
    },
    {
      "cell_type": "markdown",
      "source": [
        "education_level (1=graduate school, 2=university, 3=high school, 4=others, 5=unknown, 6=unknown)"
      ],
      "metadata": {
        "id": "cnuE5cvy_l1F"
      }
    },
    {
      "cell_type": "markdown",
      "metadata": {
        "id": "cXAP35kYxufc"
      },
      "source": [
        "Berdasarkan grafik:\n",
        "- sebagian besar education_level data ini adalah university\n",
        "- orang-orang dengan education level university memiliki probabilitas terbesar untuk default kartu kreditnya bulan depan"
      ]
    },
    {
      "cell_type": "markdown",
      "metadata": {
        "id": "UU8byZw7xufg"
      },
      "source": [
        "Chi-Square education_level"
      ]
    },
    {
      "cell_type": "code",
      "execution_count": null,
      "metadata": {
        "colab": {
          "base_uri": "https://localhost:8080/"
        },
        "id": "MoAo8aXkxufh",
        "outputId": "5b7faf18-8e9b-414a-c4b4-ebce44d4545d"
      },
      "outputs": [
        {
          "output_type": "stream",
          "name": "stdout",
          "text": [
            "Approach 1: The p-value approach to hypothesis testing in the decision rule\n",
            "chisquare-score is: 26.38560660360795  and p value is: 2.6454923444885203e-05\n",
            "Null Hypothesis is rejected.\n",
            "\n",
            "--------------------------------------------------------------------------------------\n",
            "Approach 2: The critical value approach to hypothesis testing in the decision rule\n",
            "chisquare-score is: 26.38560660360795  and critical value is: 9.487729036781154\n",
            "Null Hypothesis is rejected.\n"
          ]
        }
      ],
      "source": [
        "# Membuat contingency table\n",
        "data_crosstab = pd.crosstab(df_new['default_payment_next_month'],\n",
        "                            df_new['education_level'],\n",
        "                           margins=True, margins_name=\"Total\")\n",
        "\n",
        "# Mendefinisikan significance level\n",
        "alpha = 0.05\n",
        "\n",
        "# Perhitungan Chisquare\n",
        "chi_square = 0\n",
        "rows = data['default_payment_next_month'].unique()\n",
        "columns = data['education_level'].unique()\n",
        "for i in columns:\n",
        "    for j in rows:\n",
        "        O = data_crosstab[i][j]\n",
        "        E = data_crosstab[i]['Total'] * data_crosstab['Total'][j] / data_crosstab['Total']['Total']\n",
        "        chi_square += (O-E)**2/E\n",
        "\n",
        "# Pendekatan dengan p-value\n",
        "print(\"Approach 1: The p-value approach to hypothesis testing in the decision rule\")\n",
        "p_value = 1 - stats.chi2.cdf(chi_square, (len(rows)-1)*(len(columns)-1))\n",
        "conclusion = \"Failed to reject the null hypothesis.\"\n",
        "if p_value <= alpha:\n",
        "    conclusion = \"Null Hypothesis is rejected.\"\n",
        "        \n",
        "print(\"chisquare-score is:\", chi_square, \" and p value is:\", p_value)\n",
        "print(conclusion)\n",
        "    \n",
        "# Pendekatan dengan critical value\n",
        "print(\"\\n--------------------------------------------------------------------------------------\")\n",
        "print(\"Approach 2: The critical value approach to hypothesis testing in the decision rule\")\n",
        "critical_value = stats.chi2.ppf(1-alpha, (len(rows)-1)*(len(columns)-1))\n",
        "conclusion = \"Failed to reject the null hypothesis.\"\n",
        "if chi_square > critical_value:\n",
        "    conclusion = \"Null Hypothesis is rejected.\"\n",
        "        \n",
        "print(\"chisquare-score is:\", chi_square, \" and critical value is:\", critical_value)\n",
        "print(conclusion)"
      ]
    },
    {
      "cell_type": "markdown",
      "metadata": {
        "id": "4-sYWjqPxufi"
      },
      "source": [
        "berdasarkan perhitungan chi-square test, diambil kesimpulan bahwa terdapat korelasi antara default_payment_next_month dengan education_level.\n",
        "\n",
        "conclusion : education_level dimasukkan sebagai fitur ke model ML."
      ]
    },
    {
      "cell_type": "markdown",
      "metadata": {
        "id": "OjfZtARWxufj"
      },
      "source": [
        "### 4.3.4. Melihat korelasi default_payment_next_month dan marital_status"
      ]
    },
    {
      "cell_type": "markdown",
      "metadata": {
        "id": "bugWc9IAxufk"
      },
      "source": [
        "grafik korelasi"
      ]
    },
    {
      "cell_type": "code",
      "execution_count": null,
      "metadata": {
        "colab": {
          "base_uri": "https://localhost:8080/",
          "height": 514
        },
        "id": "chhJFyG0xufk",
        "outputId": "ee11e6c1-aed6-45cd-a53a-e5da0f6493dd"
      },
      "outputs": [
        {
          "output_type": "display_data",
          "data": {
            "text/plain": [
              "<Figure size 1080x576 with 1 Axes>"
            ],
            "image/png": "[encoded data removed]"
          },
          "metadata": {
            "needs_background": "light"
          }
        }
      ],
      "source": [
        "fig, axes = plt.subplots(ncols=1,figsize=(15,8))\n",
        "axes.hist(df_new[df_new['default_payment_next_month'] == 1].marital_status,\n",
        "         histtype='step', label='yes')\n",
        "axes.hist(df_new[df_new['default_payment_next_month'] == 0].marital_status,\n",
        "         histtype='step', label='no')\n",
        "axes.set_title('Grafik Distribusi Income berdasarkan marital_status')\n",
        "axes.legend()\n",
        "axes.set_ylabel('count')\n",
        "axes.set_xlabel('marital_status')\n",
        "axes.grid()"
      ]
    },
    {
      "cell_type": "markdown",
      "source": [
        "marital_status (1=married, 2=single, 3=others)"
      ],
      "metadata": {
        "id": "b63LufShG-No"
      }
    },
    {
      "cell_type": "markdown",
      "metadata": {
        "id": "vuERRc6vxufl"
      },
      "source": [
        "Berdasarkan grafik:\n",
        "- sebagian besar data ini adalah orang-orang yang memiliki marital_status single"
      ]
    },
    {
      "cell_type": "markdown",
      "metadata": {
        "id": "WsRySGGnxufl"
      },
      "source": [
        "Chi-Square marital_status  "
      ]
    },
    {
      "cell_type": "code",
      "execution_count": null,
      "metadata": {
        "colab": {
          "base_uri": "https://localhost:8080/"
        },
        "id": "4eC4vje6xufm",
        "outputId": "21bce8ae-04d1-434e-c531-b1fdfb658f58"
      },
      "outputs": [
        {
          "output_type": "stream",
          "name": "stdout",
          "text": [
            "Approach 1: The p-value approach to hypothesis testing in the decision rule\n",
            "chisquare-score is: 3.4895444774651327  and p value is: 0.3221207009667394\n",
            "Failed to reject the null hypothesis.\n",
            "\n",
            "--------------------------------------------------------------------------------------\n",
            "Approach 2: The critical value approach to hypothesis testing in the decision rule\n",
            "chisquare-score is: 3.4895444774651327  and critical value is: 7.814727903251179\n",
            "Failed to reject the null hypothesis.\n"
          ]
        }
      ],
      "source": [
        "# Membuat contingency table\n",
        "data_crosstab = pd.crosstab(df_new['default_payment_next_month'],\n",
        "                            df_new['marital_status'],\n",
        "                           margins=True, margins_name=\"Total\")\n",
        "\n",
        "# Mendefinisikan significance level\n",
        "alpha = 0.05\n",
        "\n",
        "# Perhitungan Chisquare\n",
        "chi_square = 0\n",
        "rows = data['default_payment_next_month'].unique()\n",
        "columns = data['marital_status'].unique()\n",
        "for i in columns:\n",
        "    for j in rows:\n",
        "        O = data_crosstab[i][j]\n",
        "        E = data_crosstab[i]['Total'] * data_crosstab['Total'][j] / data_crosstab['Total']['Total']\n",
        "        chi_square += (O-E)**2/E\n",
        "\n",
        "# Pendekatan dengan p-value\n",
        "print(\"Approach 1: The p-value approach to hypothesis testing in the decision rule\")\n",
        "p_value = 1 - stats.chi2.cdf(chi_square, (len(rows)-1)*(len(columns)-1))\n",
        "conclusion = \"Failed to reject the null hypothesis.\"\n",
        "if p_value <= alpha:\n",
        "    conclusion = \"Null Hypothesis is rejected.\"\n",
        "        \n",
        "print(\"chisquare-score is:\", chi_square, \" and p value is:\", p_value)\n",
        "print(conclusion)\n",
        "    \n",
        "# Pendekatan dengan critical value\n",
        "print(\"\\n--------------------------------------------------------------------------------------\")\n",
        "print(\"Approach 2: The critical value approach to hypothesis testing in the decision rule\")\n",
        "critical_value = stats.chi2.ppf(1-alpha, (len(rows)-1)*(len(columns)-1))\n",
        "conclusion = \"Failed to reject the null hypothesis.\"\n",
        "if chi_square > critical_value:\n",
        "    conclusion = \"Null Hypothesis is rejected.\"\n",
        "        \n",
        "print(\"chisquare-score is:\", chi_square, \" and critical value is:\", critical_value)\n",
        "print(conclusion)"
      ]
    },
    {
      "cell_type": "markdown",
      "metadata": {
        "id": "WvnBUpXvxufn"
      },
      "source": [
        "berdasarkan perhitungan chi-square test, terdapat kemungkinan marital_status tidak berkorelasi dengan target. Akan tetapi berdasarkan distribusinya di grafik korelasi, terdapat pattern yang menarik antara marital_status dan target.\n",
        "\n",
        "conclusion : marital_status dimasukkan sebagai fitur ke model ML."
      ]
    },
    {
      "cell_type": "markdown",
      "metadata": {
        "id": "45vkOyCQxufn"
      },
      "source": [
        "### 4.3.5. Melihat korelasi default_payment_next_month dan pay_1"
      ]
    },
    {
      "cell_type": "markdown",
      "source": [
        "analisis korelasi dengan pay_1 mewakili analisis dengan pay_n. n = payment bulan tertentu."
      ],
      "metadata": {
        "id": "7_K-x60JMFQZ"
      }
    },
    {
      "cell_type": "markdown",
      "metadata": {
        "id": "gPrquVm6xufo"
      },
      "source": [
        "grafik korelasi"
      ]
    },
    {
      "cell_type": "code",
      "execution_count": null,
      "metadata": {
        "colab": {
          "base_uri": "https://localhost:8080/",
          "height": 514
        },
        "id": "gk5IkjTOxufo",
        "outputId": "6c58c6a4-73c1-4bb6-eeaf-80836f1555f6"
      },
      "outputs": [
        {
          "output_type": "display_data",
          "data": {
            "text/plain": [
              "<Figure size 1080x576 with 1 Axes>"
            ],
            "image/png": "[encoded data removed]"
          },
          "metadata": {
            "needs_background": "light"
          }
        }
      ],
      "source": [
        "fig, axes = plt.subplots(ncols=1,figsize=(15,8))\n",
        "axes.hist(df_new[df_new['default_payment_next_month'] == 1].pay_1,\n",
        "         histtype='step', label='yes')\n",
        "axes.hist(df_new[df_new['default_payment_next_month'] == 0].pay_1,\n",
        "         histtype='step', label='no')\n",
        "axes.set_title('Grafik Distribusi default_payment_next_month berdasarkan pay_1')\n",
        "axes.legend()\n",
        "axes.set_ylabel('count')\n",
        "axes.set_xlabel('pay_1')\n",
        "axes.grid()"
      ]
    },
    {
      "cell_type": "markdown",
      "source": [
        "(-1=pay duly, 1=payment delay for one month, 2=payment delay for two months, … 8=payment delay for eight months, 9=payment delay for nine months and above)"
      ],
      "metadata": {
        "id": "8VlL4vwmKh5x"
      }
    },
    {
      "cell_type": "markdown",
      "metadata": {
        "id": "RdCU4JFbxufp"
      },
      "source": [
        "Berdasarkan grafik:\n",
        "- sebagian besar data ini adalah orang-orang dengan payment lateness 0 month\n",
        "- orang-orang dengan payment lateness 2 bulan memiliki probabilitas default kredit cardnya bulan depan."
      ]
    },
    {
      "cell_type": "code",
      "source": [
        "fig, axes = plt.subplots(ncols=1,figsize=(15,8))\n",
        "axes.hist(df_new[df_new['default_payment_next_month'] == 1].pay_2,\n",
        "         histtype='step', label='yes')\n",
        "axes.hist(df_new[df_new['default_payment_next_month'] == 0].pay_2,\n",
        "         histtype='step', label='no')\n",
        "axes.set_title('Grafik Distribusi default_payment_next_month berdasarkan pay_2')\n",
        "axes.legend()\n",
        "axes.set_ylabel('count')\n",
        "axes.set_xlabel('pay_2')\n",
        "axes.grid()"
      ],
      "metadata": {
        "colab": {
          "base_uri": "https://localhost:8080/",
          "height": 514
        },
        "id": "FVT6IVXvMQjx",
        "outputId": "17088868-2319-4006-967f-c9288067138f"
      },
      "execution_count": null,
      "outputs": [
        {
          "output_type": "display_data",
          "data": {
            "text/plain": [
              "<Figure size 1080x576 with 1 Axes>"
            ],
            "image/png": "[encoded data removed]"
          },
          "metadata": {
            "needs_background": "light"
          }
        }
      ]
    },
    {
      "cell_type": "markdown",
      "metadata": {
        "id": "yNpgimTzxufs"
      },
      "source": [
        "Diambil kesimpulan bahwa bisa jadi terdapat korelasi antara default_payment_next_month dengan payment delay. conclusion : pay_n dimasukkan sebagai fitur ke model ML"
      ]
    },
    {
      "cell_type": "markdown",
      "metadata": {
        "id": "XVV-s8D8xuft"
      },
      "source": [
        "### 4.3.6. Melihat korelasi default_payment_next_month dan bill_amt_1"
      ]
    },
    {
      "cell_type": "markdown",
      "metadata": {
        "id": "sfwy0uiWxuft"
      },
      "source": [
        "grafik korelasi"
      ]
    },
    {
      "cell_type": "code",
      "execution_count": null,
      "metadata": {
        "colab": {
          "base_uri": "https://localhost:8080/",
          "height": 514
        },
        "id": "lHL3_Upqxuft",
        "outputId": "df00030b-9634-40a4-8713-385773c4a5a1"
      },
      "outputs": [
        {
          "output_type": "display_data",
          "data": {
            "text/plain": [
              "<Figure size 1080x576 with 1 Axes>"
            ],
            "image/png": "[encoded data removed]"
          },
          "metadata": {
            "needs_background": "light"
          }
        }
      ],
      "source": [
        "fig, axes = plt.subplots(ncols=1,figsize=(15,8))\n",
        "axes.hist(df_new[df_new['default_payment_next_month'] == 1].bill_amt_1,\n",
        "         histtype='step', label='yes')\n",
        "axes.hist(df_new[df_new['default_payment_next_month'] == 0].bill_amt_1,\n",
        "         histtype='step', label='no')\n",
        "axes.set_title('Grafik Distribusi Income berdasarkan bill_amt_1')\n",
        "axes.legend()\n",
        "axes.set_ylabel('count')\n",
        "axes.set_xlabel('bill_amt_1')\n",
        "axes.grid()"
      ]
    },
    {
      "cell_type": "markdown",
      "metadata": {
        "id": "i8Aqdwmhxufu"
      },
      "source": [
        "Berdasarkan grafik:\n",
        "- sebagian besar data ini adalah orang-orang dengan range bill_amount_1 0-100000.\n",
        "- semakin besar bill_amt_1, semakin kecil kemungkinan default kredit cardnya bulan depan. akan tetapi, hal yang sama terjadi dengan kemungkinan tidak default."
      ]
    },
    {
      "cell_type": "markdown",
      "metadata": {
        "id": "sfb4-Fbfxufu"
      },
      "source": [
        "Chi-Square bill_amt_1"
      ]
    },
    {
      "cell_type": "code",
      "execution_count": null,
      "metadata": {
        "colab": {
          "base_uri": "https://localhost:8080/"
        },
        "id": "ioLgNC_bxufv",
        "outputId": "124d563e-2ae1-4fa0-f597-3038ff959c94"
      },
      "outputs": [
        {
          "output_type": "stream",
          "name": "stdout",
          "text": [
            "Approach 1: The p-value approach to hypothesis testing in the decision rule\n",
            "chisquare-score is: 2614.8921958453598  and p value is: 0.642452320297622\n",
            "Failed to reject the null hypothesis.\n",
            "\n",
            "--------------------------------------------------------------------------------------\n",
            "Approach 2: The critical value approach to hypothesis testing in the decision rule\n",
            "chisquare-score is: 2614.8921958453598  and critical value is: 2762.6924503003015\n",
            "Failed to reject the null hypothesis.\n"
          ]
        }
      ],
      "source": [
        "# Membuat contingency table\n",
        "data_crosstab = pd.crosstab(df_new['default_payment_next_month'],\n",
        "                            df_new['bill_amt_1'],\n",
        "                           margins=True, margins_name=\"Total\")\n",
        "\n",
        "# Mendefinisikan significance level\n",
        "alpha = 0.05\n",
        "\n",
        "# Perhitungan Chisquare\n",
        "chi_square = 0\n",
        "rows = data['default_payment_next_month'].unique()\n",
        "columns = data['bill_amt_1'].unique()\n",
        "for i in columns:\n",
        "    for j in rows:\n",
        "        O = data_crosstab[i][j]\n",
        "        E = data_crosstab[i]['Total'] * data_crosstab['Total'][j] / data_crosstab['Total']['Total']\n",
        "        chi_square += (O-E)**2/E\n",
        "\n",
        "# Pendekatan dengan p-value\n",
        "print(\"Approach 1: The p-value approach to hypothesis testing in the decision rule\")\n",
        "p_value = 1 - stats.chi2.cdf(chi_square, (len(rows)-1)*(len(columns)-1))\n",
        "conclusion = \"Failed to reject the null hypothesis.\"\n",
        "if p_value <= alpha:\n",
        "    conclusion = \"Null Hypothesis is rejected.\"\n",
        "        \n",
        "print(\"chisquare-score is:\", chi_square, \" and p value is:\", p_value)\n",
        "print(conclusion)\n",
        "    \n",
        "# Pendekatan dengan critical value\n",
        "print(\"\\n--------------------------------------------------------------------------------------\")\n",
        "print(\"Approach 2: The critical value approach to hypothesis testing in the decision rule\")\n",
        "critical_value = stats.chi2.ppf(1-alpha, (len(rows)-1)*(len(columns)-1))\n",
        "conclusion = \"Failed to reject the null hypothesis.\"\n",
        "if chi_square > critical_value:\n",
        "    conclusion = \"Null Hypothesis is rejected.\"\n",
        "        \n",
        "print(\"chisquare-score is:\", chi_square, \" and critical value is:\", critical_value)\n",
        "print(conclusion)"
      ]
    },
    {
      "cell_type": "markdown",
      "metadata": {
        "id": "rWm8Bs-Rxufw"
      },
      "source": [
        "berdasarkan perhitangan chi-square test, diambil kesimpulan bahwa bisa jadi tidak ada korelasi antara default_payment_next_month dengan bill_amt_1. Kemudian, berdasarkan grafik, probabilitas antara default dan not default menunjukkan pattern yang sama seiring bertambahnya bill_amt_1 yang mengindikasikan kolom ini tidak cocok untuk prediksi default_payment_next_month.\n",
        "\n",
        "conclusion : bill_amt_n tidak dimasukkan sebagai fitur ke model ML"
      ]
    },
    {
      "cell_type": "markdown",
      "metadata": {
        "id": "V8C_FXs5xufw"
      },
      "source": [
        "### 4.3.7. Melihat korelasi default_payment_next_month dan pay_amt_1"
      ]
    },
    {
      "cell_type": "markdown",
      "metadata": {
        "id": "GXbO7-frxufx"
      },
      "source": [
        "grafik korelasi"
      ]
    },
    {
      "cell_type": "code",
      "execution_count": null,
      "metadata": {
        "colab": {
          "base_uri": "https://localhost:8080/",
          "height": 514
        },
        "id": "LBmxMXtdxufx",
        "outputId": "55ce5d31-f003-41e8-ae85-914d2d44e58a"
      },
      "outputs": [
        {
          "output_type": "display_data",
          "data": {
            "text/plain": [
              "<Figure size 1080x576 with 1 Axes>"
            ],
            "image/png": "[encoded data removed]"
          },
          "metadata": {
            "needs_background": "light"
          }
        }
      ],
      "source": [
        "fig, axes = plt.subplots(ncols=1,figsize=(15,8))\n",
        "axes.hist(df_new[df_new['default_payment_next_month'] == 1].pay_amt_1,\n",
        "         histtype='step', label='yes')\n",
        "axes.hist(df_new[df_new['default_payment_next_month'] == 0].pay_amt_1,\n",
        "         histtype='step', label='no')\n",
        "axes.set_title('Grafik Distribusi default_payment_next_month berdasarkan pay_amt_1')\n",
        "axes.legend()\n",
        "axes.set_ylabel('count')\n",
        "axes.set_xlabel('pay_amt_1')\n",
        "axes.grid()"
      ]
    },
    {
      "cell_type": "markdown",
      "metadata": {
        "id": "vJZ_lpCcxufy"
      },
      "source": [
        "Berdasarkan grafik:\n",
        "- sebagian besar data ini adalah orang-orang yang memiliki pay amount di range 0-50000.\n",
        "- grafik menunjukkan kurangnya korelasi antara pay amount dengan default_payment_next_month."
      ]
    },
    {
      "cell_type": "markdown",
      "metadata": {
        "id": "6SG_6PYXxufy"
      },
      "source": [
        "Chi-Square pay_amt_1"
      ]
    },
    {
      "cell_type": "code",
      "execution_count": null,
      "metadata": {
        "colab": {
          "base_uri": "https://localhost:8080/"
        },
        "id": "e_ryNhAUxufy",
        "outputId": "5f405abb-0786-495b-d2fc-af897e189e37"
      },
      "outputs": [
        {
          "output_type": "stream",
          "name": "stdout",
          "text": [
            "Approach 1: The p-value approach to hypothesis testing in the decision rule\n",
            "chisquare-score is: 1235.0950338270407  and p value is: 0.9997716178017971\n",
            "Failed to reject the null hypothesis.\n",
            "\n",
            "--------------------------------------------------------------------------------------\n",
            "Approach 2: The critical value approach to hypothesis testing in the decision rule\n",
            "chisquare-score is: 1235.0950338270407  and critical value is: 1502.5937621561027\n",
            "Failed to reject the null hypothesis.\n"
          ]
        }
      ],
      "source": [
        "# Membuat contingency table\n",
        "data_crosstab = pd.crosstab(df_new['default_payment_next_month'],\n",
        "                            df_new['pay_amt_1'],\n",
        "                           margins=True, margins_name=\"Total\")\n",
        "\n",
        "# Mendefinisikan significance level\n",
        "alpha = 0.05\n",
        "\n",
        "# Perhitungan Chisquare\n",
        "chi_square = 0\n",
        "rows = data['default_payment_next_month'].unique()\n",
        "columns = data['pay_amt_1'].unique()\n",
        "for i in columns:\n",
        "    for j in rows:\n",
        "        O = data_crosstab[i][j]\n",
        "        E = data_crosstab[i]['Total'] * data_crosstab['Total'][j] / data_crosstab['Total']['Total']\n",
        "        chi_square += (O-E)**2/E\n",
        "\n",
        "# Pendekatan dengan p-value\n",
        "print(\"Approach 1: The p-value approach to hypothesis testing in the decision rule\")\n",
        "p_value = 1 - stats.chi2.cdf(chi_square, (len(rows)-1)*(len(columns)-1))\n",
        "conclusion = \"Failed to reject the null hypothesis.\"\n",
        "if p_value <= alpha:\n",
        "    conclusion = \"Null Hypothesis is rejected.\"\n",
        "        \n",
        "print(\"chisquare-score is:\", chi_square, \" and p value is:\", p_value)\n",
        "print(conclusion)\n",
        "    \n",
        "# Pendekatan dengan critical value\n",
        "print(\"\\n--------------------------------------------------------------------------------------\")\n",
        "print(\"Approach 2: The critical value approach to hypothesis testing in the decision rule\")\n",
        "critical_value = stats.chi2.ppf(1-alpha, (len(rows)-1)*(len(columns)-1))\n",
        "conclusion = \"Failed to reject the null hypothesis.\"\n",
        "if chi_square > critical_value:\n",
        "    conclusion = \"Null Hypothesis is rejected.\"\n",
        "        \n",
        "print(\"chisquare-score is:\", chi_square, \" and critical value is:\", critical_value)\n",
        "print(conclusion)"
      ]
    },
    {
      "cell_type": "markdown",
      "metadata": {
        "id": "e0-Yjp1Lxufz"
      },
      "source": [
        "berdasarkan perhitangan chi-square test, diambil kesimpulan bahwa bisa jadi tidak ada korelasi antara default_payment_next_month dengan pay_amt_1. Kemudian, berdasarkan grafik, probabilitas antara default dan tidak menunjukkan pattern yang sama seiring bertambahnya pay_amt_1 yang mengindikasikan kolom ini tidak cocok untuk prediksi default_payment_next_month.\n",
        "\n",
        "conclusion : pay_amt_n tidak dimasukkan sebagai fitur ke model ML"
      ]
    },
    {
      "cell_type": "markdown",
      "metadata": {
        "id": "NHAw5GHXYACe"
      },
      "source": [
        "### 4.3.8. Melihat korelasi default_payment_next_month dan limit_balance"
      ]
    },
    {
      "cell_type": "markdown",
      "metadata": {
        "id": "t905XzJtYACf"
      },
      "source": [
        "grafik korelasi"
      ]
    },
    {
      "cell_type": "code",
      "execution_count": null,
      "metadata": {
        "colab": {
          "base_uri": "https://localhost:8080/",
          "height": 514
        },
        "outputId": "d2d8efd6-9045-4cc9-d0be-3a7e88a5bc83",
        "id": "HfOi_A_2YACf"
      },
      "outputs": [
        {
          "output_type": "display_data",
          "data": {
            "text/plain": [
              "<Figure size 1080x576 with 1 Axes>"
            ],
            "image/png": "[encoded data removed]"
          },
          "metadata": {
            "needs_background": "light"
          }
        }
      ],
      "source": [
        "fig, axes = plt.subplots(ncols=1,figsize=(15,8))\n",
        "axes.hist(df_new[df_new['default_payment_next_month'] == 1].limit_balance,\n",
        "         histtype='step', label='yes')\n",
        "axes.hist(df_new[df_new['default_payment_next_month'] == 0].limit_balance,\n",
        "         histtype='step', label='no')\n",
        "axes.set_title('Grafik Distribusi default_payment_next_month berdasarkan limit_balance')\n",
        "axes.legend()\n",
        "axes.set_ylabel('count')\n",
        "axes.set_xlabel('limit_balance')\n",
        "axes.grid()"
      ]
    },
    {
      "cell_type": "markdown",
      "metadata": {
        "id": "ryKu5kglYACf"
      },
      "source": [
        "Berdasarkan grafik:\n",
        "- sebagian besar data ini adalah orang-orang yang memiliki limit balance di range 0-100000.\n",
        "- semakin besar limit balance, semakin kecil kemungkinan default kartu kreditnya bulan depan. Walaupun value yes memiliki pattern yang mirip dengan value no, kolom ini masih bisa dijadikan fitur dalam machine learning."
      ]
    },
    {
      "cell_type": "markdown",
      "metadata": {
        "id": "pjy3M3KVYACg"
      },
      "source": [
        "Chi-Square limit_balance"
      ]
    },
    {
      "cell_type": "code",
      "execution_count": null,
      "metadata": {
        "colab": {
          "base_uri": "https://localhost:8080/"
        },
        "outputId": "154b4140-77f1-4888-ef30-a63bd974cd7f",
        "id": "dP_CAqxDYACg"
      },
      "outputs": [
        {
          "output_type": "stream",
          "name": "stdout",
          "text": [
            "Approach 1: The p-value approach to hypothesis testing in the decision rule\n",
            "chisquare-score is: 149.27007704029145  and p value is: 5.542216685583412e-10\n",
            "Null Hypothesis is rejected.\n",
            "\n",
            "--------------------------------------------------------------------------------------\n",
            "Approach 2: The critical value approach to hypothesis testing in the decision rule\n",
            "chisquare-score is: 149.27007704029145  and critical value is: 76.7778031560615\n",
            "Null Hypothesis is rejected.\n"
          ]
        }
      ],
      "source": [
        "# Membuat contingency table\n",
        "data_crosstab = pd.crosstab(df_new['default_payment_next_month'],\n",
        "                            df_new['limit_balance'],\n",
        "                           margins=True, margins_name=\"Total\")\n",
        "\n",
        "# Mendefinisikan significance level\n",
        "alpha = 0.05\n",
        "\n",
        "# Perhitungan Chisquare\n",
        "chi_square = 0\n",
        "rows = data['default_payment_next_month'].unique()\n",
        "columns = data['limit_balance'].unique()\n",
        "for i in columns:\n",
        "    for j in rows:\n",
        "        O = data_crosstab[i][j]\n",
        "        E = data_crosstab[i]['Total'] * data_crosstab['Total'][j] / data_crosstab['Total']['Total']\n",
        "        chi_square += (O-E)**2/E\n",
        "\n",
        "# Pendekatan dengan p-value\n",
        "print(\"Approach 1: The p-value approach to hypothesis testing in the decision rule\")\n",
        "p_value = 1 - stats.chi2.cdf(chi_square, (len(rows)-1)*(len(columns)-1))\n",
        "conclusion = \"Failed to reject the null hypothesis.\"\n",
        "if p_value <= alpha:\n",
        "    conclusion = \"Null Hypothesis is rejected.\"\n",
        "        \n",
        "print(\"chisquare-score is:\", chi_square, \" and p value is:\", p_value)\n",
        "print(conclusion)\n",
        "    \n",
        "# Pendekatan dengan critical value\n",
        "print(\"\\n--------------------------------------------------------------------------------------\")\n",
        "print(\"Approach 2: The critical value approach to hypothesis testing in the decision rule\")\n",
        "critical_value = stats.chi2.ppf(1-alpha, (len(rows)-1)*(len(columns)-1))\n",
        "conclusion = \"Failed to reject the null hypothesis.\"\n",
        "if chi_square > critical_value:\n",
        "    conclusion = \"Null Hypothesis is rejected.\"\n",
        "        \n",
        "print(\"chisquare-score is:\", chi_square, \" and critical value is:\", critical_value)\n",
        "print(conclusion)"
      ]
    },
    {
      "cell_type": "markdown",
      "metadata": {
        "id": "3jbUtRMGYACg"
      },
      "source": [
        "berdasarkan perhitangan chi-square test, diambil kesimpulan bahwa bisa jadi terdapat korelasi antara default_payment_next_month dengan limit_balance. \n",
        "\n",
        "conclusion : limit_balance dimasukkan sebagai fitur ke model ML"
      ]
    },
    {
      "cell_type": "markdown",
      "metadata": {
        "id": "GqTxs36MxugI"
      },
      "source": [
        "### **fitur yang masuk dalam pemodelan :**\n",
        "\n",
        "age, sex, education_level, marital_status, pay_n, limit_balance"
      ]
    },
    {
      "cell_type": "markdown",
      "metadata": {
        "id": "g44ofgVTxugJ"
      },
      "source": [
        "## 4.2. Melihat statistik kolom numerik"
      ]
    },
    {
      "cell_type": "code",
      "execution_count": null,
      "metadata": {
        "colab": {
          "base_uri": "https://localhost:8080/",
          "height": 802
        },
        "id": "qW4ktySZxugJ",
        "outputId": "16f5e790-fd4f-4c81-8f6d-38a09feee25d"
      },
      "outputs": [
        {
          "output_type": "execute_result",
          "data": {
            "text/plain": [
              "                             count           mean            std      min  \\\n",
              "limit_balance               2965.0  163369.308600  125030.415472  10000.0   \n",
              "sex                         2965.0       1.607757       0.488333      1.0   \n",
              "education_level             2965.0       1.851602       0.774663      1.0   \n",
              "marital_status              2965.0       1.559865       0.522317      0.0   \n",
              "age                         2965.0      35.193255       9.109439     21.0   \n",
              "pay_1                       2965.0       0.005059       1.114395     -2.0   \n",
              "pay_2                       2965.0      -0.122428       1.180784     -2.0   \n",
              "pay_3                       2965.0      -0.141653       1.183630     -2.0   \n",
              "pay_4                       2965.0      -0.185160       1.178322     -2.0   \n",
              "pay_5                       2965.0      -0.225295       1.159003     -2.0   \n",
              "pay_6                       2965.0      -0.254637       1.167305     -2.0   \n",
              "bill_amt_1                  2965.0   52118.305228   72328.670541 -11545.0   \n",
              "bill_amt_2                  2965.0   50649.153120   70785.001588 -67526.0   \n",
              "bill_amt_3                  2965.0   48239.757504   68145.710745 -25443.0   \n",
              "bill_amt_4                  2965.0   44089.683305   61907.454056 -46627.0   \n",
              "bill_amt_5                  2965.0   40956.080607   58271.904751 -46627.0   \n",
              "bill_amt_6                  2965.0   39773.072513   57303.488981 -73895.0   \n",
              "pay_amt_1                   2965.0    6348.902867   20885.735336      0.0   \n",
              "pay_amt_2                   2965.0    6272.494435   28879.674534      0.0   \n",
              "pay_amt_3                   2965.0    5150.497133   14287.079982      0.0   \n",
              "pay_amt_4                   2965.0    4561.376054   13281.499599      0.0   \n",
              "pay_amt_5                   2965.0    4913.286678   16734.340778      0.0   \n",
              "pay_amt_6                   2965.0    5382.701518   17275.953029      0.0   \n",
              "default_payment_next_month  2965.0       0.214165       0.410311      0.0   \n",
              "\n",
              "                                25%       50%       75%        max  \n",
              "limit_balance               50000.0  140000.0  230000.0   800000.0  \n",
              "sex                             1.0       2.0       2.0        2.0  \n",
              "education_level                 1.0       2.0       2.0        5.0  \n",
              "marital_status                  1.0       2.0       2.0        3.0  \n",
              "age                            28.0      34.0      41.0       69.0  \n",
              "pay_1                          -1.0       0.0       0.0        8.0  \n",
              "pay_2                          -1.0       0.0       0.0        7.0  \n",
              "pay_3                          -1.0       0.0       0.0        7.0  \n",
              "pay_4                          -1.0       0.0       0.0        8.0  \n",
              "pay_5                          -1.0       0.0       0.0        7.0  \n",
              "pay_6                          -1.0       0.0       0.0        7.0  \n",
              "bill_amt_1                   3958.0   24257.0   69852.0   613860.0  \n",
              "bill_amt_2                   3390.0   23111.0   67827.0   512650.0  \n",
              "bill_amt_3                   3302.0   21520.0   63023.0   578971.0  \n",
              "bill_amt_4                   2582.0   19894.0   58622.0   488808.0  \n",
              "bill_amt_5                   1958.0   18814.0   53373.0   441981.0  \n",
              "bill_amt_6                   1430.0   18508.0   52287.0   436172.0  \n",
              "pay_amt_1                    1013.0    2234.0    5087.0   493358.0  \n",
              "pay_amt_2                     990.0    2175.0    5000.0  1227082.0  \n",
              "pay_amt_3                     477.0    1994.0    4500.0   199209.0  \n",
              "pay_amt_4                     313.0    1600.0    4000.0   202076.0  \n",
              "pay_amt_5                     323.0    1646.0    4021.0   388071.0  \n",
              "pay_amt_6                     173.0    1615.0    4081.0   403500.0  \n",
              "default_payment_next_month      0.0       0.0       0.0        1.0  "
            ],
            "text/html": [
              "\n",
              "  <div id=\"df-63e65832-f042-4020-a8bf-1455db989411\">\n",
              "    <div class=\"colab-df-container\">\n",
              "      <div>\n",
              "<style scoped>\n",
              "    .dataframe tbody tr th:only-of-type {\n",
              "        vertical-align: middle;\n",
              "    }\n",
              "\n",
              "    .dataframe tbody tr th {\n",
              "        vertical-align: top;\n",
              "    }\n",
              "\n",
              "    .dataframe thead th {\n",
              "        text-align: right;\n",
              "    }\n",
              "</style>\n",
              "<table border=\"1\" class=\"dataframe\">\n",
              "  <thead>\n",
              "    <tr style=\"text-align: right;\">\n",
              "      <th></th>\n",
              "      <th>count</th>\n",
              "      <th>mean</th>\n",
              "      <th>std</th>\n",
              "      <th>min</th>\n",
              "      <th>25%</th>\n",
              "      <th>50%</th>\n",
              "      <th>75%</th>\n",
              "      <th>max</th>\n",
              "    </tr>\n",
              "  </thead>\n",
              "  <tbody>\n",
              "    <tr>\n",
              "      <th>limit_balance</th>\n",
              "      <td>2965.0</td>\n",
              "      <td>163369.308600</td>\n",
              "      <td>125030.415472</td>\n",
              "      <td>10000.0</td>\n",
              "      <td>50000.0</td>\n",
              "      <td>140000.0</td>\n",
              "      <td>230000.0</td>\n",
              "      <td>800000.0</td>\n",
              "    </tr>\n",
              "    <tr>\n",
              "      <th>sex</th>\n",
              "      <td>2965.0</td>\n",
              "      <td>1.607757</td>\n",
              "      <td>0.488333</td>\n",
              "      <td>1.0</td>\n",
              "      <td>1.0</td>\n",
              "      <td>2.0</td>\n",
              "      <td>2.0</td>\n",
              "      <td>2.0</td>\n",
              "    </tr>\n",
              "    <tr>\n",
              "      <th>education_level</th>\n",
              "      <td>2965.0</td>\n",
              "      <td>1.851602</td>\n",
              "      <td>0.774663</td>\n",
              "      <td>1.0</td>\n",
              "      <td>1.0</td>\n",
              "      <td>2.0</td>\n",
              "      <td>2.0</td>\n",
              "      <td>5.0</td>\n",
              "    </tr>\n",
              "    <tr>\n",
              "      <th>marital_status</th>\n",
              "      <td>2965.0</td>\n",
              "      <td>1.559865</td>\n",
              "      <td>0.522317</td>\n",
              "      <td>0.0</td>\n",
              "      <td>1.0</td>\n",
              "      <td>2.0</td>\n",
              "      <td>2.0</td>\n",
              "      <td>3.0</td>\n",
              "    </tr>\n",
              "    <tr>\n",
              "      <th>age</th>\n",
              "      <td>2965.0</td>\n",
              "      <td>35.193255</td>\n",
              "      <td>9.109439</td>\n",
              "      <td>21.0</td>\n",
              "      <td>28.0</td>\n",
              "      <td>34.0</td>\n",
              "      <td>41.0</td>\n",
              "      <td>69.0</td>\n",
              "    </tr>\n",
              "    <tr>\n",
              "      <th>pay_1</th>\n",
              "      <td>2965.0</td>\n",
              "      <td>0.005059</td>\n",
              "      <td>1.114395</td>\n",
              "      <td>-2.0</td>\n",
              "      <td>-1.0</td>\n",
              "      <td>0.0</td>\n",
              "      <td>0.0</td>\n",
              "      <td>8.0</td>\n",
              "    </tr>\n",
              "    <tr>\n",
              "      <th>pay_2</th>\n",
              "      <td>2965.0</td>\n",
              "      <td>-0.122428</td>\n",
              "      <td>1.180784</td>\n",
              "      <td>-2.0</td>\n",
              "      <td>-1.0</td>\n",
              "      <td>0.0</td>\n",
              "      <td>0.0</td>\n",
              "      <td>7.0</td>\n",
              "    </tr>\n",
              "    <tr>\n",
              "      <th>pay_3</th>\n",
              "      <td>2965.0</td>\n",
              "      <td>-0.141653</td>\n",
              "      <td>1.183630</td>\n",
              "      <td>-2.0</td>\n",
              "      <td>-1.0</td>\n",
              "      <td>0.0</td>\n",
              "      <td>0.0</td>\n",
              "      <td>7.0</td>\n",
              "    </tr>\n",
              "    <tr>\n",
              "      <th>pay_4</th>\n",
              "      <td>2965.0</td>\n",
              "      <td>-0.185160</td>\n",
              "      <td>1.178322</td>\n",
              "      <td>-2.0</td>\n",
              "      <td>-1.0</td>\n",
              "      <td>0.0</td>\n",
              "      <td>0.0</td>\n",
              "      <td>8.0</td>\n",
              "    </tr>\n",
              "    <tr>\n",
              "      <th>pay_5</th>\n",
              "      <td>2965.0</td>\n",
              "      <td>-0.225295</td>\n",
              "      <td>1.159003</td>\n",
              "      <td>-2.0</td>\n",
              "      <td>-1.0</td>\n",
              "      <td>0.0</td>\n",
              "      <td>0.0</td>\n",
              "      <td>7.0</td>\n",
              "    </tr>\n",
              "    <tr>\n",
              "      <th>pay_6</th>\n",
              "      <td>2965.0</td>\n",
              "      <td>-0.254637</td>\n",
              "      <td>1.167305</td>\n",
              "      <td>-2.0</td>\n",
              "      <td>-1.0</td>\n",
              "      <td>0.0</td>\n",
              "      <td>0.0</td>\n",
              "      <td>7.0</td>\n",
              "    </tr>\n",
              "    <tr>\n",
              "      <th>bill_amt_1</th>\n",
              "      <td>2965.0</td>\n",
              "      <td>52118.305228</td>\n",
              "      <td>72328.670541</td>\n",
              "      <td>-11545.0</td>\n",
              "      <td>3958.0</td>\n",
              "      <td>24257.0</td>\n",
              "      <td>69852.0</td>\n",
              "      <td>613860.0</td>\n",
              "    </tr>\n",
              "    <tr>\n",
              "      <th>bill_amt_2</th>\n",
              "      <td>2965.0</td>\n",
              "      <td>50649.153120</td>\n",
              "      <td>70785.001588</td>\n",
              "      <td>-67526.0</td>\n",
              "      <td>3390.0</td>\n",
              "      <td>23111.0</td>\n",
              "      <td>67827.0</td>\n",
              "      <td>512650.0</td>\n",
              "    </tr>\n",
              "    <tr>\n",
              "      <th>bill_amt_3</th>\n",
              "      <td>2965.0</td>\n",
              "      <td>48239.757504</td>\n",
              "      <td>68145.710745</td>\n",
              "      <td>-25443.0</td>\n",
              "      <td>3302.0</td>\n",
              "      <td>21520.0</td>\n",
              "      <td>63023.0</td>\n",
              "      <td>578971.0</td>\n",
              "    </tr>\n",
              "    <tr>\n",
              "      <th>bill_amt_4</th>\n",
              "      <td>2965.0</td>\n",
              "      <td>44089.683305</td>\n",
              "      <td>61907.454056</td>\n",
              "      <td>-46627.0</td>\n",
              "      <td>2582.0</td>\n",
              "      <td>19894.0</td>\n",
              "      <td>58622.0</td>\n",
              "      <td>488808.0</td>\n",
              "    </tr>\n",
              "    <tr>\n",
              "      <th>bill_amt_5</th>\n",
              "      <td>2965.0</td>\n",
              "      <td>40956.080607</td>\n",
              "      <td>58271.904751</td>\n",
              "      <td>-46627.0</td>\n",
              "      <td>1958.0</td>\n",
              "      <td>18814.0</td>\n",
              "      <td>53373.0</td>\n",
              "      <td>441981.0</td>\n",
              "    </tr>\n",
              "    <tr>\n",
              "      <th>bill_amt_6</th>\n",
              "      <td>2965.0</td>\n",
              "      <td>39773.072513</td>\n",
              "      <td>57303.488981</td>\n",
              "      <td>-73895.0</td>\n",
              "      <td>1430.0</td>\n",
              "      <td>18508.0</td>\n",
              "      <td>52287.0</td>\n",
              "      <td>436172.0</td>\n",
              "    </tr>\n",
              "    <tr>\n",
              "      <th>pay_amt_1</th>\n",
              "      <td>2965.0</td>\n",
              "      <td>6348.902867</td>\n",
              "      <td>20885.735336</td>\n",
              "      <td>0.0</td>\n",
              "      <td>1013.0</td>\n",
              "      <td>2234.0</td>\n",
              "      <td>5087.0</td>\n",
              "      <td>493358.0</td>\n",
              "    </tr>\n",
              "    <tr>\n",
              "      <th>pay_amt_2</th>\n",
              "      <td>2965.0</td>\n",
              "      <td>6272.494435</td>\n",
              "      <td>28879.674534</td>\n",
              "      <td>0.0</td>\n",
              "      <td>990.0</td>\n",
              "      <td>2175.0</td>\n",
              "      <td>5000.0</td>\n",
              "      <td>1227082.0</td>\n",
              "    </tr>\n",
              "    <tr>\n",
              "      <th>pay_amt_3</th>\n",
              "      <td>2965.0</td>\n",
              "      <td>5150.497133</td>\n",
              "      <td>14287.079982</td>\n",
              "      <td>0.0</td>\n",
              "      <td>477.0</td>\n",
              "      <td>1994.0</td>\n",
              "      <td>4500.0</td>\n",
              "      <td>199209.0</td>\n",
              "    </tr>\n",
              "    <tr>\n",
              "      <th>pay_amt_4</th>\n",
              "      <td>2965.0</td>\n",
              "      <td>4561.376054</td>\n",
              "      <td>13281.499599</td>\n",
              "      <td>0.0</td>\n",
              "      <td>313.0</td>\n",
              "      <td>1600.0</td>\n",
              "      <td>4000.0</td>\n",
              "      <td>202076.0</td>\n",
              "    </tr>\n",
              "    <tr>\n",
              "      <th>pay_amt_5</th>\n",
              "      <td>2965.0</td>\n",
              "      <td>4913.286678</td>\n",
              "      <td>16734.340778</td>\n",
              "      <td>0.0</td>\n",
              "      <td>323.0</td>\n",
              "      <td>1646.0</td>\n",
              "      <td>4021.0</td>\n",
              "      <td>388071.0</td>\n",
              "    </tr>\n",
              "    <tr>\n",
              "      <th>pay_amt_6</th>\n",
              "      <td>2965.0</td>\n",
              "      <td>5382.701518</td>\n",
              "      <td>17275.953029</td>\n",
              "      <td>0.0</td>\n",
              "      <td>173.0</td>\n",
              "      <td>1615.0</td>\n",
              "      <td>4081.0</td>\n",
              "      <td>403500.0</td>\n",
              "    </tr>\n",
              "    <tr>\n",
              "      <th>default_payment_next_month</th>\n",
              "      <td>2965.0</td>\n",
              "      <td>0.214165</td>\n",
              "      <td>0.410311</td>\n",
              "      <td>0.0</td>\n",
              "      <td>0.0</td>\n",
              "      <td>0.0</td>\n",
              "      <td>0.0</td>\n",
              "      <td>1.0</td>\n",
              "    </tr>\n",
              "  </tbody>\n",
              "</table>\n",
              "</div>\n",
              "      <button class=\"colab-df-convert\" onclick=\"convertToInteractive('df-63e65832-f042-4020-a8bf-1455db989411')\"\n",
              "              title=\"Convert this dataframe to an interactive table.\"\n",
              "              style=\"display:none;\">\n",
              "        \n",
              "  <svg xmlns=\"http://www.w3.org/2000/svg\" height=\"24px\"viewBox=\"0 0 24 24\"\n",
              "       width=\"24px\">\n",
              "    <path d=\"M0 0h24v24H0V0z\" fill=\"none\"/>\n",
              "    <path d=\"M18.56 5.44l.94 2.06.94-2.06 2.06-.94-2.06-.94-.94-2.06-.94 2.06-2.06.94zm-11 1L8.5 8.5l.94-2.06 2.06-.94-2.06-.94L8.5 2.5l-.94 2.06-2.06.94zm10 10l.94 2.06.94-2.06 2.06-.94-2.06-.94-.94-2.06-.94 2.06-2.06.94z\"/><path d=\"M17.41 7.96l-1.37-1.37c-.4-.4-.92-.59-1.43-.59-.52 0-1.04.2-1.43.59L10.3 9.45l-7.72 7.72c-.78.78-.78 2.05 0 2.83L4 21.41c.39.39.9.59 1.41.59.51 0 1.02-.2 1.41-.59l7.78-7.78 2.81-2.81c.8-.78.8-2.07 0-2.86zM5.41 20L4 18.59l7.72-7.72 1.47 1.35L5.41 20z\"/>\n",
              "  </svg>\n",
              "      </button>\n",
              "      \n",
              "  <style>\n",
              "    .colab-df-container {\n",
              "      display:flex;\n",
              "      flex-wrap:wrap;\n",
              "      gap: 12px;\n",
              "    }\n",
              "\n",
              "    .colab-df-convert {\n",
              "      background-color: #E8F0FE;\n",
              "      border: none;\n",
              "      border-radius: 50%;\n",
              "      cursor: pointer;\n",
              "      display: none;\n",
              "      fill: #1967D2;\n",
              "      height: 32px;\n",
              "      padding: 0 0 0 0;\n",
              "      width: 32px;\n",
              "    }\n",
              "\n",
              "    .colab-df-convert:hover {\n",
              "      background-color: #E2EBFA;\n",
              "      box-shadow: 0px 1px 2px rgba(60, 64, 67, 0.3), 0px 1px 3px 1px rgba(60, 64, 67, 0.15);\n",
              "      fill: #174EA6;\n",
              "    }\n",
              "\n",
              "    [theme=dark] .colab-df-convert {\n",
              "      background-color: #3B4455;\n",
              "      fill: #D2E3FC;\n",
              "    }\n",
              "\n",
              "    [theme=dark] .colab-df-convert:hover {\n",
              "      background-color: #434B5C;\n",
              "      box-shadow: 0px 1px 3px 1px rgba(0, 0, 0, 0.15);\n",
              "      filter: drop-shadow(0px 1px 2px rgba(0, 0, 0, 0.3));\n",
              "      fill: #FFFFFF;\n",
              "    }\n",
              "  </style>\n",
              "\n",
              "      <script>\n",
              "        const buttonEl =\n",
              "          document.querySelector('#df-63e65832-f042-4020-a8bf-1455db989411 button.colab-df-convert');\n",
              "        buttonEl.style.display =\n",
              "          google.colab.kernel.accessAllowed ? 'block' : 'none';\n",
              "\n",
              "        async function convertToInteractive(key) {\n",
              "          const element = document.querySelector('#df-63e65832-f042-4020-a8bf-1455db989411');\n",
              "          const dataTable =\n",
              "            await google.colab.kernel.invokeFunction('convertToInteractive',\n",
              "                                                     [key], {});\n",
              "          if (!dataTable) return;\n",
              "\n",
              "          const docLinkHtml = 'Like what you see? Visit the ' +\n",
              "            '<a target=\"_blank\" href=https://colab.research.google.com/notebooks/data_table.ipynb>data table notebook</a>'\n",
              "            + ' to learn more about interactive tables.';\n",
              "          element.innerHTML = '';\n",
              "          dataTable['output_type'] = 'display_data';\n",
              "          await google.colab.output.renderOutput(dataTable, element);\n",
              "          const docLink = document.createElement('div');\n",
              "          docLink.innerHTML = docLinkHtml;\n",
              "          element.appendChild(docLink);\n",
              "        }\n",
              "      </script>\n",
              "    </div>\n",
              "  </div>\n",
              "  "
            ]
          },
          "metadata": {},
          "execution_count": 36
        }
      ],
      "source": [
        "df_new.describe().T"
      ]
    },
    {
      "cell_type": "code",
      "execution_count": null,
      "metadata": {
        "colab": {
          "base_uri": "https://localhost:8080/"
        },
        "id": "RznuOyvNxugK",
        "outputId": "47b2832a-ab6b-4aea-a5b0-7b7dfcd5a688"
      },
      "outputs": [
        {
          "output_type": "stream",
          "name": "stdout",
          "text": [
            "<class 'pandas.core.frame.DataFrame'>\n",
            "RangeIndex: 2965 entries, 0 to 2964\n",
            "Data columns (total 24 columns):\n",
            " #   Column                      Non-Null Count  Dtype  \n",
            "---  ------                      --------------  -----  \n",
            " 0   limit_balance               2965 non-null   float64\n",
            " 1   sex                         2965 non-null   int64  \n",
            " 2   education_level             2965 non-null   int64  \n",
            " 3   marital_status              2965 non-null   int64  \n",
            " 4   age                         2965 non-null   float64\n",
            " 5   pay_1                       2965 non-null   float64\n",
            " 6   pay_2                       2965 non-null   float64\n",
            " 7   pay_3                       2965 non-null   float64\n",
            " 8   pay_4                       2965 non-null   float64\n",
            " 9   pay_5                       2965 non-null   int64  \n",
            " 10  pay_6                       2965 non-null   int64  \n",
            " 11  bill_amt_1                  2965 non-null   float64\n",
            " 12  bill_amt_2                  2965 non-null   float64\n",
            " 13  bill_amt_3                  2965 non-null   float64\n",
            " 14  bill_amt_4                  2965 non-null   float64\n",
            " 15  bill_amt_5                  2965 non-null   float64\n",
            " 16  bill_amt_6                  2965 non-null   float64\n",
            " 17  pay_amt_1                   2965 non-null   float64\n",
            " 18  pay_amt_2                   2965 non-null   float64\n",
            " 19  pay_amt_3                   2965 non-null   float64\n",
            " 20  pay_amt_4                   2965 non-null   float64\n",
            " 21  pay_amt_5                   2965 non-null   float64\n",
            " 22  pay_amt_6                   2965 non-null   float64\n",
            " 23  default_payment_next_month  2965 non-null   int64  \n",
            "dtypes: float64(18), int64(6)\n",
            "memory usage: 556.1 KB\n"
          ]
        }
      ],
      "source": [
        "df_new.info()"
      ]
    },
    {
      "cell_type": "markdown",
      "metadata": {
        "id": "HnSIWcKAxugL"
      },
      "source": [
        "# V. Data Preprocessing"
      ]
    },
    {
      "cell_type": "markdown",
      "metadata": {
        "id": "6jYCkfE5xugN"
      },
      "source": [
        "## 5.1. Drop kolom yang tidak dipakai untuk pemodelan"
      ]
    },
    {
      "cell_type": "code",
      "execution_count": null,
      "metadata": {
        "colab": {
          "base_uri": "https://localhost:8080/"
        },
        "id": "8a2mrH-6xugO",
        "outputId": "1a0e9599-98b4-429d-f24c-23e1c1b82814"
      },
      "outputs": [
        {
          "output_type": "execute_result",
          "data": {
            "text/plain": [
              "Index(['limit_balance', 'sex', 'education_level', 'marital_status', 'age',\n",
              "       'pay_1', 'pay_2', 'pay_3', 'pay_4', 'pay_5', 'pay_6', 'bill_amt_1',\n",
              "       'bill_amt_2', 'bill_amt_3', 'bill_amt_4', 'bill_amt_5', 'bill_amt_6',\n",
              "       'pay_amt_1', 'pay_amt_2', 'pay_amt_3', 'pay_amt_4', 'pay_amt_5',\n",
              "       'pay_amt_6', 'default_payment_next_month'],\n",
              "      dtype='object')"
            ]
          },
          "metadata": {},
          "execution_count": 38
        }
      ],
      "source": [
        "# menampilkan judul kolom dataset\n",
        "df_new.columns"
      ]
    },
    {
      "cell_type": "code",
      "execution_count": null,
      "metadata": {
        "colab": {
          "base_uri": "https://localhost:8080/",
          "height": 206
        },
        "id": "OTVthXdGxugP",
        "outputId": "4e46aa3f-dcc0-4db9-93f3-7adceaafbe59"
      },
      "outputs": [
        {
          "output_type": "execute_result",
          "data": {
            "text/plain": [
              "   limit_balance  sex  education_level  marital_status   age  pay_1  pay_2  \\\n",
              "0        50000.0    1                1               2  39.0    0.0    0.0   \n",
              "1       110000.0    2                1               2  29.0    0.0    0.0   \n",
              "2       270000.0    1                1               2  36.0    0.0    0.0   \n",
              "3       130000.0    1                1               1  45.0    0.0    0.0   \n",
              "4        50000.0    1                1               2  24.0    0.0    0.0   \n",
              "\n",
              "   pay_3  pay_4  pay_5  pay_6  default_payment_next_month  \n",
              "0    0.0    0.0      0      0                           0  \n",
              "1    0.0    0.0      0      0                           0  \n",
              "2    0.0    2.0      0      0                           0  \n",
              "3    0.0    0.0      0      0                           0  \n",
              "4    0.0    0.0      0      0                           0  "
            ],
            "text/html": [
              "\n",
              "  <div id=\"df-d97d7826-0f2d-4a6c-a5c8-29f0fc1f1dbb\">\n",
              "    <div class=\"colab-df-container\">\n",
              "      <div>\n",
              "<style scoped>\n",
              "    .dataframe tbody tr th:only-of-type {\n",
              "        vertical-align: middle;\n",
              "    }\n",
              "\n",
              "    .dataframe tbody tr th {\n",
              "        vertical-align: top;\n",
              "    }\n",
              "\n",
              "    .dataframe thead th {\n",
              "        text-align: right;\n",
              "    }\n",
              "</style>\n",
              "<table border=\"1\" class=\"dataframe\">\n",
              "  <thead>\n",
              "    <tr style=\"text-align: right;\">\n",
              "      <th></th>\n",
              "      <th>limit_balance</th>\n",
              "      <th>sex</th>\n",
              "      <th>education_level</th>\n",
              "      <th>marital_status</th>\n",
              "      <th>age</th>\n",
              "      <th>pay_1</th>\n",
              "      <th>pay_2</th>\n",
              "      <th>pay_3</th>\n",
              "      <th>pay_4</th>\n",
              "      <th>pay_5</th>\n",
              "      <th>pay_6</th>\n",
              "      <th>default_payment_next_month</th>\n",
              "    </tr>\n",
              "  </thead>\n",
              "  <tbody>\n",
              "    <tr>\n",
              "      <th>0</th>\n",
              "      <td>50000.0</td>\n",
              "      <td>1</td>\n",
              "      <td>1</td>\n",
              "      <td>2</td>\n",
              "      <td>39.0</td>\n",
              "      <td>0.0</td>\n",
              "      <td>0.0</td>\n",
              "      <td>0.0</td>\n",
              "      <td>0.0</td>\n",
              "      <td>0</td>\n",
              "      <td>0</td>\n",
              "      <td>0</td>\n",
              "    </tr>\n",
              "    <tr>\n",
              "      <th>1</th>\n",
              "      <td>110000.0</td>\n",
              "      <td>2</td>\n",
              "      <td>1</td>\n",
              "      <td>2</td>\n",
              "      <td>29.0</td>\n",
              "      <td>0.0</td>\n",
              "      <td>0.0</td>\n",
              "      <td>0.0</td>\n",
              "      <td>0.0</td>\n",
              "      <td>0</td>\n",
              "      <td>0</td>\n",
              "      <td>0</td>\n",
              "    </tr>\n",
              "    <tr>\n",
              "      <th>2</th>\n",
              "      <td>270000.0</td>\n",
              "      <td>1</td>\n",
              "      <td>1</td>\n",
              "      <td>2</td>\n",
              "      <td>36.0</td>\n",
              "      <td>0.0</td>\n",
              "      <td>0.0</td>\n",
              "      <td>0.0</td>\n",
              "      <td>2.0</td>\n",
              "      <td>0</td>\n",
              "      <td>0</td>\n",
              "      <td>0</td>\n",
              "    </tr>\n",
              "    <tr>\n",
              "      <th>3</th>\n",
              "      <td>130000.0</td>\n",
              "      <td>1</td>\n",
              "      <td>1</td>\n",
              "      <td>1</td>\n",
              "      <td>45.0</td>\n",
              "      <td>0.0</td>\n",
              "      <td>0.0</td>\n",
              "      <td>0.0</td>\n",
              "      <td>0.0</td>\n",
              "      <td>0</td>\n",
              "      <td>0</td>\n",
              "      <td>0</td>\n",
              "    </tr>\n",
              "    <tr>\n",
              "      <th>4</th>\n",
              "      <td>50000.0</td>\n",
              "      <td>1</td>\n",
              "      <td>1</td>\n",
              "      <td>2</td>\n",
              "      <td>24.0</td>\n",
              "      <td>0.0</td>\n",
              "      <td>0.0</td>\n",
              "      <td>0.0</td>\n",
              "      <td>0.0</td>\n",
              "      <td>0</td>\n",
              "      <td>0</td>\n",
              "      <td>0</td>\n",
              "    </tr>\n",
              "  </tbody>\n",
              "</table>\n",
              "</div>\n",
              "      <button class=\"colab-df-convert\" onclick=\"convertToInteractive('df-d97d7826-0f2d-4a6c-a5c8-29f0fc1f1dbb')\"\n",
              "              title=\"Convert this dataframe to an interactive table.\"\n",
              "              style=\"display:none;\">\n",
              "        \n",
              "  <svg xmlns=\"http://www.w3.org/2000/svg\" height=\"24px\"viewBox=\"0 0 24 24\"\n",
              "       width=\"24px\">\n",
              "    <path d=\"M0 0h24v24H0V0z\" fill=\"none\"/>\n",
              "    <path d=\"M18.56 5.44l.94 2.06.94-2.06 2.06-.94-2.06-.94-.94-2.06-.94 2.06-2.06.94zm-11 1L8.5 8.5l.94-2.06 2.06-.94-2.06-.94L8.5 2.5l-.94 2.06-2.06.94zm10 10l.94 2.06.94-2.06 2.06-.94-2.06-.94-.94-2.06-.94 2.06-2.06.94z\"/><path d=\"M17.41 7.96l-1.37-1.37c-.4-.4-.92-.59-1.43-.59-.52 0-1.04.2-1.43.59L10.3 9.45l-7.72 7.72c-.78.78-.78 2.05 0 2.83L4 21.41c.39.39.9.59 1.41.59.51 0 1.02-.2 1.41-.59l7.78-7.78 2.81-2.81c.8-.78.8-2.07 0-2.86zM5.41 20L4 18.59l7.72-7.72 1.47 1.35L5.41 20z\"/>\n",
              "  </svg>\n",
              "      </button>\n",
              "      \n",
              "  <style>\n",
              "    .colab-df-container {\n",
              "      display:flex;\n",
              "      flex-wrap:wrap;\n",
              "      gap: 12px;\n",
              "    }\n",
              "\n",
              "    .colab-df-convert {\n",
              "      background-color: #E8F0FE;\n",
              "      border: none;\n",
              "      border-radius: 50%;\n",
              "      cursor: pointer;\n",
              "      display: none;\n",
              "      fill: #1967D2;\n",
              "      height: 32px;\n",
              "      padding: 0 0 0 0;\n",
              "      width: 32px;\n",
              "    }\n",
              "\n",
              "    .colab-df-convert:hover {\n",
              "      background-color: #E2EBFA;\n",
              "      box-shadow: 0px 1px 2px rgba(60, 64, 67, 0.3), 0px 1px 3px 1px rgba(60, 64, 67, 0.15);\n",
              "      fill: #174EA6;\n",
              "    }\n",
              "\n",
              "    [theme=dark] .colab-df-convert {\n",
              "      background-color: #3B4455;\n",
              "      fill: #D2E3FC;\n",
              "    }\n",
              "\n",
              "    [theme=dark] .colab-df-convert:hover {\n",
              "      background-color: #434B5C;\n",
              "      box-shadow: 0px 1px 3px 1px rgba(0, 0, 0, 0.15);\n",
              "      filter: drop-shadow(0px 1px 2px rgba(0, 0, 0, 0.3));\n",
              "      fill: #FFFFFF;\n",
              "    }\n",
              "  </style>\n",
              "\n",
              "      <script>\n",
              "        const buttonEl =\n",
              "          document.querySelector('#df-d97d7826-0f2d-4a6c-a5c8-29f0fc1f1dbb button.colab-df-convert');\n",
              "        buttonEl.style.display =\n",
              "          google.colab.kernel.accessAllowed ? 'block' : 'none';\n",
              "\n",
              "        async function convertToInteractive(key) {\n",
              "          const element = document.querySelector('#df-d97d7826-0f2d-4a6c-a5c8-29f0fc1f1dbb');\n",
              "          const dataTable =\n",
              "            await google.colab.kernel.invokeFunction('convertToInteractive',\n",
              "                                                     [key], {});\n",
              "          if (!dataTable) return;\n",
              "\n",
              "          const docLinkHtml = 'Like what you see? Visit the ' +\n",
              "            '<a target=\"_blank\" href=https://colab.research.google.com/notebooks/data_table.ipynb>data table notebook</a>'\n",
              "            + ' to learn more about interactive tables.';\n",
              "          element.innerHTML = '';\n",
              "          dataTable['output_type'] = 'display_data';\n",
              "          await google.colab.output.renderOutput(dataTable, element);\n",
              "          const docLink = document.createElement('div');\n",
              "          docLink.innerHTML = docLinkHtml;\n",
              "          element.appendChild(docLink);\n",
              "        }\n",
              "      </script>\n",
              "    </div>\n",
              "  </div>\n",
              "  "
            ]
          },
          "metadata": {},
          "execution_count": 39
        }
      ],
      "source": [
        "# menghapus kolom yang tidak digunakan untuk pemodelan\n",
        "df_new.drop(columns=['bill_amt_1',\n",
        "       'bill_amt_2', 'bill_amt_3', 'bill_amt_4', 'bill_amt_5', 'bill_amt_6',\n",
        "       'pay_amt_1', 'pay_amt_2', 'pay_amt_3', 'pay_amt_4', 'pay_amt_5',\n",
        "       'pay_amt_6'], inplace=True)\n",
        "df_new.head()"
      ]
    },
    {
      "cell_type": "markdown",
      "metadata": {
        "id": "-c_bi_DfxugQ"
      },
      "source": [
        "## 5.2. Get data for model inference"
      ]
    },
    {
      "cell_type": "code",
      "execution_count": null,
      "metadata": {
        "colab": {
          "base_uri": "https://localhost:8080/",
          "height": 363
        },
        "id": "338oUAUfxugR",
        "outputId": "418dae8e-371d-432e-df3b-45f871bffb0b"
      },
      "outputs": [
        {
          "output_type": "execute_result",
          "data": {
            "text/plain": [
              "      limit_balance  sex  education_level  marital_status   age  pay_1  pay_2  \\\n",
              "2434       200000.0    1                2               1  39.0   -1.0   -1.0   \n",
              "2925       180000.0    2                2               2  29.0   -1.0   -1.0   \n",
              "180        210000.0    1                5               1  31.0    2.0    0.0   \n",
              "1879        30000.0    2                1               2  27.0    1.0    2.0   \n",
              "2738       350000.0    2                1               1  55.0   -1.0   -1.0   \n",
              "2570       220000.0    1                2               1  40.0   -1.0   -1.0   \n",
              "422         50000.0    2                1               2  25.0    0.0    0.0   \n",
              "358         20000.0    1                2               1  25.0    0.0    0.0   \n",
              "1979       170000.0    1                1               2  32.0    2.0    2.0   \n",
              "2474        50000.0    1                2               2  23.0   -1.0   -1.0   \n",
              "\n",
              "      pay_3  pay_4  pay_5  pay_6  default_payment_next_month  \n",
              "2434    2.0   -1.0      0      0                           0  \n",
              "2925   -2.0   -2.0     -2     -2                           0  \n",
              "180     0.0    0.0      0     -1                           0  \n",
              "1879    0.0    0.0      2      0                           0  \n",
              "2738   -1.0   -1.0     -1     -1                           0  \n",
              "2570   -1.0   -1.0     -1     -1                           0  \n",
              "422     0.0    0.0      0      0                           0  \n",
              "358     0.0    0.0      0      0                           0  \n",
              "1979   -2.0   -2.0     -2     -1                           1  \n",
              "2474   -1.0   -1.0      0      0                           0  "
            ],
            "text/html": [
              "\n",
              "  <div id=\"df-f7b7b6f5-fd0c-4d71-86cb-471f716d4b14\">\n",
              "    <div class=\"colab-df-container\">\n",
              "      <div>\n",
              "<style scoped>\n",
              "    .dataframe tbody tr th:only-of-type {\n",
              "        vertical-align: middle;\n",
              "    }\n",
              "\n",
              "    .dataframe tbody tr th {\n",
              "        vertical-align: top;\n",
              "    }\n",
              "\n",
              "    .dataframe thead th {\n",
              "        text-align: right;\n",
              "    }\n",
              "</style>\n",
              "<table border=\"1\" class=\"dataframe\">\n",
              "  <thead>\n",
              "    <tr style=\"text-align: right;\">\n",
              "      <th></th>\n",
              "      <th>limit_balance</th>\n",
              "      <th>sex</th>\n",
              "      <th>education_level</th>\n",
              "      <th>marital_status</th>\n",
              "      <th>age</th>\n",
              "      <th>pay_1</th>\n",
              "      <th>pay_2</th>\n",
              "      <th>pay_3</th>\n",
              "      <th>pay_4</th>\n",
              "      <th>pay_5</th>\n",
              "      <th>pay_6</th>\n",
              "      <th>default_payment_next_month</th>\n",
              "    </tr>\n",
              "  </thead>\n",
              "  <tbody>\n",
              "    <tr>\n",
              "      <th>2434</th>\n",
              "      <td>200000.0</td>\n",
              "      <td>1</td>\n",
              "      <td>2</td>\n",
              "      <td>1</td>\n",
              "      <td>39.0</td>\n",
              "      <td>-1.0</td>\n",
              "      <td>-1.0</td>\n",
              "      <td>2.0</td>\n",
              "      <td>-1.0</td>\n",
              "      <td>0</td>\n",
              "      <td>0</td>\n",
              "      <td>0</td>\n",
              "    </tr>\n",
              "    <tr>\n",
              "      <th>2925</th>\n",
              "      <td>180000.0</td>\n",
              "      <td>2</td>\n",
              "      <td>2</td>\n",
              "      <td>2</td>\n",
              "      <td>29.0</td>\n",
              "      <td>-1.0</td>\n",
              "      <td>-1.0</td>\n",
              "      <td>-2.0</td>\n",
              "      <td>-2.0</td>\n",
              "      <td>-2</td>\n",
              "      <td>-2</td>\n",
              "      <td>0</td>\n",
              "    </tr>\n",
              "    <tr>\n",
              "      <th>180</th>\n",
              "      <td>210000.0</td>\n",
              "      <td>1</td>\n",
              "      <td>5</td>\n",
              "      <td>1</td>\n",
              "      <td>31.0</td>\n",
              "      <td>2.0</td>\n",
              "      <td>0.0</td>\n",
              "      <td>0.0</td>\n",
              "      <td>0.0</td>\n",
              "      <td>0</td>\n",
              "      <td>-1</td>\n",
              "      <td>0</td>\n",
              "    </tr>\n",
              "    <tr>\n",
              "      <th>1879</th>\n",
              "      <td>30000.0</td>\n",
              "      <td>2</td>\n",
              "      <td>1</td>\n",
              "      <td>2</td>\n",
              "      <td>27.0</td>\n",
              "      <td>1.0</td>\n",
              "      <td>2.0</td>\n",
              "      <td>0.0</td>\n",
              "      <td>0.0</td>\n",
              "      <td>2</td>\n",
              "      <td>0</td>\n",
              "      <td>0</td>\n",
              "    </tr>\n",
              "    <tr>\n",
              "      <th>2738</th>\n",
              "      <td>350000.0</td>\n",
              "      <td>2</td>\n",
              "      <td>1</td>\n",
              "      <td>1</td>\n",
              "      <td>55.0</td>\n",
              "      <td>-1.0</td>\n",
              "      <td>-1.0</td>\n",
              "      <td>-1.0</td>\n",
              "      <td>-1.0</td>\n",
              "      <td>-1</td>\n",
              "      <td>-1</td>\n",
              "      <td>0</td>\n",
              "    </tr>\n",
              "    <tr>\n",
              "      <th>2570</th>\n",
              "      <td>220000.0</td>\n",
              "      <td>1</td>\n",
              "      <td>2</td>\n",
              "      <td>1</td>\n",
              "      <td>40.0</td>\n",
              "      <td>-1.0</td>\n",
              "      <td>-1.0</td>\n",
              "      <td>-1.0</td>\n",
              "      <td>-1.0</td>\n",
              "      <td>-1</td>\n",
              "      <td>-1</td>\n",
              "      <td>0</td>\n",
              "    </tr>\n",
              "    <tr>\n",
              "      <th>422</th>\n",
              "      <td>50000.0</td>\n",
              "      <td>2</td>\n",
              "      <td>1</td>\n",
              "      <td>2</td>\n",
              "      <td>25.0</td>\n",
              "      <td>0.0</td>\n",
              "      <td>0.0</td>\n",
              "      <td>0.0</td>\n",
              "      <td>0.0</td>\n",
              "      <td>0</td>\n",
              "      <td>0</td>\n",
              "      <td>0</td>\n",
              "    </tr>\n",
              "    <tr>\n",
              "      <th>358</th>\n",
              "      <td>20000.0</td>\n",
              "      <td>1</td>\n",
              "      <td>2</td>\n",
              "      <td>1</td>\n",
              "      <td>25.0</td>\n",
              "      <td>0.0</td>\n",
              "      <td>0.0</td>\n",
              "      <td>0.0</td>\n",
              "      <td>0.0</td>\n",
              "      <td>0</td>\n",
              "      <td>0</td>\n",
              "      <td>0</td>\n",
              "    </tr>\n",
              "    <tr>\n",
              "      <th>1979</th>\n",
              "      <td>170000.0</td>\n",
              "      <td>1</td>\n",
              "      <td>1</td>\n",
              "      <td>2</td>\n",
              "      <td>32.0</td>\n",
              "      <td>2.0</td>\n",
              "      <td>2.0</td>\n",
              "      <td>-2.0</td>\n",
              "      <td>-2.0</td>\n",
              "      <td>-2</td>\n",
              "      <td>-1</td>\n",
              "      <td>1</td>\n",
              "    </tr>\n",
              "    <tr>\n",
              "      <th>2474</th>\n",
              "      <td>50000.0</td>\n",
              "      <td>1</td>\n",
              "      <td>2</td>\n",
              "      <td>2</td>\n",
              "      <td>23.0</td>\n",
              "      <td>-1.0</td>\n",
              "      <td>-1.0</td>\n",
              "      <td>-1.0</td>\n",
              "      <td>-1.0</td>\n",
              "      <td>0</td>\n",
              "      <td>0</td>\n",
              "      <td>0</td>\n",
              "    </tr>\n",
              "  </tbody>\n",
              "</table>\n",
              "</div>\n",
              "      <button class=\"colab-df-convert\" onclick=\"convertToInteractive('df-f7b7b6f5-fd0c-4d71-86cb-471f716d4b14')\"\n",
              "              title=\"Convert this dataframe to an interactive table.\"\n",
              "              style=\"display:none;\">\n",
              "        \n",
              "  <svg xmlns=\"http://www.w3.org/2000/svg\" height=\"24px\"viewBox=\"0 0 24 24\"\n",
              "       width=\"24px\">\n",
              "    <path d=\"M0 0h24v24H0V0z\" fill=\"none\"/>\n",
              "    <path d=\"M18.56 5.44l.94 2.06.94-2.06 2.06-.94-2.06-.94-.94-2.06-.94 2.06-2.06.94zm-11 1L8.5 8.5l.94-2.06 2.06-.94-2.06-.94L8.5 2.5l-.94 2.06-2.06.94zm10 10l.94 2.06.94-2.06 2.06-.94-2.06-.94-.94-2.06-.94 2.06-2.06.94z\"/><path d=\"M17.41 7.96l-1.37-1.37c-.4-.4-.92-.59-1.43-.59-.52 0-1.04.2-1.43.59L10.3 9.45l-7.72 7.72c-.78.78-.78 2.05 0 2.83L4 21.41c.39.39.9.59 1.41.59.51 0 1.02-.2 1.41-.59l7.78-7.78 2.81-2.81c.8-.78.8-2.07 0-2.86zM5.41 20L4 18.59l7.72-7.72 1.47 1.35L5.41 20z\"/>\n",
              "  </svg>\n",
              "      </button>\n",
              "      \n",
              "  <style>\n",
              "    .colab-df-container {\n",
              "      display:flex;\n",
              "      flex-wrap:wrap;\n",
              "      gap: 12px;\n",
              "    }\n",
              "\n",
              "    .colab-df-convert {\n",
              "      background-color: #E8F0FE;\n",
              "      border: none;\n",
              "      border-radius: 50%;\n",
              "      cursor: pointer;\n",
              "      display: none;\n",
              "      fill: #1967D2;\n",
              "      height: 32px;\n",
              "      padding: 0 0 0 0;\n",
              "      width: 32px;\n",
              "    }\n",
              "\n",
              "    .colab-df-convert:hover {\n",
              "      background-color: #E2EBFA;\n",
              "      box-shadow: 0px 1px 2px rgba(60, 64, 67, 0.3), 0px 1px 3px 1px rgba(60, 64, 67, 0.15);\n",
              "      fill: #174EA6;\n",
              "    }\n",
              "\n",
              "    [theme=dark] .colab-df-convert {\n",
              "      background-color: #3B4455;\n",
              "      fill: #D2E3FC;\n",
              "    }\n",
              "\n",
              "    [theme=dark] .colab-df-convert:hover {\n",
              "      background-color: #434B5C;\n",
              "      box-shadow: 0px 1px 3px 1px rgba(0, 0, 0, 0.15);\n",
              "      filter: drop-shadow(0px 1px 2px rgba(0, 0, 0, 0.3));\n",
              "      fill: #FFFFFF;\n",
              "    }\n",
              "  </style>\n",
              "\n",
              "      <script>\n",
              "        const buttonEl =\n",
              "          document.querySelector('#df-f7b7b6f5-fd0c-4d71-86cb-471f716d4b14 button.colab-df-convert');\n",
              "        buttonEl.style.display =\n",
              "          google.colab.kernel.accessAllowed ? 'block' : 'none';\n",
              "\n",
              "        async function convertToInteractive(key) {\n",
              "          const element = document.querySelector('#df-f7b7b6f5-fd0c-4d71-86cb-471f716d4b14');\n",
              "          const dataTable =\n",
              "            await google.colab.kernel.invokeFunction('convertToInteractive',\n",
              "                                                     [key], {});\n",
              "          if (!dataTable) return;\n",
              "\n",
              "          const docLinkHtml = 'Like what you see? Visit the ' +\n",
              "            '<a target=\"_blank\" href=https://colab.research.google.com/notebooks/data_table.ipynb>data table notebook</a>'\n",
              "            + ' to learn more about interactive tables.';\n",
              "          element.innerHTML = '';\n",
              "          dataTable['output_type'] = 'display_data';\n",
              "          await google.colab.output.renderOutput(dataTable, element);\n",
              "          const docLink = document.createElement('div');\n",
              "          docLink.innerHTML = docLinkHtml;\n",
              "          element.appendChild(docLink);\n",
              "        }\n",
              "      </script>\n",
              "    </div>\n",
              "  </div>\n",
              "  "
            ]
          },
          "metadata": {},
          "execution_count": 40
        }
      ],
      "source": [
        "# Get data for model inference.\n",
        "# Data inference tidak boleh ada di train dan test. jadi datanya tuh dibagi buat 3 peruntukan.\n",
        "\n",
        "data_inf = df_new.sample(10, random_state=9)   # ambil 10 sampel, random state gunanya untuk biar ga berubah2, nilainya 9. Nilainya terserah gada pengaruhnya\n",
        "data_inf"
      ]
    },
    {
      "cell_type": "code",
      "execution_count": null,
      "metadata": {
        "colab": {
          "base_uri": "https://localhost:8080/",
          "height": 206
        },
        "id": "AcuhdfdxxugR",
        "outputId": "e8d7c033-f312-4191-c3da-b962ecf9b4e3"
      },
      "outputs": [
        {
          "output_type": "execute_result",
          "data": {
            "text/plain": [
              "   limit_balance  sex  education_level  marital_status   age  pay_1  pay_2  \\\n",
              "0        50000.0    1                1               2  39.0    0.0    0.0   \n",
              "1       110000.0    2                1               2  29.0    0.0    0.0   \n",
              "2       270000.0    1                1               2  36.0    0.0    0.0   \n",
              "3       130000.0    1                1               1  45.0    0.0    0.0   \n",
              "4        50000.0    1                1               2  24.0    0.0    0.0   \n",
              "\n",
              "   pay_3  pay_4  pay_5  pay_6  default_payment_next_month  \n",
              "0    0.0    0.0      0      0                           0  \n",
              "1    0.0    0.0      0      0                           0  \n",
              "2    0.0    2.0      0      0                           0  \n",
              "3    0.0    0.0      0      0                           0  \n",
              "4    0.0    0.0      0      0                           0  "
            ],
            "text/html": [
              "\n",
              "  <div id=\"df-65ddbefa-815b-4011-863d-c47ddc0260d4\">\n",
              "    <div class=\"colab-df-container\">\n",
              "      <div>\n",
              "<style scoped>\n",
              "    .dataframe tbody tr th:only-of-type {\n",
              "        vertical-align: middle;\n",
              "    }\n",
              "\n",
              "    .dataframe tbody tr th {\n",
              "        vertical-align: top;\n",
              "    }\n",
              "\n",
              "    .dataframe thead th {\n",
              "        text-align: right;\n",
              "    }\n",
              "</style>\n",
              "<table border=\"1\" class=\"dataframe\">\n",
              "  <thead>\n",
              "    <tr style=\"text-align: right;\">\n",
              "      <th></th>\n",
              "      <th>limit_balance</th>\n",
              "      <th>sex</th>\n",
              "      <th>education_level</th>\n",
              "      <th>marital_status</th>\n",
              "      <th>age</th>\n",
              "      <th>pay_1</th>\n",
              "      <th>pay_2</th>\n",
              "      <th>pay_3</th>\n",
              "      <th>pay_4</th>\n",
              "      <th>pay_5</th>\n",
              "      <th>pay_6</th>\n",
              "      <th>default_payment_next_month</th>\n",
              "    </tr>\n",
              "  </thead>\n",
              "  <tbody>\n",
              "    <tr>\n",
              "      <th>0</th>\n",
              "      <td>50000.0</td>\n",
              "      <td>1</td>\n",
              "      <td>1</td>\n",
              "      <td>2</td>\n",
              "      <td>39.0</td>\n",
              "      <td>0.0</td>\n",
              "      <td>0.0</td>\n",
              "      <td>0.0</td>\n",
              "      <td>0.0</td>\n",
              "      <td>0</td>\n",
              "      <td>0</td>\n",
              "      <td>0</td>\n",
              "    </tr>\n",
              "    <tr>\n",
              "      <th>1</th>\n",
              "      <td>110000.0</td>\n",
              "      <td>2</td>\n",
              "      <td>1</td>\n",
              "      <td>2</td>\n",
              "      <td>29.0</td>\n",
              "      <td>0.0</td>\n",
              "      <td>0.0</td>\n",
              "      <td>0.0</td>\n",
              "      <td>0.0</td>\n",
              "      <td>0</td>\n",
              "      <td>0</td>\n",
              "      <td>0</td>\n",
              "    </tr>\n",
              "    <tr>\n",
              "      <th>2</th>\n",
              "      <td>270000.0</td>\n",
              "      <td>1</td>\n",
              "      <td>1</td>\n",
              "      <td>2</td>\n",
              "      <td>36.0</td>\n",
              "      <td>0.0</td>\n",
              "      <td>0.0</td>\n",
              "      <td>0.0</td>\n",
              "      <td>2.0</td>\n",
              "      <td>0</td>\n",
              "      <td>0</td>\n",
              "      <td>0</td>\n",
              "    </tr>\n",
              "    <tr>\n",
              "      <th>3</th>\n",
              "      <td>130000.0</td>\n",
              "      <td>1</td>\n",
              "      <td>1</td>\n",
              "      <td>1</td>\n",
              "      <td>45.0</td>\n",
              "      <td>0.0</td>\n",
              "      <td>0.0</td>\n",
              "      <td>0.0</td>\n",
              "      <td>0.0</td>\n",
              "      <td>0</td>\n",
              "      <td>0</td>\n",
              "      <td>0</td>\n",
              "    </tr>\n",
              "    <tr>\n",
              "      <th>4</th>\n",
              "      <td>50000.0</td>\n",
              "      <td>1</td>\n",
              "      <td>1</td>\n",
              "      <td>2</td>\n",
              "      <td>24.0</td>\n",
              "      <td>0.0</td>\n",
              "      <td>0.0</td>\n",
              "      <td>0.0</td>\n",
              "      <td>0.0</td>\n",
              "      <td>0</td>\n",
              "      <td>0</td>\n",
              "      <td>0</td>\n",
              "    </tr>\n",
              "  </tbody>\n",
              "</table>\n",
              "</div>\n",
              "      <button class=\"colab-df-convert\" onclick=\"convertToInteractive('df-65ddbefa-815b-4011-863d-c47ddc0260d4')\"\n",
              "              title=\"Convert this dataframe to an interactive table.\"\n",
              "              style=\"display:none;\">\n",
              "        \n",
              "  <svg xmlns=\"http://www.w3.org/2000/svg\" height=\"24px\"viewBox=\"0 0 24 24\"\n",
              "       width=\"24px\">\n",
              "    <path d=\"M0 0h24v24H0V0z\" fill=\"none\"/>\n",
              "    <path d=\"M18.56 5.44l.94 2.06.94-2.06 2.06-.94-2.06-.94-.94-2.06-.94 2.06-2.06.94zm-11 1L8.5 8.5l.94-2.06 2.06-.94-2.06-.94L8.5 2.5l-.94 2.06-2.06.94zm10 10l.94 2.06.94-2.06 2.06-.94-2.06-.94-.94-2.06-.94 2.06-2.06.94z\"/><path d=\"M17.41 7.96l-1.37-1.37c-.4-.4-.92-.59-1.43-.59-.52 0-1.04.2-1.43.59L10.3 9.45l-7.72 7.72c-.78.78-.78 2.05 0 2.83L4 21.41c.39.39.9.59 1.41.59.51 0 1.02-.2 1.41-.59l7.78-7.78 2.81-2.81c.8-.78.8-2.07 0-2.86zM5.41 20L4 18.59l7.72-7.72 1.47 1.35L5.41 20z\"/>\n",
              "  </svg>\n",
              "      </button>\n",
              "      \n",
              "  <style>\n",
              "    .colab-df-container {\n",
              "      display:flex;\n",
              "      flex-wrap:wrap;\n",
              "      gap: 12px;\n",
              "    }\n",
              "\n",
              "    .colab-df-convert {\n",
              "      background-color: #E8F0FE;\n",
              "      border: none;\n",
              "      border-radius: 50%;\n",
              "      cursor: pointer;\n",
              "      display: none;\n",
              "      fill: #1967D2;\n",
              "      height: 32px;\n",
              "      padding: 0 0 0 0;\n",
              "      width: 32px;\n",
              "    }\n",
              "\n",
              "    .colab-df-convert:hover {\n",
              "      background-color: #E2EBFA;\n",
              "      box-shadow: 0px 1px 2px rgba(60, 64, 67, 0.3), 0px 1px 3px 1px rgba(60, 64, 67, 0.15);\n",
              "      fill: #174EA6;\n",
              "    }\n",
              "\n",
              "    [theme=dark] .colab-df-convert {\n",
              "      background-color: #3B4455;\n",
              "      fill: #D2E3FC;\n",
              "    }\n",
              "\n",
              "    [theme=dark] .colab-df-convert:hover {\n",
              "      background-color: #434B5C;\n",
              "      box-shadow: 0px 1px 3px 1px rgba(0, 0, 0, 0.15);\n",
              "      filter: drop-shadow(0px 1px 2px rgba(0, 0, 0, 0.3));\n",
              "      fill: #FFFFFF;\n",
              "    }\n",
              "  </style>\n",
              "\n",
              "      <script>\n",
              "        const buttonEl =\n",
              "          document.querySelector('#df-65ddbefa-815b-4011-863d-c47ddc0260d4 button.colab-df-convert');\n",
              "        buttonEl.style.display =\n",
              "          google.colab.kernel.accessAllowed ? 'block' : 'none';\n",
              "\n",
              "        async function convertToInteractive(key) {\n",
              "          const element = document.querySelector('#df-65ddbefa-815b-4011-863d-c47ddc0260d4');\n",
              "          const dataTable =\n",
              "            await google.colab.kernel.invokeFunction('convertToInteractive',\n",
              "                                                     [key], {});\n",
              "          if (!dataTable) return;\n",
              "\n",
              "          const docLinkHtml = 'Like what you see? Visit the ' +\n",
              "            '<a target=\"_blank\" href=https://colab.research.google.com/notebooks/data_table.ipynb>data table notebook</a>'\n",
              "            + ' to learn more about interactive tables.';\n",
              "          element.innerHTML = '';\n",
              "          dataTable['output_type'] = 'display_data';\n",
              "          await google.colab.output.renderOutput(dataTable, element);\n",
              "          const docLink = document.createElement('div');\n",
              "          docLink.innerHTML = docLinkHtml;\n",
              "          element.appendChild(docLink);\n",
              "        }\n",
              "      </script>\n",
              "    </div>\n",
              "  </div>\n",
              "  "
            ]
          },
          "metadata": {},
          "execution_count": 41
        }
      ],
      "source": [
        "# Remove inference-set\n",
        "\n",
        "data_train_test = df_new.drop(data_inf.index)\n",
        "data_train_test.head()"
      ]
    },
    {
      "cell_type": "code",
      "execution_count": null,
      "metadata": {
        "colab": {
          "base_uri": "https://localhost:8080/",
          "height": 206
        },
        "id": "eqZtjj6MxugS",
        "outputId": "bf7adc79-86a5-4b66-b10b-e2f3fdf15c0e"
      },
      "outputs": [
        {
          "output_type": "execute_result",
          "data": {
            "text/plain": [
              "   limit_balance  sex  education_level  marital_status   age  pay_1  pay_2  \\\n",
              "0        50000.0    1                1               2  39.0    0.0    0.0   \n",
              "1       110000.0    2                1               2  29.0    0.0    0.0   \n",
              "2       270000.0    1                1               2  36.0    0.0    0.0   \n",
              "3       130000.0    1                1               1  45.0    0.0    0.0   \n",
              "4        50000.0    1                1               2  24.0    0.0    0.0   \n",
              "\n",
              "   pay_3  pay_4  pay_5  pay_6  default_payment_next_month  \n",
              "0    0.0    0.0      0      0                           0  \n",
              "1    0.0    0.0      0      0                           0  \n",
              "2    0.0    2.0      0      0                           0  \n",
              "3    0.0    0.0      0      0                           0  \n",
              "4    0.0    0.0      0      0                           0  "
            ],
            "text/html": [
              "\n",
              "  <div id=\"df-99f34876-9f13-40db-a59c-c01b40e42397\">\n",
              "    <div class=\"colab-df-container\">\n",
              "      <div>\n",
              "<style scoped>\n",
              "    .dataframe tbody tr th:only-of-type {\n",
              "        vertical-align: middle;\n",
              "    }\n",
              "\n",
              "    .dataframe tbody tr th {\n",
              "        vertical-align: top;\n",
              "    }\n",
              "\n",
              "    .dataframe thead th {\n",
              "        text-align: right;\n",
              "    }\n",
              "</style>\n",
              "<table border=\"1\" class=\"dataframe\">\n",
              "  <thead>\n",
              "    <tr style=\"text-align: right;\">\n",
              "      <th></th>\n",
              "      <th>limit_balance</th>\n",
              "      <th>sex</th>\n",
              "      <th>education_level</th>\n",
              "      <th>marital_status</th>\n",
              "      <th>age</th>\n",
              "      <th>pay_1</th>\n",
              "      <th>pay_2</th>\n",
              "      <th>pay_3</th>\n",
              "      <th>pay_4</th>\n",
              "      <th>pay_5</th>\n",
              "      <th>pay_6</th>\n",
              "      <th>default_payment_next_month</th>\n",
              "    </tr>\n",
              "  </thead>\n",
              "  <tbody>\n",
              "    <tr>\n",
              "      <th>0</th>\n",
              "      <td>50000.0</td>\n",
              "      <td>1</td>\n",
              "      <td>1</td>\n",
              "      <td>2</td>\n",
              "      <td>39.0</td>\n",
              "      <td>0.0</td>\n",
              "      <td>0.0</td>\n",
              "      <td>0.0</td>\n",
              "      <td>0.0</td>\n",
              "      <td>0</td>\n",
              "      <td>0</td>\n",
              "      <td>0</td>\n",
              "    </tr>\n",
              "    <tr>\n",
              "      <th>1</th>\n",
              "      <td>110000.0</td>\n",
              "      <td>2</td>\n",
              "      <td>1</td>\n",
              "      <td>2</td>\n",
              "      <td>29.0</td>\n",
              "      <td>0.0</td>\n",
              "      <td>0.0</td>\n",
              "      <td>0.0</td>\n",
              "      <td>0.0</td>\n",
              "      <td>0</td>\n",
              "      <td>0</td>\n",
              "      <td>0</td>\n",
              "    </tr>\n",
              "    <tr>\n",
              "      <th>2</th>\n",
              "      <td>270000.0</td>\n",
              "      <td>1</td>\n",
              "      <td>1</td>\n",
              "      <td>2</td>\n",
              "      <td>36.0</td>\n",
              "      <td>0.0</td>\n",
              "      <td>0.0</td>\n",
              "      <td>0.0</td>\n",
              "      <td>2.0</td>\n",
              "      <td>0</td>\n",
              "      <td>0</td>\n",
              "      <td>0</td>\n",
              "    </tr>\n",
              "    <tr>\n",
              "      <th>3</th>\n",
              "      <td>130000.0</td>\n",
              "      <td>1</td>\n",
              "      <td>1</td>\n",
              "      <td>1</td>\n",
              "      <td>45.0</td>\n",
              "      <td>0.0</td>\n",
              "      <td>0.0</td>\n",
              "      <td>0.0</td>\n",
              "      <td>0.0</td>\n",
              "      <td>0</td>\n",
              "      <td>0</td>\n",
              "      <td>0</td>\n",
              "    </tr>\n",
              "    <tr>\n",
              "      <th>4</th>\n",
              "      <td>50000.0</td>\n",
              "      <td>1</td>\n",
              "      <td>1</td>\n",
              "      <td>2</td>\n",
              "      <td>24.0</td>\n",
              "      <td>0.0</td>\n",
              "      <td>0.0</td>\n",
              "      <td>0.0</td>\n",
              "      <td>0.0</td>\n",
              "      <td>0</td>\n",
              "      <td>0</td>\n",
              "      <td>0</td>\n",
              "    </tr>\n",
              "  </tbody>\n",
              "</table>\n",
              "</div>\n",
              "      <button class=\"colab-df-convert\" onclick=\"convertToInteractive('df-99f34876-9f13-40db-a59c-c01b40e42397')\"\n",
              "              title=\"Convert this dataframe to an interactive table.\"\n",
              "              style=\"display:none;\">\n",
              "        \n",
              "  <svg xmlns=\"http://www.w3.org/2000/svg\" height=\"24px\"viewBox=\"0 0 24 24\"\n",
              "       width=\"24px\">\n",
              "    <path d=\"M0 0h24v24H0V0z\" fill=\"none\"/>\n",
              "    <path d=\"M18.56 5.44l.94 2.06.94-2.06 2.06-.94-2.06-.94-.94-2.06-.94 2.06-2.06.94zm-11 1L8.5 8.5l.94-2.06 2.06-.94-2.06-.94L8.5 2.5l-.94 2.06-2.06.94zm10 10l.94 2.06.94-2.06 2.06-.94-2.06-.94-.94-2.06-.94 2.06-2.06.94z\"/><path d=\"M17.41 7.96l-1.37-1.37c-.4-.4-.92-.59-1.43-.59-.52 0-1.04.2-1.43.59L10.3 9.45l-7.72 7.72c-.78.78-.78 2.05 0 2.83L4 21.41c.39.39.9.59 1.41.59.51 0 1.02-.2 1.41-.59l7.78-7.78 2.81-2.81c.8-.78.8-2.07 0-2.86zM5.41 20L4 18.59l7.72-7.72 1.47 1.35L5.41 20z\"/>\n",
              "  </svg>\n",
              "      </button>\n",
              "      \n",
              "  <style>\n",
              "    .colab-df-container {\n",
              "      display:flex;\n",
              "      flex-wrap:wrap;\n",
              "      gap: 12px;\n",
              "    }\n",
              "\n",
              "    .colab-df-convert {\n",
              "      background-color: #E8F0FE;\n",
              "      border: none;\n",
              "      border-radius: 50%;\n",
              "      cursor: pointer;\n",
              "      display: none;\n",
              "      fill: #1967D2;\n",
              "      height: 32px;\n",
              "      padding: 0 0 0 0;\n",
              "      width: 32px;\n",
              "    }\n",
              "\n",
              "    .colab-df-convert:hover {\n",
              "      background-color: #E2EBFA;\n",
              "      box-shadow: 0px 1px 2px rgba(60, 64, 67, 0.3), 0px 1px 3px 1px rgba(60, 64, 67, 0.15);\n",
              "      fill: #174EA6;\n",
              "    }\n",
              "\n",
              "    [theme=dark] .colab-df-convert {\n",
              "      background-color: #3B4455;\n",
              "      fill: #D2E3FC;\n",
              "    }\n",
              "\n",
              "    [theme=dark] .colab-df-convert:hover {\n",
              "      background-color: #434B5C;\n",
              "      box-shadow: 0px 1px 3px 1px rgba(0, 0, 0, 0.15);\n",
              "      filter: drop-shadow(0px 1px 2px rgba(0, 0, 0, 0.3));\n",
              "      fill: #FFFFFF;\n",
              "    }\n",
              "  </style>\n",
              "\n",
              "      <script>\n",
              "        const buttonEl =\n",
              "          document.querySelector('#df-99f34876-9f13-40db-a59c-c01b40e42397 button.colab-df-convert');\n",
              "        buttonEl.style.display =\n",
              "          google.colab.kernel.accessAllowed ? 'block' : 'none';\n",
              "\n",
              "        async function convertToInteractive(key) {\n",
              "          const element = document.querySelector('#df-99f34876-9f13-40db-a59c-c01b40e42397');\n",
              "          const dataTable =\n",
              "            await google.colab.kernel.invokeFunction('convertToInteractive',\n",
              "                                                     [key], {});\n",
              "          if (!dataTable) return;\n",
              "\n",
              "          const docLinkHtml = 'Like what you see? Visit the ' +\n",
              "            '<a target=\"_blank\" href=https://colab.research.google.com/notebooks/data_table.ipynb>data table notebook</a>'\n",
              "            + ' to learn more about interactive tables.';\n",
              "          element.innerHTML = '';\n",
              "          dataTable['output_type'] = 'display_data';\n",
              "          await google.colab.output.renderOutput(dataTable, element);\n",
              "          const docLink = document.createElement('div');\n",
              "          docLink.innerHTML = docLinkHtml;\n",
              "          element.appendChild(docLink);\n",
              "        }\n",
              "      </script>\n",
              "    </div>\n",
              "  </div>\n",
              "  "
            ]
          },
          "metadata": {},
          "execution_count": 42
        }
      ],
      "source": [
        "# Reset index\n",
        "data_train_test.reset_index(drop=True, inplace=True)\n",
        "data_inf.reset_index(drop=True, inplace=True)\n",
        "data_train_test.head()"
      ]
    },
    {
      "cell_type": "markdown",
      "metadata": {
        "id": "BkV6b015xugT"
      },
      "source": [
        "## 5.2. Splitting Dataset"
      ]
    },
    {
      "cell_type": "code",
      "execution_count": null,
      "metadata": {
        "colab": {
          "base_uri": "https://localhost:8080/",
          "height": 206
        },
        "id": "WbwyrhJjxugU",
        "outputId": "43c961fd-4e4c-496f-8bca-e7eb35556220"
      },
      "outputs": [
        {
          "output_type": "execute_result",
          "data": {
            "text/plain": [
              "   limit_balance  sex  education_level  marital_status   age  pay_1  pay_2  \\\n",
              "0        50000.0    1                1               2  39.0    0.0    0.0   \n",
              "1       110000.0    2                1               2  29.0    0.0    0.0   \n",
              "2       270000.0    1                1               2  36.0    0.0    0.0   \n",
              "3       130000.0    1                1               1  45.0    0.0    0.0   \n",
              "4        50000.0    1                1               2  24.0    0.0    0.0   \n",
              "\n",
              "   pay_3  pay_4  pay_5  pay_6  \n",
              "0    0.0    0.0      0      0  \n",
              "1    0.0    0.0      0      0  \n",
              "2    0.0    2.0      0      0  \n",
              "3    0.0    0.0      0      0  \n",
              "4    0.0    0.0      0      0  "
            ],
            "text/html": [
              "\n",
              "  <div id=\"df-bb9f3a5f-becf-4ed5-a368-609a254ef08a\">\n",
              "    <div class=\"colab-df-container\">\n",
              "      <div>\n",
              "<style scoped>\n",
              "    .dataframe tbody tr th:only-of-type {\n",
              "        vertical-align: middle;\n",
              "    }\n",
              "\n",
              "    .dataframe tbody tr th {\n",
              "        vertical-align: top;\n",
              "    }\n",
              "\n",
              "    .dataframe thead th {\n",
              "        text-align: right;\n",
              "    }\n",
              "</style>\n",
              "<table border=\"1\" class=\"dataframe\">\n",
              "  <thead>\n",
              "    <tr style=\"text-align: right;\">\n",
              "      <th></th>\n",
              "      <th>limit_balance</th>\n",
              "      <th>sex</th>\n",
              "      <th>education_level</th>\n",
              "      <th>marital_status</th>\n",
              "      <th>age</th>\n",
              "      <th>pay_1</th>\n",
              "      <th>pay_2</th>\n",
              "      <th>pay_3</th>\n",
              "      <th>pay_4</th>\n",
              "      <th>pay_5</th>\n",
              "      <th>pay_6</th>\n",
              "    </tr>\n",
              "  </thead>\n",
              "  <tbody>\n",
              "    <tr>\n",
              "      <th>0</th>\n",
              "      <td>50000.0</td>\n",
              "      <td>1</td>\n",
              "      <td>1</td>\n",
              "      <td>2</td>\n",
              "      <td>39.0</td>\n",
              "      <td>0.0</td>\n",
              "      <td>0.0</td>\n",
              "      <td>0.0</td>\n",
              "      <td>0.0</td>\n",
              "      <td>0</td>\n",
              "      <td>0</td>\n",
              "    </tr>\n",
              "    <tr>\n",
              "      <th>1</th>\n",
              "      <td>110000.0</td>\n",
              "      <td>2</td>\n",
              "      <td>1</td>\n",
              "      <td>2</td>\n",
              "      <td>29.0</td>\n",
              "      <td>0.0</td>\n",
              "      <td>0.0</td>\n",
              "      <td>0.0</td>\n",
              "      <td>0.0</td>\n",
              "      <td>0</td>\n",
              "      <td>0</td>\n",
              "    </tr>\n",
              "    <tr>\n",
              "      <th>2</th>\n",
              "      <td>270000.0</td>\n",
              "      <td>1</td>\n",
              "      <td>1</td>\n",
              "      <td>2</td>\n",
              "      <td>36.0</td>\n",
              "      <td>0.0</td>\n",
              "      <td>0.0</td>\n",
              "      <td>0.0</td>\n",
              "      <td>2.0</td>\n",
              "      <td>0</td>\n",
              "      <td>0</td>\n",
              "    </tr>\n",
              "    <tr>\n",
              "      <th>3</th>\n",
              "      <td>130000.0</td>\n",
              "      <td>1</td>\n",
              "      <td>1</td>\n",
              "      <td>1</td>\n",
              "      <td>45.0</td>\n",
              "      <td>0.0</td>\n",
              "      <td>0.0</td>\n",
              "      <td>0.0</td>\n",
              "      <td>0.0</td>\n",
              "      <td>0</td>\n",
              "      <td>0</td>\n",
              "    </tr>\n",
              "    <tr>\n",
              "      <th>4</th>\n",
              "      <td>50000.0</td>\n",
              "      <td>1</td>\n",
              "      <td>1</td>\n",
              "      <td>2</td>\n",
              "      <td>24.0</td>\n",
              "      <td>0.0</td>\n",
              "      <td>0.0</td>\n",
              "      <td>0.0</td>\n",
              "      <td>0.0</td>\n",
              "      <td>0</td>\n",
              "      <td>0</td>\n",
              "    </tr>\n",
              "  </tbody>\n",
              "</table>\n",
              "</div>\n",
              "      <button class=\"colab-df-convert\" onclick=\"convertToInteractive('df-bb9f3a5f-becf-4ed5-a368-609a254ef08a')\"\n",
              "              title=\"Convert this dataframe to an interactive table.\"\n",
              "              style=\"display:none;\">\n",
              "        \n",
              "  <svg xmlns=\"http://www.w3.org/2000/svg\" height=\"24px\"viewBox=\"0 0 24 24\"\n",
              "       width=\"24px\">\n",
              "    <path d=\"M0 0h24v24H0V0z\" fill=\"none\"/>\n",
              "    <path d=\"M18.56 5.44l.94 2.06.94-2.06 2.06-.94-2.06-.94-.94-2.06-.94 2.06-2.06.94zm-11 1L8.5 8.5l.94-2.06 2.06-.94-2.06-.94L8.5 2.5l-.94 2.06-2.06.94zm10 10l.94 2.06.94-2.06 2.06-.94-2.06-.94-.94-2.06-.94 2.06-2.06.94z\"/><path d=\"M17.41 7.96l-1.37-1.37c-.4-.4-.92-.59-1.43-.59-.52 0-1.04.2-1.43.59L10.3 9.45l-7.72 7.72c-.78.78-.78 2.05 0 2.83L4 21.41c.39.39.9.59 1.41.59.51 0 1.02-.2 1.41-.59l7.78-7.78 2.81-2.81c.8-.78.8-2.07 0-2.86zM5.41 20L4 18.59l7.72-7.72 1.47 1.35L5.41 20z\"/>\n",
              "  </svg>\n",
              "      </button>\n",
              "      \n",
              "  <style>\n",
              "    .colab-df-container {\n",
              "      display:flex;\n",
              "      flex-wrap:wrap;\n",
              "      gap: 12px;\n",
              "    }\n",
              "\n",
              "    .colab-df-convert {\n",
              "      background-color: #E8F0FE;\n",
              "      border: none;\n",
              "      border-radius: 50%;\n",
              "      cursor: pointer;\n",
              "      display: none;\n",
              "      fill: #1967D2;\n",
              "      height: 32px;\n",
              "      padding: 0 0 0 0;\n",
              "      width: 32px;\n",
              "    }\n",
              "\n",
              "    .colab-df-convert:hover {\n",
              "      background-color: #E2EBFA;\n",
              "      box-shadow: 0px 1px 2px rgba(60, 64, 67, 0.3), 0px 1px 3px 1px rgba(60, 64, 67, 0.15);\n",
              "      fill: #174EA6;\n",
              "    }\n",
              "\n",
              "    [theme=dark] .colab-df-convert {\n",
              "      background-color: #3B4455;\n",
              "      fill: #D2E3FC;\n",
              "    }\n",
              "\n",
              "    [theme=dark] .colab-df-convert:hover {\n",
              "      background-color: #434B5C;\n",
              "      box-shadow: 0px 1px 3px 1px rgba(0, 0, 0, 0.15);\n",
              "      filter: drop-shadow(0px 1px 2px rgba(0, 0, 0, 0.3));\n",
              "      fill: #FFFFFF;\n",
              "    }\n",
              "  </style>\n",
              "\n",
              "      <script>\n",
              "        const buttonEl =\n",
              "          document.querySelector('#df-bb9f3a5f-becf-4ed5-a368-609a254ef08a button.colab-df-convert');\n",
              "        buttonEl.style.display =\n",
              "          google.colab.kernel.accessAllowed ? 'block' : 'none';\n",
              "\n",
              "        async function convertToInteractive(key) {\n",
              "          const element = document.querySelector('#df-bb9f3a5f-becf-4ed5-a368-609a254ef08a');\n",
              "          const dataTable =\n",
              "            await google.colab.kernel.invokeFunction('convertToInteractive',\n",
              "                                                     [key], {});\n",
              "          if (!dataTable) return;\n",
              "\n",
              "          const docLinkHtml = 'Like what you see? Visit the ' +\n",
              "            '<a target=\"_blank\" href=https://colab.research.google.com/notebooks/data_table.ipynb>data table notebook</a>'\n",
              "            + ' to learn more about interactive tables.';\n",
              "          element.innerHTML = '';\n",
              "          dataTable['output_type'] = 'display_data';\n",
              "          await google.colab.output.renderOutput(dataTable, element);\n",
              "          const docLink = document.createElement('div');\n",
              "          docLink.innerHTML = docLinkHtml;\n",
              "          element.appendChild(docLink);\n",
              "        }\n",
              "      </script>\n",
              "    </div>\n",
              "  </div>\n",
              "  "
            ]
          },
          "metadata": {},
          "execution_count": 43
        }
      ],
      "source": [
        "# Split between 'X' (features) and 'y' (target)\n",
        "X = data_train_test.drop('default_payment_next_month', axis = 1)\n",
        "y = data_train_test['default_payment_next_month']\n",
        "X.head()"
      ]
    },
    {
      "cell_type": "code",
      "execution_count": null,
      "metadata": {
        "colab": {
          "base_uri": "https://localhost:8080/"
        },
        "id": "hasYEQqnxugU",
        "outputId": "a75ebc0e-b8e3-4c29-8f22-2f328b09c4c4"
      },
      "outputs": [
        {
          "output_type": "stream",
          "name": "stdout",
          "text": [
            "Train Size :  (2364, 11)\n",
            "Test Size :  (591, 11)\n"
          ]
        }
      ],
      "source": [
        "# Split between train-set and test-set\n",
        "\n",
        "X_train, X_test, y_train, y_test = train_test_split(X, y, test_size=0.2, random_state=17) # sebanyak 20% data jadi data test, 80% train\n",
        "\n",
        "print('Train Size : ', X_train.shape)\n",
        "print('Test Size : ', X_test.shape)"
      ]
    },
    {
      "cell_type": "markdown",
      "metadata": {
        "id": "y_j06WuXxugV"
      },
      "source": [
        "## 5.3. Outlier Handling"
      ]
    },
    {
      "cell_type": "markdown",
      "metadata": {
        "id": "U2MNISa9xugV"
      },
      "source": [
        "Saya akan handling outlier untuk kolom numerikal yaitu kolom `age` dan `limit_balance`"
      ]
    },
    {
      "cell_type": "markdown",
      "metadata": {
        "id": "sFM7IWgbxugW"
      },
      "source": [
        "### 5.3.1. Outlier Detection"
      ]
    },
    {
      "cell_type": "markdown",
      "metadata": {
        "id": "san9QKeIxugW"
      },
      "source": [
        "Checking normality of the data distribution"
      ]
    },
    {
      "cell_type": "code",
      "execution_count": null,
      "metadata": {
        "colab": {
          "base_uri": "https://localhost:8080/",
          "height": 269
        },
        "id": "7kIX9IGpxugX",
        "outputId": "56e1b0ce-f800-486c-88b7-09cc77215046"
      },
      "outputs": [
        {
          "output_type": "execute_result",
          "data": {
            "text/plain": [
              "<matplotlib.axes._subplots.AxesSubplot at 0x7f77acf0e350>"
            ]
          },
          "metadata": {},
          "execution_count": 45
        },
        {
          "output_type": "display_data",
          "data": {
            "text/plain": [
              "<Figure size 432x288 with 1 Axes>"
            ],
            "image/png": "[encoded data removed]"
          },
          "metadata": {
            "needs_background": "light"
          }
        }
      ],
      "source": [
        "sns.boxplot(y=X_train['age'])"
      ]
    },
    {
      "cell_type": "code",
      "execution_count": null,
      "metadata": {
        "colab": {
          "base_uri": "https://localhost:8080/",
          "height": 269
        },
        "id": "FDHDdJSqxugX",
        "outputId": "e4bcd3b9-f47e-4566-d3d6-4ec7052858e8"
      },
      "outputs": [
        {
          "output_type": "execute_result",
          "data": {
            "text/plain": [
              "<matplotlib.axes._subplots.AxesSubplot at 0x7f77a8d81bd0>"
            ]
          },
          "metadata": {},
          "execution_count": 46
        },
        {
          "output_type": "display_data",
          "data": {
            "text/plain": [
              "<Figure size 432x288 with 1 Axes>"
            ],
            "image/png": "[encoded data removed]"
          },
          "metadata": {
            "needs_background": "light"
          }
        }
      ],
      "source": [
        "sns.boxplot(y=X_train['limit_balance'])"
      ]
    },
    {
      "cell_type": "code",
      "execution_count": null,
      "metadata": {
        "colab": {
          "base_uri": "https://localhost:8080/"
        },
        "id": "FE2zyVxvxugY",
        "outputId": "e5f1c11a-bba7-4245-ce01-a9a46879ba27"
      },
      "outputs": [
        {
          "output_type": "execute_result",
          "data": {
            "text/plain": [
              "0.7734975791839716"
            ]
          },
          "metadata": {},
          "execution_count": 47
        }
      ],
      "source": [
        "X_train['age'].skew()"
      ]
    },
    {
      "cell_type": "code",
      "execution_count": null,
      "metadata": {
        "colab": {
          "base_uri": "https://localhost:8080/"
        },
        "id": "15_nH4QwxugY",
        "outputId": "b3d01dbd-29d6-4d39-fe71-2a88d10334c8"
      },
      "outputs": [
        {
          "output_type": "execute_result",
          "data": {
            "text/plain": [
              "1.044636835109497"
            ]
          },
          "metadata": {},
          "execution_count": 48
        }
      ],
      "source": [
        "X_train['limit_balance'].skew()"
      ]
    },
    {
      "cell_type": "markdown",
      "metadata": {
        "id": "x3MNr42uxugZ"
      },
      "source": [
        "data yang skew adalah data dengan skewness <-0.5 dan >0.5 dan akan dideteksi outliernya dengan metode IQR. Data yang tidak skew dideteksi dengan metode std.\n",
        "\n",
        "kolom `age` dan kolom `limit_balance` memiliki skewness > 0.5 sehingga kolom ini right-skewed."
      ]
    },
    {
      "cell_type": "markdown",
      "metadata": {
        "id": "6Vdgxq3rxuga"
      },
      "source": [
        "Outliers Detection - IQR"
      ]
    },
    {
      "cell_type": "code",
      "execution_count": null,
      "metadata": {
        "id": "QfW-aSr9xugp"
      },
      "outputs": [],
      "source": [
        "# Function to find upper and lower boundaries for skewed distributed variables\n",
        "# Let's calculate the boundaries outside which sit the outliers for skewed distributions\n",
        "# Distance passed as an argument, gives us the option to estimate 1.5 times or 3 times the IQR to calculate the boundaries.\n",
        "\n",
        "def find_skewed_boundaries(df, variable, distance):\n",
        "    IQR = df[variable].quantile(0.75) - df[variable].quantile(0.25)\n",
        "\n",
        "    lower_boundary = df[variable].quantile(0.25) - (IQR * distance)\n",
        "    upper_boundary = df[variable].quantile(0.75) + (IQR * distance)\n",
        "\n",
        "    return upper_boundary, lower_boundary"
      ]
    },
    {
      "cell_type": "markdown",
      "metadata": {
        "id": "cN-e95Rbxugq"
      },
      "source": [
        "Outlier detection - IQR : age"
      ]
    },
    {
      "cell_type": "code",
      "execution_count": null,
      "metadata": {
        "colab": {
          "base_uri": "https://localhost:8080/"
        },
        "id": "D_2uJ2KQxugv",
        "outputId": "5c7ff5f1-6327-4381-f443-f0f576631aa5"
      },
      "outputs": [
        {
          "output_type": "execute_result",
          "data": {
            "text/plain": [
              "(60.5, 8.5)"
            ]
          },
          "metadata": {},
          "execution_count": 50
        }
      ],
      "source": [
        "upper_age, lower_age = find_skewed_boundaries(X_train, 'age',1.5)\n",
        "upper_age, lower_age"
      ]
    },
    {
      "cell_type": "code",
      "execution_count": null,
      "metadata": {
        "colab": {
          "base_uri": "https://localhost:8080/"
        },
        "id": "IAREr7LWxugv",
        "outputId": "ea4cae80-7bcb-43ab-8747-ef96c6889500"
      },
      "outputs": [
        {
          "output_type": "stream",
          "name": "stdout",
          "text": [
            "Total data: 2364\n",
            "Data with age bigger than 60.5   : 1\n",
            "\n",
            "% data with age bigger than 60.5 : 0.04230118443316413\n"
          ]
        }
      ],
      "source": [
        "print('Total data: {}'.format(len(X_train)))\n",
        "print('Data with age bigger than 60.5   : {}'.format(len([X_train['age'] > upper_age])))\n",
        "print('')\n",
        "print('% data with age bigger than 60.5 : {}'.format(len([X_train['age'] > upper_age])/len(X_train) * 100))"
      ]
    },
    {
      "cell_type": "markdown",
      "metadata": {
        "id": "Nmtr4qpyxugw"
      },
      "source": [
        "Outlier detection - IQR : limit_balance"
      ]
    },
    {
      "cell_type": "code",
      "execution_count": null,
      "metadata": {
        "colab": {
          "base_uri": "https://localhost:8080/"
        },
        "id": "08jcOap3xugx",
        "outputId": "36884ba0-9da3-467f-940f-1e1e881c237c"
      },
      "outputs": [
        {
          "output_type": "execute_result",
          "data": {
            "text/plain": [
              "(500000.0, -220000.0)"
            ]
          },
          "metadata": {},
          "execution_count": 52
        }
      ],
      "source": [
        "upper_lb, lower_lb = find_skewed_boundaries(X_train, 'limit_balance', 1.5)\n",
        "upper_lb, lower_lb"
      ]
    },
    {
      "cell_type": "code",
      "execution_count": null,
      "metadata": {
        "colab": {
          "base_uri": "https://localhost:8080/"
        },
        "id": "q0H2-tr8xugx",
        "outputId": "64ee1cef-547e-48e6-caa6-7b4cad6d2794"
      },
      "outputs": [
        {
          "output_type": "stream",
          "name": "stdout",
          "text": [
            "Total data: 2364\n",
            "Data with limit_balance bigger than 500000.0   : 1\n",
            "% data with limit_balance bigger than 500000.0 : 0.04230118443316413\n"
          ]
        }
      ],
      "source": [
        "print('Total data: {}'.format(len(X_train)))\n",
        "print('Data with limit_balance bigger than 500000.0   : {}'.format(len([X_train['limit_balance'] > upper_lb])))\n",
        "print('% data with limit_balance bigger than 500000.0 : {}'.format(len([X_train['limit_balance'] > upper_lb])/len(X_train) * 100))"
      ]
    },
    {
      "cell_type": "markdown",
      "metadata": {
        "id": "p_HofrnSxugy"
      },
      "source": [
        "Ternyata untuk kolom `age` dan `limit_balance` hanya ada kurang dari 1% outlier dari keseluruhan data train. Maka saya akan lakukan metode trimming untuk handling outliers."
      ]
    },
    {
      "cell_type": "markdown",
      "metadata": {
        "id": "lPkMeU2Fxugz"
      },
      "source": [
        "### 5.3.2. Outliers Handling - Trimming"
      ]
    },
    {
      "cell_type": "markdown",
      "metadata": {
        "id": "fqb2ymIexugz"
      },
      "source": [
        "Trimming kolom `age`"
      ]
    },
    {
      "cell_type": "code",
      "execution_count": null,
      "metadata": {
        "colab": {
          "base_uri": "https://localhost:8080/"
        },
        "id": "YFnDR6E7xugz",
        "outputId": "4966916a-cf0b-4a3c-9415-c99e9625f2af"
      },
      "outputs": [
        {
          "output_type": "execute_result",
          "data": {
            "text/plain": [
              "count    2364.000000\n",
              "mean       35.205584\n",
              "std         9.112874\n",
              "min        21.000000\n",
              "25%        28.000000\n",
              "50%        34.000000\n",
              "75%        41.000000\n",
              "max        69.000000\n",
              "Name: age, dtype: float64"
            ]
          },
          "metadata": {},
          "execution_count": 54
        }
      ],
      "source": [
        "# mengecek count, min, dan max data X_train awal\n",
        "X_train['age'].describe()"
      ]
    },
    {
      "cell_type": "markdown",
      "metadata": {
        "id": "hiNCYa04xug0"
      },
      "source": [
        "data awal X_train\n",
        "- banyak data : 2364\n",
        "- nilai minimal ['age']: 21\n",
        "- nilai maksimal ['age'] : 69"
      ]
    },
    {
      "cell_type": "code",
      "execution_count": null,
      "metadata": {
        "colab": {
          "base_uri": "https://localhost:8080/"
        },
        "id": "eIZmfBScxug1",
        "outputId": "33fbcce6-7473-499b-8b8a-b6ae331d80a7"
      },
      "outputs": [
        {
          "output_type": "execute_result",
          "data": {
            "text/plain": [
              "count    2342.000000\n",
              "mean       34.938514\n",
              "std         8.722773\n",
              "min        21.000000\n",
              "25%        28.000000\n",
              "50%        33.000000\n",
              "75%        41.000000\n",
              "max        60.000000\n",
              "Name: age, dtype: float64"
            ]
          },
          "metadata": {},
          "execution_count": 55
        }
      ],
      "source": [
        "# drop data X_train berdasarkan index yang memenuhi syarat outlier\n",
        "index1 = X_train[(X_train['age'] > upper_age)].index\n",
        "X_train.drop(index1, inplace=True)\n",
        "\n",
        "# mengecek count, min, dan max data X_train setelah di trimming 1\n",
        "X_train['age'].describe()"
      ]
    },
    {
      "cell_type": "markdown",
      "metadata": {
        "id": "rE7bRu4oxug1"
      },
      "source": [
        "data X_train trimming I\n",
        "- banyak data : 2342\n",
        "- nilai minimal ['age'] : 21\n",
        "- nilai maksimal ['age'] : 60"
      ]
    },
    {
      "cell_type": "code",
      "execution_count": null,
      "metadata": {
        "colab": {
          "base_uri": "https://localhost:8080/"
        },
        "id": "GK5oPeFmxug1",
        "outputId": "3e6c4752-4c5c-4ee4-a5d4-e24a2a3fc3a8"
      },
      "outputs": [
        {
          "output_type": "stream",
          "name": "stdout",
          "text": [
            "0    1857\n",
            "1     507\n",
            "Name: default_payment_next_month, dtype: int64\n"
          ]
        }
      ],
      "source": [
        "# mengecek count awal y_train\n",
        "print(y_train.value_counts())"
      ]
    },
    {
      "cell_type": "markdown",
      "metadata": {
        "id": "xd-1wJmgxug2"
      },
      "source": [
        "data awal y_train\n",
        "- banyak data : 1857 + 507 = 2364"
      ]
    },
    {
      "cell_type": "code",
      "execution_count": null,
      "metadata": {
        "colab": {
          "base_uri": "https://localhost:8080/"
        },
        "id": "pqDr_f3Ixug2",
        "outputId": "b5f4d7df-eca6-4ba7-f195-910291485297"
      },
      "outputs": [
        {
          "output_type": "execute_result",
          "data": {
            "text/plain": [
              "0    1839\n",
              "1     503\n",
              "Name: default_payment_next_month, dtype: int64"
            ]
          },
          "metadata": {},
          "execution_count": 57
        }
      ],
      "source": [
        "# drop data y_train berdasarkan index yang memenuhi syarat outlier\n",
        "y_train.drop(index1, inplace=True)\n",
        "\n",
        "# mengecek count y_train setelah di trimming 1\n",
        "y_train.value_counts()"
      ]
    },
    {
      "cell_type": "markdown",
      "metadata": {
        "id": "xan8GpV_xug3"
      },
      "source": [
        "data y_train setelah trimming I\n",
        "- banyak data : 1839 + 503 = 2342"
      ]
    },
    {
      "cell_type": "markdown",
      "metadata": {
        "id": "lnf6UCgCxug3"
      },
      "source": [
        "Trimming kolom `limit_balance`"
      ]
    },
    {
      "cell_type": "code",
      "execution_count": null,
      "metadata": {
        "colab": {
          "base_uri": "https://localhost:8080/"
        },
        "id": "ea0p5IY4xug4",
        "outputId": "e5145df5-0d23-46a4-86be-2fb3aabe2ec9"
      },
      "outputs": [
        {
          "output_type": "execute_result",
          "data": {
            "text/plain": [
              "count      2342.000000\n",
              "mean     161225.448335\n",
              "std      125595.689481\n",
              "min       10000.000000\n",
              "25%       50000.000000\n",
              "50%      130000.000000\n",
              "75%      230000.000000\n",
              "max      800000.000000\n",
              "Name: limit_balance, dtype: float64"
            ]
          },
          "metadata": {},
          "execution_count": 58
        }
      ],
      "source": [
        "# mengecek count, min, dan max data X_train setelah trimming 1\n",
        "X_train['limit_balance'].describe()"
      ]
    },
    {
      "cell_type": "markdown",
      "metadata": {
        "id": "VF1tjJ1Qxug5"
      },
      "source": [
        "data X_train sebelum trimming II \n",
        "- banyak data : 2342\n",
        "- nilai minimal ['limit_balance'] : 10000\n",
        "- nilai maksimal ['limit_balance'] : 800000"
      ]
    },
    {
      "cell_type": "code",
      "execution_count": null,
      "metadata": {
        "colab": {
          "base_uri": "https://localhost:8080/"
        },
        "id": "J9NrwTIdxug5",
        "outputId": "26d104bc-af8b-4221-ea07-fd340238fa74"
      },
      "outputs": [
        {
          "output_type": "execute_result",
          "data": {
            "text/plain": [
              "count      2332.000000\n",
              "mean     159249.571184\n",
              "std      121980.276253\n",
              "min       10000.000000\n",
              "25%       50000.000000\n",
              "50%      130000.000000\n",
              "75%      230000.000000\n",
              "max      500000.000000\n",
              "Name: limit_balance, dtype: float64"
            ]
          },
          "metadata": {},
          "execution_count": 59
        }
      ],
      "source": [
        "# drop data X_train berdasarkan index yang memenuhi syarat outlier\n",
        "index2 = X_train[(X_train['limit_balance'] > upper_lb)|(X_train['limit_balance'] < lower_lb)].index\n",
        "X_train.drop(index2, inplace=True)\n",
        "\n",
        "# mengecek count, min, dan max data X_train setelah di trimming 2\n",
        "X_train['limit_balance'].describe()"
      ]
    },
    {
      "cell_type": "markdown",
      "metadata": {
        "id": "HS0b1oDpxug6"
      },
      "source": [
        "data X_train setelah trimming II \n",
        "- banyak data : 2332\n",
        "- nilai minimal ['hours_per_week] : 10000\n",
        "- nilai maksimal ['hours_per_week] : 500000"
      ]
    },
    {
      "cell_type": "code",
      "execution_count": null,
      "metadata": {
        "colab": {
          "base_uri": "https://localhost:8080/"
        },
        "id": "1v1-05NKxug6",
        "outputId": "3e9ad0d1-9477-4375-b762-b9eb379d539d"
      },
      "outputs": [
        {
          "output_type": "stream",
          "name": "stdout",
          "text": [
            "0    1839\n",
            "1     503\n",
            "Name: default_payment_next_month, dtype: int64\n"
          ]
        }
      ],
      "source": [
        "# mengecek count awal y_train\n",
        "print(y_train.value_counts())"
      ]
    },
    {
      "cell_type": "markdown",
      "metadata": {
        "id": "WVzf3bzUxug7"
      },
      "source": [
        "data y_train sebelum trimming II \n",
        "- banyak data : 1839 + 503 = 2342"
      ]
    },
    {
      "cell_type": "code",
      "execution_count": null,
      "metadata": {
        "colab": {
          "base_uri": "https://localhost:8080/"
        },
        "id": "MF6FyM2mxug7",
        "outputId": "c5f6d240-c3a0-4c06-9b88-54f14ba7950e"
      },
      "outputs": [
        {
          "output_type": "execute_result",
          "data": {
            "text/plain": [
              "0    1829\n",
              "1     503\n",
              "Name: default_payment_next_month, dtype: int64"
            ]
          },
          "metadata": {},
          "execution_count": 61
        }
      ],
      "source": [
        "# drop data y_train berdasarkan index yang memenuhi syarat outlier\n",
        "y_train.drop(index2, inplace=True)\n",
        "\n",
        "# mengecek count y_train setelah di trimming 2\n",
        "y_train.value_counts()"
      ]
    },
    {
      "cell_type": "markdown",
      "metadata": {
        "id": "cPYbMetxxug8"
      },
      "source": [
        "data y_train setelah trimming II \n",
        "- banyak data : 1829 + 503 = 2332"
      ]
    },
    {
      "cell_type": "code",
      "execution_count": null,
      "metadata": {
        "colab": {
          "base_uri": "https://localhost:8080/"
        },
        "id": "__Cl5RCXxug-",
        "outputId": "032726f4-0d70-4572-fe43-6ae3a4536733"
      },
      "outputs": [
        {
          "output_type": "execute_result",
          "data": {
            "text/plain": [
              "1.353637901861252"
            ]
          },
          "metadata": {},
          "execution_count": 62
        }
      ],
      "source": [
        "# menghitung persentase data yang dilakukan trimming\n",
        "# (data awal -  data trimming) / data awal * 100\n",
        "(2364 - 2332) / 2364 * 100"
      ]
    },
    {
      "cell_type": "markdown",
      "metadata": {
        "id": "OyjV2ZqJxug-"
      },
      "source": [
        "## 5.4. Handling Missing Value"
      ]
    },
    {
      "cell_type": "markdown",
      "metadata": {
        "id": "i896SxtKxug_"
      },
      "source": [
        "### 5.4.1. Check Missing Values"
      ]
    },
    {
      "cell_type": "code",
      "execution_count": null,
      "metadata": {
        "colab": {
          "base_uri": "https://localhost:8080/"
        },
        "id": "GBEUPprAxuhA",
        "outputId": "e153a0ce-a096-4309-948f-59c1ddd58883"
      },
      "outputs": [
        {
          "output_type": "execute_result",
          "data": {
            "text/plain": [
              "limit_balance      0\n",
              "sex                0\n",
              "education_level    0\n",
              "marital_status     0\n",
              "age                0\n",
              "pay_1              0\n",
              "pay_2              0\n",
              "pay_3              0\n",
              "pay_4              0\n",
              "pay_5              0\n",
              "pay_6              0\n",
              "dtype: int64"
            ]
          },
          "metadata": {},
          "execution_count": 63
        }
      ],
      "source": [
        "X_train.isna().sum()"
      ]
    },
    {
      "cell_type": "code",
      "execution_count": null,
      "metadata": {
        "colab": {
          "base_uri": "https://localhost:8080/"
        },
        "id": "7F5K6NxGxuhB",
        "outputId": "2df30dad-e230-4e7f-903e-912d2f165f39"
      },
      "outputs": [
        {
          "output_type": "execute_result",
          "data": {
            "text/plain": [
              "limit_balance      0\n",
              "sex                0\n",
              "education_level    0\n",
              "marital_status     0\n",
              "age                0\n",
              "pay_1              0\n",
              "pay_2              0\n",
              "pay_3              0\n",
              "pay_4              0\n",
              "pay_5              0\n",
              "pay_6              0\n",
              "dtype: int64"
            ]
          },
          "metadata": {},
          "execution_count": 64
        }
      ],
      "source": [
        "X_test.isna().sum()"
      ]
    },
    {
      "cell_type": "code",
      "execution_count": null,
      "metadata": {
        "colab": {
          "base_uri": "https://localhost:8080/"
        },
        "id": "VXrd73msxuhC",
        "outputId": "20dd4318-32f1-4b11-b14e-a1ce658c7f18"
      },
      "outputs": [
        {
          "output_type": "execute_result",
          "data": {
            "text/plain": [
              "0"
            ]
          },
          "metadata": {},
          "execution_count": 65
        }
      ],
      "source": [
        "y_train.isna().sum()"
      ]
    },
    {
      "cell_type": "code",
      "execution_count": null,
      "metadata": {
        "colab": {
          "base_uri": "https://localhost:8080/"
        },
        "id": "sd_xgbIsxuhD",
        "outputId": "4a3dae36-7255-4739-8d40-9d2f86d11f1f"
      },
      "outputs": [
        {
          "output_type": "execute_result",
          "data": {
            "text/plain": [
              "0"
            ]
          },
          "metadata": {},
          "execution_count": 66
        }
      ],
      "source": [
        "y_test.isna().sum()"
      ]
    },
    {
      "cell_type": "markdown",
      "source": [
        "tidak ada missing values. lanjut ke tahap berikutnya."
      ],
      "metadata": {
        "id": "HUIz4CyndaHE"
      }
    },
    {
      "cell_type": "markdown",
      "metadata": {
        "id": "JSyg73u5xuhI"
      },
      "source": [
        "## 5.5. Feature Selection"
      ]
    },
    {
      "cell_type": "code",
      "source": [
        "X_train.info()"
      ],
      "metadata": {
        "colab": {
          "base_uri": "https://localhost:8080/"
        },
        "id": "42_wWL0Sety7",
        "outputId": "daa048d6-5967-42b3-b1e2-4eb1e88b2247"
      },
      "execution_count": null,
      "outputs": [
        {
          "output_type": "stream",
          "name": "stdout",
          "text": [
            "<class 'pandas.core.frame.DataFrame'>\n",
            "Int64Index: 2332 entries, 810 to 2671\n",
            "Data columns (total 11 columns):\n",
            " #   Column           Non-Null Count  Dtype  \n",
            "---  ------           --------------  -----  \n",
            " 0   limit_balance    2332 non-null   float64\n",
            " 1   sex              2332 non-null   int64  \n",
            " 2   education_level  2332 non-null   int64  \n",
            " 3   marital_status   2332 non-null   int64  \n",
            " 4   age              2332 non-null   float64\n",
            " 5   pay_1            2332 non-null   float64\n",
            " 6   pay_2            2332 non-null   float64\n",
            " 7   pay_3            2332 non-null   float64\n",
            " 8   pay_4            2332 non-null   float64\n",
            " 9   pay_5            2332 non-null   int64  \n",
            " 10  pay_6            2332 non-null   int64  \n",
            "dtypes: float64(6), int64(5)\n",
            "memory usage: 218.6 KB\n"
          ]
        }
      ]
    },
    {
      "cell_type": "markdown",
      "source": [
        "terdapat kolom categorical yang tipenya masih belum berupa categorical. Selanjutnya kolom tersebut akan diubah ke tipe categorical supaya memudahkan proses feature selection."
      ],
      "metadata": {
        "id": "n7-bSzkZfALF"
      }
    },
    {
      "cell_type": "code",
      "source": [
        "# mengubah tipe data categorical features dari numerik ke category\n",
        "X_train.sex = X_train.sex.astype(\"category\")\n",
        "X_train.education_level = X_train.education_level.astype(\"category\")\n",
        "X_train.marital_status = X_train.marital_status.astype(\"category\")\n",
        "X_train.pay_1 = X_train.pay_1.astype(\"category\")\n",
        "X_train.pay_2 = X_train.pay_2.astype(\"category\")\n",
        "X_train.pay_3 = X_train.pay_3.astype(\"category\")\n",
        "X_train.pay_4 = X_train.pay_4.astype(\"category\")\n",
        "X_train.pay_5 = X_train.pay_5.astype(\"category\")\n",
        "X_train.pay_6 = X_train.pay_6.astype(\"category\")"
      ],
      "metadata": {
        "id": "_h0EnsfzdirS"
      },
      "execution_count": null,
      "outputs": []
    },
    {
      "cell_type": "code",
      "source": [
        "y_train = y_train.astype(\"category\")"
      ],
      "metadata": {
        "id": "oR5DoSKkf9Xw"
      },
      "execution_count": null,
      "outputs": []
    },
    {
      "cell_type": "code",
      "source": [
        "X_train.info()"
      ],
      "metadata": {
        "colab": {
          "base_uri": "https://localhost:8080/"
        },
        "id": "m3AeKUj0ejxn",
        "outputId": "40732005-6f1f-4bef-9a57-90214642f895"
      },
      "execution_count": null,
      "outputs": [
        {
          "output_type": "stream",
          "name": "stdout",
          "text": [
            "<class 'pandas.core.frame.DataFrame'>\n",
            "Int64Index: 2332 entries, 810 to 2671\n",
            "Data columns (total 11 columns):\n",
            " #   Column           Non-Null Count  Dtype   \n",
            "---  ------           --------------  -----   \n",
            " 0   limit_balance    2332 non-null   float64 \n",
            " 1   sex              2332 non-null   category\n",
            " 2   education_level  2332 non-null   category\n",
            " 3   marital_status   2332 non-null   category\n",
            " 4   age              2332 non-null   float64 \n",
            " 5   pay_1            2332 non-null   category\n",
            " 6   pay_2            2332 non-null   category\n",
            " 7   pay_3            2332 non-null   category\n",
            " 8   pay_4            2332 non-null   category\n",
            " 9   pay_5            2332 non-null   category\n",
            " 10  pay_6            2332 non-null   category\n",
            "dtypes: category(9), float64(2)\n",
            "memory usage: 77.8 KB\n"
          ]
        }
      ]
    },
    {
      "cell_type": "code",
      "execution_count": null,
      "metadata": {
        "colab": {
          "base_uri": "https://localhost:8080/"
        },
        "id": "cDzBkg8XxuhI",
        "outputId": "16671581-f024-4507-ae0f-cf5bde670f41"
      },
      "outputs": [
        {
          "output_type": "stream",
          "name": "stdout",
          "text": [
            "Numerical columns :  ['limit_balance', 'age']\n",
            "Categorical columns :  ['sex', 'education_level', 'marital_status', 'pay_1', 'pay_2', 'pay_3', 'pay_4', 'pay_5', 'pay_6']\n"
          ]
        }
      ],
      "source": [
        "# Get numerical columns and categorical columns\n",
        "num_columns = X_train.select_dtypes(include=np.number).columns.tolist()\n",
        "cat_columns = X_train.select_dtypes(include=['object','category']).columns.tolist()\n",
        "\n",
        "print('Numerical columns : ', num_columns)\n",
        "print('Categorical columns : ', cat_columns)"
      ]
    },
    {
      "cell_type": "code",
      "execution_count": null,
      "metadata": {
        "id": "4MMCNxxWxuhJ"
      },
      "outputs": [],
      "source": [
        "# Split Train-set and Test-set based on column types\n",
        "\n",
        "X_train_num = X_train[num_columns]\n",
        "X_train_cat = X_train[cat_columns]\n",
        "\n",
        "X_test_num = X_test[num_columns]\n",
        "X_test_cat = X_test[cat_columns]"
      ]
    },
    {
      "cell_type": "markdown",
      "metadata": {
        "id": "7plfSu4hxuhJ"
      },
      "source": [
        "## 5.6. Feature Scaling"
      ]
    },
    {
      "cell_type": "markdown",
      "metadata": {
        "id": "xVY5UxGjxuhK"
      },
      "source": [
        "Karena datanya terdistribusi skewed, saya akan menggunakan MinMaxScaler. Saya akan mengatur range nya dari 0 s/d 1 untuk memudahkan pemahaman data."
      ]
    },
    {
      "cell_type": "code",
      "execution_count": null,
      "metadata": {
        "colab": {
          "base_uri": "https://localhost:8080/"
        },
        "id": "HrBIZoXpxuhK",
        "outputId": "318b9047-54ba-4207-999b-79bbb7ede9df"
      },
      "outputs": [
        {
          "output_type": "execute_result",
          "data": {
            "text/plain": [
              "array([[0.14285714, 0.61538462],\n",
              "       [0.67346939, 0.15384615],\n",
              "       [0.26530612, 0.56410256],\n",
              "       ...,\n",
              "       [0.12244898, 0.1025641 ],\n",
              "       [0.6122449 , 0.12820513],\n",
              "       [0.40816327, 0.48717949]])"
            ]
          },
          "metadata": {},
          "execution_count": 73
        }
      ],
      "source": [
        "# Feature scaling using MinMaxScaler, defaultnya jadi range 0 s/d 1\n",
        "\n",
        "scaler = MinMaxScaler()\n",
        "scaler.fit(X_train_num) # .fit hanya milik train\n",
        "\n",
        "X_train_num_scaled = scaler.transform(X_train_num)\n",
        "X_test_num_scaled = scaler.transform(X_test_num)\n",
        "\n",
        "X_train_num_scaled"
      ]
    },
    {
      "cell_type": "markdown",
      "metadata": {
        "id": "JSClAeSBxuha"
      },
      "source": [
        "## 5.7. Feature Encoding"
      ]
    },
    {
      "cell_type": "markdown",
      "metadata": {
        "id": "sc7XmmElxuhb"
      },
      "source": [
        "Karena datanya terdistribusi skew dan categorical datanya tidak bertingkat, saya akan menggunakan OneHotEncoder. Perlu digaris-bawahi, kolom education_level memiliki value unknown sehingga tidak bisa diencode menggunakan OrdinalEncoder."
      ]
    },
    {
      "cell_type": "code",
      "execution_count": null,
      "metadata": {
        "colab": {
          "base_uri": "https://localhost:8080/"
        },
        "id": "fGom_mmjxuhb",
        "outputId": "17b450e2-bbff-4231-ae6b-ad0458e1ba9e"
      },
      "outputs": [
        {
          "output_type": "execute_result",
          "data": {
            "text/plain": [
              "array([[1., 0., 0., ..., 0., 0., 0.],\n",
              "       [0., 1., 0., ..., 0., 0., 0.],\n",
              "       [0., 1., 0., ..., 0., 0., 0.],\n",
              "       ...,\n",
              "       [0., 1., 0., ..., 0., 0., 0.],\n",
              "       [0., 1., 1., ..., 0., 0., 0.],\n",
              "       [0., 1., 0., ..., 0., 0., 0.]])"
            ]
          },
          "metadata": {},
          "execution_count": 74
        }
      ],
      "source": [
        "# feature Encoding using OneHotlEncoder\n",
        "\n",
        "encoder = OneHotEncoder(handle_unknown='ignore')\n",
        "encoder.fit(X_train_cat)\n",
        "\n",
        "X_train_cat_encoded = encoder.transform(X_train_cat).toarray()\n",
        "X_test_cat_encoded = encoder.transform(X_test_cat).toarray()\n",
        "\n",
        "X_train_cat_encoded"
      ]
    },
    {
      "cell_type": "code",
      "source": [
        "X_train_cat.head()"
      ],
      "metadata": {
        "colab": {
          "base_uri": "https://localhost:8080/",
          "height": 206
        },
        "id": "ZgtHxGl9Sfh_",
        "outputId": "90415ae6-c38b-47c2-c4b2-f26b73a59c9a"
      },
      "execution_count": null,
      "outputs": [
        {
          "output_type": "execute_result",
          "data": {
            "text/plain": [
              "     sex education_level marital_status pay_1 pay_2 pay_3 pay_4 pay_5 pay_6\n",
              "810    1               3              1   0.0   0.0   0.0   0.0     0     0\n",
              "2575   2               2              2  -1.0  -1.0  -1.0  -1.0    -1    -1\n",
              "366    2               3              2   0.0   0.0   0.0   0.0     0     0\n",
              "2622   2               2              2  -1.0  -1.0  -1.0  -1.0    -1    -1\n",
              "2891   1               1              1  -1.0  -1.0  -1.0  -1.0    -2    -2"
            ],
            "text/html": [
              "\n",
              "  <div id=\"df-cbc3835f-b6ee-43de-bb01-f44b20e5f340\">\n",
              "    <div class=\"colab-df-container\">\n",
              "      <div>\n",
              "<style scoped>\n",
              "    .dataframe tbody tr th:only-of-type {\n",
              "        vertical-align: middle;\n",
              "    }\n",
              "\n",
              "    .dataframe tbody tr th {\n",
              "        vertical-align: top;\n",
              "    }\n",
              "\n",
              "    .dataframe thead th {\n",
              "        text-align: right;\n",
              "    }\n",
              "</style>\n",
              "<table border=\"1\" class=\"dataframe\">\n",
              "  <thead>\n",
              "    <tr style=\"text-align: right;\">\n",
              "      <th></th>\n",
              "      <th>sex</th>\n",
              "      <th>education_level</th>\n",
              "      <th>marital_status</th>\n",
              "      <th>pay_1</th>\n",
              "      <th>pay_2</th>\n",
              "      <th>pay_3</th>\n",
              "      <th>pay_4</th>\n",
              "      <th>pay_5</th>\n",
              "      <th>pay_6</th>\n",
              "    </tr>\n",
              "  </thead>\n",
              "  <tbody>\n",
              "    <tr>\n",
              "      <th>810</th>\n",
              "      <td>1</td>\n",
              "      <td>3</td>\n",
              "      <td>1</td>\n",
              "      <td>0.0</td>\n",
              "      <td>0.0</td>\n",
              "      <td>0.0</td>\n",
              "      <td>0.0</td>\n",
              "      <td>0</td>\n",
              "      <td>0</td>\n",
              "    </tr>\n",
              "    <tr>\n",
              "      <th>2575</th>\n",
              "      <td>2</td>\n",
              "      <td>2</td>\n",
              "      <td>2</td>\n",
              "      <td>-1.0</td>\n",
              "      <td>-1.0</td>\n",
              "      <td>-1.0</td>\n",
              "      <td>-1.0</td>\n",
              "      <td>-1</td>\n",
              "      <td>-1</td>\n",
              "    </tr>\n",
              "    <tr>\n",
              "      <th>366</th>\n",
              "      <td>2</td>\n",
              "      <td>3</td>\n",
              "      <td>2</td>\n",
              "      <td>0.0</td>\n",
              "      <td>0.0</td>\n",
              "      <td>0.0</td>\n",
              "      <td>0.0</td>\n",
              "      <td>0</td>\n",
              "      <td>0</td>\n",
              "    </tr>\n",
              "    <tr>\n",
              "      <th>2622</th>\n",
              "      <td>2</td>\n",
              "      <td>2</td>\n",
              "      <td>2</td>\n",
              "      <td>-1.0</td>\n",
              "      <td>-1.0</td>\n",
              "      <td>-1.0</td>\n",
              "      <td>-1.0</td>\n",
              "      <td>-1</td>\n",
              "      <td>-1</td>\n",
              "    </tr>\n",
              "    <tr>\n",
              "      <th>2891</th>\n",
              "      <td>1</td>\n",
              "      <td>1</td>\n",
              "      <td>1</td>\n",
              "      <td>-1.0</td>\n",
              "      <td>-1.0</td>\n",
              "      <td>-1.0</td>\n",
              "      <td>-1.0</td>\n",
              "      <td>-2</td>\n",
              "      <td>-2</td>\n",
              "    </tr>\n",
              "  </tbody>\n",
              "</table>\n",
              "</div>\n",
              "      <button class=\"colab-df-convert\" onclick=\"convertToInteractive('df-cbc3835f-b6ee-43de-bb01-f44b20e5f340')\"\n",
              "              title=\"Convert this dataframe to an interactive table.\"\n",
              "              style=\"display:none;\">\n",
              "        \n",
              "  <svg xmlns=\"http://www.w3.org/2000/svg\" height=\"24px\"viewBox=\"0 0 24 24\"\n",
              "       width=\"24px\">\n",
              "    <path d=\"M0 0h24v24H0V0z\" fill=\"none\"/>\n",
              "    <path d=\"M18.56 5.44l.94 2.06.94-2.06 2.06-.94-2.06-.94-.94-2.06-.94 2.06-2.06.94zm-11 1L8.5 8.5l.94-2.06 2.06-.94-2.06-.94L8.5 2.5l-.94 2.06-2.06.94zm10 10l.94 2.06.94-2.06 2.06-.94-2.06-.94-.94-2.06-.94 2.06-2.06.94z\"/><path d=\"M17.41 7.96l-1.37-1.37c-.4-.4-.92-.59-1.43-.59-.52 0-1.04.2-1.43.59L10.3 9.45l-7.72 7.72c-.78.78-.78 2.05 0 2.83L4 21.41c.39.39.9.59 1.41.59.51 0 1.02-.2 1.41-.59l7.78-7.78 2.81-2.81c.8-.78.8-2.07 0-2.86zM5.41 20L4 18.59l7.72-7.72 1.47 1.35L5.41 20z\"/>\n",
              "  </svg>\n",
              "      </button>\n",
              "      \n",
              "  <style>\n",
              "    .colab-df-container {\n",
              "      display:flex;\n",
              "      flex-wrap:wrap;\n",
              "      gap: 12px;\n",
              "    }\n",
              "\n",
              "    .colab-df-convert {\n",
              "      background-color: #E8F0FE;\n",
              "      border: none;\n",
              "      border-radius: 50%;\n",
              "      cursor: pointer;\n",
              "      display: none;\n",
              "      fill: #1967D2;\n",
              "      height: 32px;\n",
              "      padding: 0 0 0 0;\n",
              "      width: 32px;\n",
              "    }\n",
              "\n",
              "    .colab-df-convert:hover {\n",
              "      background-color: #E2EBFA;\n",
              "      box-shadow: 0px 1px 2px rgba(60, 64, 67, 0.3), 0px 1px 3px 1px rgba(60, 64, 67, 0.15);\n",
              "      fill: #174EA6;\n",
              "    }\n",
              "\n",
              "    [theme=dark] .colab-df-convert {\n",
              "      background-color: #3B4455;\n",
              "      fill: #D2E3FC;\n",
              "    }\n",
              "\n",
              "    [theme=dark] .colab-df-convert:hover {\n",
              "      background-color: #434B5C;\n",
              "      box-shadow: 0px 1px 3px 1px rgba(0, 0, 0, 0.15);\n",
              "      filter: drop-shadow(0px 1px 2px rgba(0, 0, 0, 0.3));\n",
              "      fill: #FFFFFF;\n",
              "    }\n",
              "  </style>\n",
              "\n",
              "      <script>\n",
              "        const buttonEl =\n",
              "          document.querySelector('#df-cbc3835f-b6ee-43de-bb01-f44b20e5f340 button.colab-df-convert');\n",
              "        buttonEl.style.display =\n",
              "          google.colab.kernel.accessAllowed ? 'block' : 'none';\n",
              "\n",
              "        async function convertToInteractive(key) {\n",
              "          const element = document.querySelector('#df-cbc3835f-b6ee-43de-bb01-f44b20e5f340');\n",
              "          const dataTable =\n",
              "            await google.colab.kernel.invokeFunction('convertToInteractive',\n",
              "                                                     [key], {});\n",
              "          if (!dataTable) return;\n",
              "\n",
              "          const docLinkHtml = 'Like what you see? Visit the ' +\n",
              "            '<a target=\"_blank\" href=https://colab.research.google.com/notebooks/data_table.ipynb>data table notebook</a>'\n",
              "            + ' to learn more about interactive tables.';\n",
              "          element.innerHTML = '';\n",
              "          dataTable['output_type'] = 'display_data';\n",
              "          await google.colab.output.renderOutput(dataTable, element);\n",
              "          const docLink = document.createElement('div');\n",
              "          docLink.innerHTML = docLinkHtml;\n",
              "          element.appendChild(docLink);\n",
              "        }\n",
              "      </script>\n",
              "    </div>\n",
              "  </div>\n",
              "  "
            ]
          },
          "metadata": {},
          "execution_count": 75
        }
      ]
    },
    {
      "cell_type": "markdown",
      "metadata": {
        "id": "lu8WCmjzxuhc"
      },
      "source": [
        "## 5.8. Merge/Concat between scaled num columns and encoded cat columns"
      ]
    },
    {
      "cell_type": "code",
      "execution_count": null,
      "metadata": {
        "colab": {
          "base_uri": "https://localhost:8080/"
        },
        "id": "7QSQIoUqxuhd",
        "outputId": "b581e776-5b3b-4d9c-b135-3ee7b9db3eeb"
      },
      "outputs": [
        {
          "output_type": "execute_result",
          "data": {
            "text/plain": [
              "array([[0.14285714, 0.61538462, 1.        , ..., 0.        , 0.        ,\n",
              "        0.        ],\n",
              "       [0.67346939, 0.15384615, 0.        , ..., 0.        , 0.        ,\n",
              "        0.        ],\n",
              "       [0.26530612, 0.56410256, 0.        , ..., 0.        , 0.        ,\n",
              "        0.        ],\n",
              "       ...,\n",
              "       [0.12244898, 0.1025641 , 0.        , ..., 0.        , 0.        ,\n",
              "        0.        ],\n",
              "       [0.6122449 , 0.12820513, 0.        , ..., 0.        , 0.        ,\n",
              "        0.        ],\n",
              "       [0.40816327, 0.48717949, 0.        , ..., 0.        , 0.        ,\n",
              "        0.        ]])"
            ]
          },
          "metadata": {},
          "execution_count": 76
        }
      ],
      "source": [
        "# Concat columns\n",
        "\n",
        "X_train_final = np.concatenate([X_train_num_scaled, X_train_cat_encoded], axis=1)\n",
        "X_test_final = np.concatenate([X_test_num_scaled, X_test_cat_encoded], axis=1)\n",
        "\n",
        "X_train_final"
      ]
    },
    {
      "cell_type": "code",
      "execution_count": null,
      "metadata": {
        "colab": {
          "base_uri": "https://localhost:8080/",
          "height": 236
        },
        "id": "AwKvagfexuhd",
        "outputId": "d42120d1-d833-42ab-c1ab-ab4c2e28a344"
      },
      "outputs": [
        {
          "output_type": "execute_result",
          "data": {
            "text/plain": [
              "         0         1    2    3    4    5    6    7    8    9   ...   54   55  \\\n",
              "0  0.142857  0.615385  1.0  0.0  0.0  0.0  1.0  0.0  0.0  0.0  ...  0.0  0.0   \n",
              "1  0.673469  0.153846  0.0  1.0  0.0  1.0  0.0  0.0  0.0  0.0  ...  0.0  0.0   \n",
              "2  0.265306  0.564103  0.0  1.0  0.0  0.0  1.0  0.0  0.0  0.0  ...  0.0  0.0   \n",
              "3  0.183673  0.051282  0.0  1.0  0.0  1.0  0.0  0.0  0.0  0.0  ...  0.0  0.0   \n",
              "4  0.795918  0.717949  1.0  0.0  1.0  0.0  0.0  0.0  0.0  0.0  ...  0.0  0.0   \n",
              "\n",
              "    56   57   58   59   60   61   62   63  \n",
              "0  0.0  0.0  0.0  1.0  0.0  0.0  0.0  0.0  \n",
              "1  0.0  0.0  1.0  0.0  0.0  0.0  0.0  0.0  \n",
              "2  0.0  0.0  0.0  1.0  0.0  0.0  0.0  0.0  \n",
              "3  0.0  0.0  1.0  0.0  0.0  0.0  0.0  0.0  \n",
              "4  0.0  1.0  0.0  0.0  0.0  0.0  0.0  0.0  \n",
              "\n",
              "[5 rows x 64 columns]"
            ],
            "text/html": [
              "\n",
              "  <div id=\"df-67ef58b0-205c-47bd-94ac-5ec552027d50\">\n",
              "    <div class=\"colab-df-container\">\n",
              "      <div>\n",
              "<style scoped>\n",
              "    .dataframe tbody tr th:only-of-type {\n",
              "        vertical-align: middle;\n",
              "    }\n",
              "\n",
              "    .dataframe tbody tr th {\n",
              "        vertical-align: top;\n",
              "    }\n",
              "\n",
              "    .dataframe thead th {\n",
              "        text-align: right;\n",
              "    }\n",
              "</style>\n",
              "<table border=\"1\" class=\"dataframe\">\n",
              "  <thead>\n",
              "    <tr style=\"text-align: right;\">\n",
              "      <th></th>\n",
              "      <th>0</th>\n",
              "      <th>1</th>\n",
              "      <th>2</th>\n",
              "      <th>3</th>\n",
              "      <th>4</th>\n",
              "      <th>5</th>\n",
              "      <th>6</th>\n",
              "      <th>7</th>\n",
              "      <th>8</th>\n",
              "      <th>9</th>\n",
              "      <th>...</th>\n",
              "      <th>54</th>\n",
              "      <th>55</th>\n",
              "      <th>56</th>\n",
              "      <th>57</th>\n",
              "      <th>58</th>\n",
              "      <th>59</th>\n",
              "      <th>60</th>\n",
              "      <th>61</th>\n",
              "      <th>62</th>\n",
              "      <th>63</th>\n",
              "    </tr>\n",
              "  </thead>\n",
              "  <tbody>\n",
              "    <tr>\n",
              "      <th>0</th>\n",
              "      <td>0.142857</td>\n",
              "      <td>0.615385</td>\n",
              "      <td>1.0</td>\n",
              "      <td>0.0</td>\n",
              "      <td>0.0</td>\n",
              "      <td>0.0</td>\n",
              "      <td>1.0</td>\n",
              "      <td>0.0</td>\n",
              "      <td>0.0</td>\n",
              "      <td>0.0</td>\n",
              "      <td>...</td>\n",
              "      <td>0.0</td>\n",
              "      <td>0.0</td>\n",
              "      <td>0.0</td>\n",
              "      <td>0.0</td>\n",
              "      <td>0.0</td>\n",
              "      <td>1.0</td>\n",
              "      <td>0.0</td>\n",
              "      <td>0.0</td>\n",
              "      <td>0.0</td>\n",
              "      <td>0.0</td>\n",
              "    </tr>\n",
              "    <tr>\n",
              "      <th>1</th>\n",
              "      <td>0.673469</td>\n",
              "      <td>0.153846</td>\n",
              "      <td>0.0</td>\n",
              "      <td>1.0</td>\n",
              "      <td>0.0</td>\n",
              "      <td>1.0</td>\n",
              "      <td>0.0</td>\n",
              "      <td>0.0</td>\n",
              "      <td>0.0</td>\n",
              "      <td>0.0</td>\n",
              "      <td>...</td>\n",
              "      <td>0.0</td>\n",
              "      <td>0.0</td>\n",
              "      <td>0.0</td>\n",
              "      <td>0.0</td>\n",
              "      <td>1.0</td>\n",
              "      <td>0.0</td>\n",
              "      <td>0.0</td>\n",
              "      <td>0.0</td>\n",
              "      <td>0.0</td>\n",
              "      <td>0.0</td>\n",
              "    </tr>\n",
              "    <tr>\n",
              "      <th>2</th>\n",
              "      <td>0.265306</td>\n",
              "      <td>0.564103</td>\n",
              "      <td>0.0</td>\n",
              "      <td>1.0</td>\n",
              "      <td>0.0</td>\n",
              "      <td>0.0</td>\n",
              "      <td>1.0</td>\n",
              "      <td>0.0</td>\n",
              "      <td>0.0</td>\n",
              "      <td>0.0</td>\n",
              "      <td>...</td>\n",
              "      <td>0.0</td>\n",
              "      <td>0.0</td>\n",
              "      <td>0.0</td>\n",
              "      <td>0.0</td>\n",
              "      <td>0.0</td>\n",
              "      <td>1.0</td>\n",
              "      <td>0.0</td>\n",
              "      <td>0.0</td>\n",
              "      <td>0.0</td>\n",
              "      <td>0.0</td>\n",
              "    </tr>\n",
              "    <tr>\n",
              "      <th>3</th>\n",
              "      <td>0.183673</td>\n",
              "      <td>0.051282</td>\n",
              "      <td>0.0</td>\n",
              "      <td>1.0</td>\n",
              "      <td>0.0</td>\n",
              "      <td>1.0</td>\n",
              "      <td>0.0</td>\n",
              "      <td>0.0</td>\n",
              "      <td>0.0</td>\n",
              "      <td>0.0</td>\n",
              "      <td>...</td>\n",
              "      <td>0.0</td>\n",
              "      <td>0.0</td>\n",
              "      <td>0.0</td>\n",
              "      <td>0.0</td>\n",
              "      <td>1.0</td>\n",
              "      <td>0.0</td>\n",
              "      <td>0.0</td>\n",
              "      <td>0.0</td>\n",
              "      <td>0.0</td>\n",
              "      <td>0.0</td>\n",
              "    </tr>\n",
              "    <tr>\n",
              "      <th>4</th>\n",
              "      <td>0.795918</td>\n",
              "      <td>0.717949</td>\n",
              "      <td>1.0</td>\n",
              "      <td>0.0</td>\n",
              "      <td>1.0</td>\n",
              "      <td>0.0</td>\n",
              "      <td>0.0</td>\n",
              "      <td>0.0</td>\n",
              "      <td>0.0</td>\n",
              "      <td>0.0</td>\n",
              "      <td>...</td>\n",
              "      <td>0.0</td>\n",
              "      <td>0.0</td>\n",
              "      <td>0.0</td>\n",
              "      <td>1.0</td>\n",
              "      <td>0.0</td>\n",
              "      <td>0.0</td>\n",
              "      <td>0.0</td>\n",
              "      <td>0.0</td>\n",
              "      <td>0.0</td>\n",
              "      <td>0.0</td>\n",
              "    </tr>\n",
              "  </tbody>\n",
              "</table>\n",
              "<p>5 rows × 64 columns</p>\n",
              "</div>\n",
              "      <button class=\"colab-df-convert\" onclick=\"convertToInteractive('df-67ef58b0-205c-47bd-94ac-5ec552027d50')\"\n",
              "              title=\"Convert this dataframe to an interactive table.\"\n",
              "              style=\"display:none;\">\n",
              "        \n",
              "  <svg xmlns=\"http://www.w3.org/2000/svg\" height=\"24px\"viewBox=\"0 0 24 24\"\n",
              "       width=\"24px\">\n",
              "    <path d=\"M0 0h24v24H0V0z\" fill=\"none\"/>\n",
              "    <path d=\"M18.56 5.44l.94 2.06.94-2.06 2.06-.94-2.06-.94-.94-2.06-.94 2.06-2.06.94zm-11 1L8.5 8.5l.94-2.06 2.06-.94-2.06-.94L8.5 2.5l-.94 2.06-2.06.94zm10 10l.94 2.06.94-2.06 2.06-.94-2.06-.94-.94-2.06-.94 2.06-2.06.94z\"/><path d=\"M17.41 7.96l-1.37-1.37c-.4-.4-.92-.59-1.43-.59-.52 0-1.04.2-1.43.59L10.3 9.45l-7.72 7.72c-.78.78-.78 2.05 0 2.83L4 21.41c.39.39.9.59 1.41.59.51 0 1.02-.2 1.41-.59l7.78-7.78 2.81-2.81c.8-.78.8-2.07 0-2.86zM5.41 20L4 18.59l7.72-7.72 1.47 1.35L5.41 20z\"/>\n",
              "  </svg>\n",
              "      </button>\n",
              "      \n",
              "  <style>\n",
              "    .colab-df-container {\n",
              "      display:flex;\n",
              "      flex-wrap:wrap;\n",
              "      gap: 12px;\n",
              "    }\n",
              "\n",
              "    .colab-df-convert {\n",
              "      background-color: #E8F0FE;\n",
              "      border: none;\n",
              "      border-radius: 50%;\n",
              "      cursor: pointer;\n",
              "      display: none;\n",
              "      fill: #1967D2;\n",
              "      height: 32px;\n",
              "      padding: 0 0 0 0;\n",
              "      width: 32px;\n",
              "    }\n",
              "\n",
              "    .colab-df-convert:hover {\n",
              "      background-color: #E2EBFA;\n",
              "      box-shadow: 0px 1px 2px rgba(60, 64, 67, 0.3), 0px 1px 3px 1px rgba(60, 64, 67, 0.15);\n",
              "      fill: #174EA6;\n",
              "    }\n",
              "\n",
              "    [theme=dark] .colab-df-convert {\n",
              "      background-color: #3B4455;\n",
              "      fill: #D2E3FC;\n",
              "    }\n",
              "\n",
              "    [theme=dark] .colab-df-convert:hover {\n",
              "      background-color: #434B5C;\n",
              "      box-shadow: 0px 1px 3px 1px rgba(0, 0, 0, 0.15);\n",
              "      filter: drop-shadow(0px 1px 2px rgba(0, 0, 0, 0.3));\n",
              "      fill: #FFFFFF;\n",
              "    }\n",
              "  </style>\n",
              "\n",
              "      <script>\n",
              "        const buttonEl =\n",
              "          document.querySelector('#df-67ef58b0-205c-47bd-94ac-5ec552027d50 button.colab-df-convert');\n",
              "        buttonEl.style.display =\n",
              "          google.colab.kernel.accessAllowed ? 'block' : 'none';\n",
              "\n",
              "        async function convertToInteractive(key) {\n",
              "          const element = document.querySelector('#df-67ef58b0-205c-47bd-94ac-5ec552027d50');\n",
              "          const dataTable =\n",
              "            await google.colab.kernel.invokeFunction('convertToInteractive',\n",
              "                                                     [key], {});\n",
              "          if (!dataTable) return;\n",
              "\n",
              "          const docLinkHtml = 'Like what you see? Visit the ' +\n",
              "            '<a target=\"_blank\" href=https://colab.research.google.com/notebooks/data_table.ipynb>data table notebook</a>'\n",
              "            + ' to learn more about interactive tables.';\n",
              "          element.innerHTML = '';\n",
              "          dataTable['output_type'] = 'display_data';\n",
              "          await google.colab.output.renderOutput(dataTable, element);\n",
              "          const docLink = document.createElement('div');\n",
              "          docLink.innerHTML = docLinkHtml;\n",
              "          element.appendChild(docLink);\n",
              "        }\n",
              "      </script>\n",
              "    </div>\n",
              "  </div>\n",
              "  "
            ]
          },
          "metadata": {},
          "execution_count": 77
        }
      ],
      "source": [
        "# Display as DataFrame\n",
        "\n",
        "X_train_final_df = pd.DataFrame(X_train_final)\n",
        "X_train_final_df.head()"
      ]
    },
    {
      "cell_type": "markdown",
      "metadata": {
        "id": "6ETyLyG-xuh8"
      },
      "source": [
        "# VI. Model Definition"
      ]
    },
    {
      "cell_type": "markdown",
      "metadata": {
        "id": "CDCVdHLexuh9"
      },
      "source": [
        "## 6.1. Cross Validation Base Model"
      ]
    },
    {
      "cell_type": "code",
      "source": [
        "log_model = LogisticRegression()\n",
        "svc_model = SVC()  # SVM untuk data kategorikal adalah SVC\n",
        "dt_model = DecisionTreeClassifier()\n",
        "rf_model = RandomForestClassifier()\n",
        "knn_model = KNeighborsClassifier()\n",
        "nb_model = GaussianNB()\n",
        "ada_model = AdaBoostClassifier()"
      ],
      "metadata": {
        "id": "xvwU32HQYhnv"
      },
      "execution_count": null,
      "outputs": []
    },
    {
      "cell_type": "code",
      "source": [
        "# Cross-validation untuk base model\n",
        "\n",
        "# Menyiapkan model dalam list\n",
        "models = []\n",
        "models.append(('log', log_model))\n",
        "models.append(('svc', svc_model))\n",
        "models.append(('dt', dt_model))\n",
        "models.append(('rf', rf_model))\n",
        "models.append(('knn', knn_model))\n",
        "models.append(('nb', nb_model))\n",
        "models.append(('ada', ada_model))\n",
        "\n",
        "# Menyiapkan list kosong untuk wadah hasil cross validation\n",
        "names = []\n",
        "results = []\n",
        "mean_score = []\n",
        "stdev_score = []\n",
        "\n",
        "# Melakukan Cross Validation setiap model\n",
        "for name, model in models:\n",
        "    model.fit(X_train_final_df,y_train)\n",
        "    scores = cross_val_score(model, X_train_final_df, y_train, scoring='accuracy', cv=5, n_jobs=-1)\n",
        "\n",
        "    names.append(name)\n",
        "    results.append(scores)\n",
        "    mean_score.append(round(np.mean(scores),4))\n",
        "    stdev_score.append(round(np.std(scores),4))\n",
        "\n",
        "cv_result = pd.DataFrame({'models':names, 'mean_accu':mean_score, 'stdev_accu':stdev_score})"
      ],
      "metadata": {
        "id": "Y9eoj9cT7A8r"
      },
      "execution_count": null,
      "outputs": []
    },
    {
      "cell_type": "code",
      "source": [
        "cv_result.sort_values(by='mean_accu', ascending=False)"
      ],
      "metadata": {
        "colab": {
          "base_uri": "https://localhost:8080/",
          "height": 269
        },
        "id": "0JqdgwYg7y0L",
        "outputId": "0e7d5d78-38fb-4397-ff75-7b083244dfc1"
      },
      "execution_count": null,
      "outputs": [
        {
          "output_type": "execute_result",
          "data": {
            "text/plain": [
              "  models  mean_accu  stdev_accu\n",
              "1    svc     0.8341      0.0158\n",
              "0    log     0.8336      0.0180\n",
              "6    ada     0.8323      0.0170\n",
              "4    knn     0.8152      0.0119\n",
              "3     rf     0.8113      0.0118\n",
              "5     nb     0.8105      0.0183\n",
              "2     dt     0.7359      0.0171"
            ],
            "text/html": [
              "\n",
              "  <div id=\"df-aa4549b8-0930-49a2-affd-d104aeb10114\">\n",
              "    <div class=\"colab-df-container\">\n",
              "      <div>\n",
              "<style scoped>\n",
              "    .dataframe tbody tr th:only-of-type {\n",
              "        vertical-align: middle;\n",
              "    }\n",
              "\n",
              "    .dataframe tbody tr th {\n",
              "        vertical-align: top;\n",
              "    }\n",
              "\n",
              "    .dataframe thead th {\n",
              "        text-align: right;\n",
              "    }\n",
              "</style>\n",
              "<table border=\"1\" class=\"dataframe\">\n",
              "  <thead>\n",
              "    <tr style=\"text-align: right;\">\n",
              "      <th></th>\n",
              "      <th>models</th>\n",
              "      <th>mean_accu</th>\n",
              "      <th>stdev_accu</th>\n",
              "    </tr>\n",
              "  </thead>\n",
              "  <tbody>\n",
              "    <tr>\n",
              "      <th>1</th>\n",
              "      <td>svc</td>\n",
              "      <td>0.8341</td>\n",
              "      <td>0.0158</td>\n",
              "    </tr>\n",
              "    <tr>\n",
              "      <th>0</th>\n",
              "      <td>log</td>\n",
              "      <td>0.8336</td>\n",
              "      <td>0.0180</td>\n",
              "    </tr>\n",
              "    <tr>\n",
              "      <th>6</th>\n",
              "      <td>ada</td>\n",
              "      <td>0.8323</td>\n",
              "      <td>0.0170</td>\n",
              "    </tr>\n",
              "    <tr>\n",
              "      <th>4</th>\n",
              "      <td>knn</td>\n",
              "      <td>0.8152</td>\n",
              "      <td>0.0119</td>\n",
              "    </tr>\n",
              "    <tr>\n",
              "      <th>3</th>\n",
              "      <td>rf</td>\n",
              "      <td>0.8113</td>\n",
              "      <td>0.0118</td>\n",
              "    </tr>\n",
              "    <tr>\n",
              "      <th>5</th>\n",
              "      <td>nb</td>\n",
              "      <td>0.8105</td>\n",
              "      <td>0.0183</td>\n",
              "    </tr>\n",
              "    <tr>\n",
              "      <th>2</th>\n",
              "      <td>dt</td>\n",
              "      <td>0.7359</td>\n",
              "      <td>0.0171</td>\n",
              "    </tr>\n",
              "  </tbody>\n",
              "</table>\n",
              "</div>\n",
              "      <button class=\"colab-df-convert\" onclick=\"convertToInteractive('df-aa4549b8-0930-49a2-affd-d104aeb10114')\"\n",
              "              title=\"Convert this dataframe to an interactive table.\"\n",
              "              style=\"display:none;\">\n",
              "        \n",
              "  <svg xmlns=\"http://www.w3.org/2000/svg\" height=\"24px\"viewBox=\"0 0 24 24\"\n",
              "       width=\"24px\">\n",
              "    <path d=\"M0 0h24v24H0V0z\" fill=\"none\"/>\n",
              "    <path d=\"M18.56 5.44l.94 2.06.94-2.06 2.06-.94-2.06-.94-.94-2.06-.94 2.06-2.06.94zm-11 1L8.5 8.5l.94-2.06 2.06-.94-2.06-.94L8.5 2.5l-.94 2.06-2.06.94zm10 10l.94 2.06.94-2.06 2.06-.94-2.06-.94-.94-2.06-.94 2.06-2.06.94z\"/><path d=\"M17.41 7.96l-1.37-1.37c-.4-.4-.92-.59-1.43-.59-.52 0-1.04.2-1.43.59L10.3 9.45l-7.72 7.72c-.78.78-.78 2.05 0 2.83L4 21.41c.39.39.9.59 1.41.59.51 0 1.02-.2 1.41-.59l7.78-7.78 2.81-2.81c.8-.78.8-2.07 0-2.86zM5.41 20L4 18.59l7.72-7.72 1.47 1.35L5.41 20z\"/>\n",
              "  </svg>\n",
              "      </button>\n",
              "      \n",
              "  <style>\n",
              "    .colab-df-container {\n",
              "      display:flex;\n",
              "      flex-wrap:wrap;\n",
              "      gap: 12px;\n",
              "    }\n",
              "\n",
              "    .colab-df-convert {\n",
              "      background-color: #E8F0FE;\n",
              "      border: none;\n",
              "      border-radius: 50%;\n",
              "      cursor: pointer;\n",
              "      display: none;\n",
              "      fill: #1967D2;\n",
              "      height: 32px;\n",
              "      padding: 0 0 0 0;\n",
              "      width: 32px;\n",
              "    }\n",
              "\n",
              "    .colab-df-convert:hover {\n",
              "      background-color: #E2EBFA;\n",
              "      box-shadow: 0px 1px 2px rgba(60, 64, 67, 0.3), 0px 1px 3px 1px rgba(60, 64, 67, 0.15);\n",
              "      fill: #174EA6;\n",
              "    }\n",
              "\n",
              "    [theme=dark] .colab-df-convert {\n",
              "      background-color: #3B4455;\n",
              "      fill: #D2E3FC;\n",
              "    }\n",
              "\n",
              "    [theme=dark] .colab-df-convert:hover {\n",
              "      background-color: #434B5C;\n",
              "      box-shadow: 0px 1px 3px 1px rgba(0, 0, 0, 0.15);\n",
              "      filter: drop-shadow(0px 1px 2px rgba(0, 0, 0, 0.3));\n",
              "      fill: #FFFFFF;\n",
              "    }\n",
              "  </style>\n",
              "\n",
              "      <script>\n",
              "        const buttonEl =\n",
              "          document.querySelector('#df-aa4549b8-0930-49a2-affd-d104aeb10114 button.colab-df-convert');\n",
              "        buttonEl.style.display =\n",
              "          google.colab.kernel.accessAllowed ? 'block' : 'none';\n",
              "\n",
              "        async function convertToInteractive(key) {\n",
              "          const element = document.querySelector('#df-aa4549b8-0930-49a2-affd-d104aeb10114');\n",
              "          const dataTable =\n",
              "            await google.colab.kernel.invokeFunction('convertToInteractive',\n",
              "                                                     [key], {});\n",
              "          if (!dataTable) return;\n",
              "\n",
              "          const docLinkHtml = 'Like what you see? Visit the ' +\n",
              "            '<a target=\"_blank\" href=https://colab.research.google.com/notebooks/data_table.ipynb>data table notebook</a>'\n",
              "            + ' to learn more about interactive tables.';\n",
              "          element.innerHTML = '';\n",
              "          dataTable['output_type'] = 'display_data';\n",
              "          await google.colab.output.renderOutput(dataTable, element);\n",
              "          const docLink = document.createElement('div');\n",
              "          docLink.innerHTML = docLinkHtml;\n",
              "          element.appendChild(docLink);\n",
              "        }\n",
              "      </script>\n",
              "    </div>\n",
              "  </div>\n",
              "  "
            ]
          },
          "metadata": {},
          "execution_count": 80
        }
      ]
    },
    {
      "cell_type": "markdown",
      "source": [
        "model yang memiliki rerata akurasi tertinggi adalah model SVM SVC. Hal ini wajar karena model ini terkenal dengan kelebihannya sebagai machine learing yang baik untuk data categorical dengan lebih dari 2 fitur. Selanjutnya saya akan menggunakan algoritma ini untuk pemodelan machine learning dengan terlebih dahulu mencari best hyperparameternya."
      ],
      "metadata": {
        "id": "952I8gv5EYLl"
      }
    },
    {
      "cell_type": "markdown",
      "metadata": {
        "id": "Zs5NUqs5xuiE"
      },
      "source": [
        "## 6.2. Hyperparameter Tuning SVM-SVC"
      ]
    },
    {
      "cell_type": "markdown",
      "metadata": {
        "id": "gKLdrC-1xuh-"
      },
      "source": [
        "Saya akan mencari model terbaik dari SVC dengan hyperparameter tuning menggunakan GridSearchCV. Saya hanya akan menggunakan kernel RBF karena agar hyperplane lebih fleksibel dalam mengklasifikasikan model sehingga harapannya didapatkan akurasi model yang lebih baik."
      ]
    },
    {
      "cell_type": "code",
      "source": [
        "svc_model = SVC()\n",
        "parameters_svc = {'C':[0.0001, 0.001, 0.1, 1, 10, 100],\n",
        "                  'gamma':[0.0001, 0.001, 0.1, 1, 10, 100],\n",
        "              'kernel': ['rbf']\n",
        "              }\n",
        "\n",
        "grid_svc = GridSearchCV(estimator=svc_model, param_grid=parameters_svc, scoring='accuracy',cv=3, verbose=1, n_jobs=-1)\n",
        "grid_svc.fit(X_train_final_df,y_train)\n",
        "grid_svc.best_params_"
      ],
      "metadata": {
        "colab": {
          "base_uri": "https://localhost:8080/"
        },
        "id": "gJwWrrcoYZu3",
        "outputId": "d5119901-af93-4df3-f6b1-e264c4b08248"
      },
      "execution_count": null,
      "outputs": [
        {
          "output_type": "stream",
          "name": "stdout",
          "text": [
            "Fitting 3 folds for each of 36 candidates, totalling 108 fits\n"
          ]
        },
        {
          "output_type": "execute_result",
          "data": {
            "text/plain": [
              "{'C': 1, 'gamma': 0.1, 'kernel': 'rbf'}"
            ]
          },
          "metadata": {},
          "execution_count": 81
        }
      ]
    },
    {
      "cell_type": "markdown",
      "metadata": {
        "id": "fbLkYAgdxuiD"
      },
      "source": [
        "Hyperparameter terbaik untuk model SVM-SVC :\n",
        "- C = 1\n",
        "- gamma = 0.1"
      ]
    },
    {
      "cell_type": "markdown",
      "source": [
        "# VII. Model Training "
      ],
      "metadata": {
        "id": "i9h4yCKYCblm"
      }
    },
    {
      "cell_type": "code",
      "execution_count": null,
      "metadata": {
        "colab": {
          "base_uri": "https://localhost:8080/"
        },
        "id": "X3XCHwMCxuiD",
        "outputId": "6d9006d5-b3cf-460c-d586-aed4e85c0100"
      },
      "outputs": [
        {
          "output_type": "execute_result",
          "data": {
            "text/plain": [
              "SVC(C=1, gamma=1)"
            ]
          },
          "metadata": {},
          "execution_count": 82
        }
      ],
      "source": [
        "best_svc_model = SVC(C=1, gamma=1, kernel = 'rbf')\n",
        "best_svc_model.fit(X_train_final_df,y_train)"
      ]
    },
    {
      "cell_type": "markdown",
      "metadata": {
        "id": "04C6MSHHxuiG"
      },
      "source": [
        "# VIII. Model Evaluation"
      ]
    },
    {
      "cell_type": "code",
      "execution_count": null,
      "metadata": {
        "colab": {
          "base_uri": "https://localhost:8080/"
        },
        "id": "BzkvfOgbxuiI",
        "outputId": "0f9be277-1769-4712-fb27-b7f0ba5e8b58"
      },
      "outputs": [
        {
          "output_type": "stream",
          "name": "stdout",
          "text": [
            "Classification Report SVC Model\n",
            "               precision    recall  f1-score   support\n",
            "\n",
            "           0       0.82      0.98      0.89       464\n",
            "           1       0.74      0.20      0.32       127\n",
            "\n",
            "    accuracy                           0.81       591\n",
            "   macro avg       0.78      0.59      0.61       591\n",
            "weighted avg       0.80      0.81      0.77       591\n",
            "\n"
          ]
        }
      ],
      "source": [
        "print('Classification Report SVC Model\\n',classification_report(y_test, best_svc_model.predict(X_test_final)))"
      ]
    },
    {
      "cell_type": "markdown",
      "source": [
        "**Model SVM-SVC**\n",
        "- dari seluruh data yang terprediksi 0/not default, ada 0.82 data yang benar-benar not default.\n",
        "- dari seluruh data aktual 0/not default, terdapat 0.98 data yang terprediksi not default.\n",
        "- terdapat 89% data terprediksi 0/not default yang benar.\n",
        "\n",
        "\n",
        "- dari seluruh data yang terprediksi 1/default, ada 0.74 data yang benar-benar default.\n",
        "- dari seluruh data aktual 1/default, terdapat 0.20 data yang terprediksi default\n",
        "- terdapat 32% data terprediksi default/1 yang benar.\n",
        "\n",
        "- Akurasi model : 81%\n",
        "- Nilai F1-score berbeda jauh antara kategori not default (0) dan default (1). Hal ini terjadi karena adanya imbalance pada data dimana data not default (0) jauh lebih banyak daripada data dengan default (1)."
      ],
      "metadata": {
        "id": "MCIqp5ro91ua"
      }
    },
    {
      "cell_type": "markdown",
      "source": [
        "# IX. Model Inference"
      ],
      "metadata": {
        "id": "QhsJq0IA2q2_"
      }
    },
    {
      "cell_type": "markdown",
      "source": [
        "## 9.1. Model Saving"
      ],
      "metadata": {
        "id": "gd52-2dd8NNw"
      }
    },
    {
      "cell_type": "markdown",
      "source": [
        "model yang telah disimpan akan diterapkan pada data inference"
      ],
      "metadata": {
        "id": "MZe8qliw9V-z"
      }
    },
    {
      "cell_type": "code",
      "source": [
        "# Model Saving\n",
        "\n",
        "with open('model_scaler.pkl', 'wb') as file_1:  # nama file, wb write binary, as aliasnya\n",
        "  pickle.dump(scaler, file_1)  # masukin yang fit dan aliasnya\n",
        "\n",
        "with open('model_encoder.pkl', 'wb') as file_2:\n",
        "  pickle.dump(encoder, file_2)\n",
        "\n",
        "with open('model_svc.pkl', 'wb') as file_3:\n",
        "  pickle.dump(best_svc_model, file_3)"
      ],
      "metadata": {
        "id": "-8ARRLhD6agw"
      },
      "execution_count": null,
      "outputs": []
    },
    {
      "cell_type": "code",
      "source": [
        "# Load All Models\n",
        "\n",
        "with open('model_scaler.pkl', 'rb') as file_1:\n",
        "  model_scaler = pickle.load(file_1)\n",
        "\n",
        "with open('model_encoder.pkl', 'rb') as file_2:\n",
        "  model_encoder = pickle.load(file_2)\n",
        "\n",
        "with open('model_svc.pkl', 'rb') as file_3:\n",
        "  best_svc_model = pickle.load(file_3)"
      ],
      "metadata": {
        "id": "V-MQahC-8VSB"
      },
      "execution_count": null,
      "outputs": []
    },
    {
      "cell_type": "markdown",
      "source": [
        "## 9.2. Preprocessing inference data"
      ],
      "metadata": {
        "id": "wxtKqKW29kvY"
      }
    },
    {
      "cell_type": "code",
      "source": [
        "data_inf"
      ],
      "metadata": {
        "colab": {
          "base_uri": "https://localhost:8080/",
          "height": 363
        },
        "id": "ZcvOJ3yL6Quo",
        "outputId": "146f92a2-7eeb-489a-b183-8eab40b1012e"
      },
      "execution_count": null,
      "outputs": [
        {
          "output_type": "execute_result",
          "data": {
            "text/plain": [
              "   limit_balance  sex  education_level  marital_status   age  pay_1  pay_2  \\\n",
              "0       200000.0    1                2               1  39.0   -1.0   -1.0   \n",
              "1       180000.0    2                2               2  29.0   -1.0   -1.0   \n",
              "2       210000.0    1                5               1  31.0    2.0    0.0   \n",
              "3        30000.0    2                1               2  27.0    1.0    2.0   \n",
              "4       350000.0    2                1               1  55.0   -1.0   -1.0   \n",
              "5       220000.0    1                2               1  40.0   -1.0   -1.0   \n",
              "6        50000.0    2                1               2  25.0    0.0    0.0   \n",
              "7        20000.0    1                2               1  25.0    0.0    0.0   \n",
              "8       170000.0    1                1               2  32.0    2.0    2.0   \n",
              "9        50000.0    1                2               2  23.0   -1.0   -1.0   \n",
              "\n",
              "   pay_3  pay_4  pay_5  pay_6  default_payment_next_month  \n",
              "0    2.0   -1.0      0      0                           0  \n",
              "1   -2.0   -2.0     -2     -2                           0  \n",
              "2    0.0    0.0      0     -1                           0  \n",
              "3    0.0    0.0      2      0                           0  \n",
              "4   -1.0   -1.0     -1     -1                           0  \n",
              "5   -1.0   -1.0     -1     -1                           0  \n",
              "6    0.0    0.0      0      0                           0  \n",
              "7    0.0    0.0      0      0                           0  \n",
              "8   -2.0   -2.0     -2     -1                           1  \n",
              "9   -1.0   -1.0      0      0                           0  "
            ],
            "text/html": [
              "\n",
              "  <div id=\"df-930e3180-9b94-493c-90d8-f9459ab0c9b1\">\n",
              "    <div class=\"colab-df-container\">\n",
              "      <div>\n",
              "<style scoped>\n",
              "    .dataframe tbody tr th:only-of-type {\n",
              "        vertical-align: middle;\n",
              "    }\n",
              "\n",
              "    .dataframe tbody tr th {\n",
              "        vertical-align: top;\n",
              "    }\n",
              "\n",
              "    .dataframe thead th {\n",
              "        text-align: right;\n",
              "    }\n",
              "</style>\n",
              "<table border=\"1\" class=\"dataframe\">\n",
              "  <thead>\n",
              "    <tr style=\"text-align: right;\">\n",
              "      <th></th>\n",
              "      <th>limit_balance</th>\n",
              "      <th>sex</th>\n",
              "      <th>education_level</th>\n",
              "      <th>marital_status</th>\n",
              "      <th>age</th>\n",
              "      <th>pay_1</th>\n",
              "      <th>pay_2</th>\n",
              "      <th>pay_3</th>\n",
              "      <th>pay_4</th>\n",
              "      <th>pay_5</th>\n",
              "      <th>pay_6</th>\n",
              "      <th>default_payment_next_month</th>\n",
              "    </tr>\n",
              "  </thead>\n",
              "  <tbody>\n",
              "    <tr>\n",
              "      <th>0</th>\n",
              "      <td>200000.0</td>\n",
              "      <td>1</td>\n",
              "      <td>2</td>\n",
              "      <td>1</td>\n",
              "      <td>39.0</td>\n",
              "      <td>-1.0</td>\n",
              "      <td>-1.0</td>\n",
              "      <td>2.0</td>\n",
              "      <td>-1.0</td>\n",
              "      <td>0</td>\n",
              "      <td>0</td>\n",
              "      <td>0</td>\n",
              "    </tr>\n",
              "    <tr>\n",
              "      <th>1</th>\n",
              "      <td>180000.0</td>\n",
              "      <td>2</td>\n",
              "      <td>2</td>\n",
              "      <td>2</td>\n",
              "      <td>29.0</td>\n",
              "      <td>-1.0</td>\n",
              "      <td>-1.0</td>\n",
              "      <td>-2.0</td>\n",
              "      <td>-2.0</td>\n",
              "      <td>-2</td>\n",
              "      <td>-2</td>\n",
              "      <td>0</td>\n",
              "    </tr>\n",
              "    <tr>\n",
              "      <th>2</th>\n",
              "      <td>210000.0</td>\n",
              "      <td>1</td>\n",
              "      <td>5</td>\n",
              "      <td>1</td>\n",
              "      <td>31.0</td>\n",
              "      <td>2.0</td>\n",
              "      <td>0.0</td>\n",
              "      <td>0.0</td>\n",
              "      <td>0.0</td>\n",
              "      <td>0</td>\n",
              "      <td>-1</td>\n",
              "      <td>0</td>\n",
              "    </tr>\n",
              "    <tr>\n",
              "      <th>3</th>\n",
              "      <td>30000.0</td>\n",
              "      <td>2</td>\n",
              "      <td>1</td>\n",
              "      <td>2</td>\n",
              "      <td>27.0</td>\n",
              "      <td>1.0</td>\n",
              "      <td>2.0</td>\n",
              "      <td>0.0</td>\n",
              "      <td>0.0</td>\n",
              "      <td>2</td>\n",
              "      <td>0</td>\n",
              "      <td>0</td>\n",
              "    </tr>\n",
              "    <tr>\n",
              "      <th>4</th>\n",
              "      <td>350000.0</td>\n",
              "      <td>2</td>\n",
              "      <td>1</td>\n",
              "      <td>1</td>\n",
              "      <td>55.0</td>\n",
              "      <td>-1.0</td>\n",
              "      <td>-1.0</td>\n",
              "      <td>-1.0</td>\n",
              "      <td>-1.0</td>\n",
              "      <td>-1</td>\n",
              "      <td>-1</td>\n",
              "      <td>0</td>\n",
              "    </tr>\n",
              "    <tr>\n",
              "      <th>5</th>\n",
              "      <td>220000.0</td>\n",
              "      <td>1</td>\n",
              "      <td>2</td>\n",
              "      <td>1</td>\n",
              "      <td>40.0</td>\n",
              "      <td>-1.0</td>\n",
              "      <td>-1.0</td>\n",
              "      <td>-1.0</td>\n",
              "      <td>-1.0</td>\n",
              "      <td>-1</td>\n",
              "      <td>-1</td>\n",
              "      <td>0</td>\n",
              "    </tr>\n",
              "    <tr>\n",
              "      <th>6</th>\n",
              "      <td>50000.0</td>\n",
              "      <td>2</td>\n",
              "      <td>1</td>\n",
              "      <td>2</td>\n",
              "      <td>25.0</td>\n",
              "      <td>0.0</td>\n",
              "      <td>0.0</td>\n",
              "      <td>0.0</td>\n",
              "      <td>0.0</td>\n",
              "      <td>0</td>\n",
              "      <td>0</td>\n",
              "      <td>0</td>\n",
              "    </tr>\n",
              "    <tr>\n",
              "      <th>7</th>\n",
              "      <td>20000.0</td>\n",
              "      <td>1</td>\n",
              "      <td>2</td>\n",
              "      <td>1</td>\n",
              "      <td>25.0</td>\n",
              "      <td>0.0</td>\n",
              "      <td>0.0</td>\n",
              "      <td>0.0</td>\n",
              "      <td>0.0</td>\n",
              "      <td>0</td>\n",
              "      <td>0</td>\n",
              "      <td>0</td>\n",
              "    </tr>\n",
              "    <tr>\n",
              "      <th>8</th>\n",
              "      <td>170000.0</td>\n",
              "      <td>1</td>\n",
              "      <td>1</td>\n",
              "      <td>2</td>\n",
              "      <td>32.0</td>\n",
              "      <td>2.0</td>\n",
              "      <td>2.0</td>\n",
              "      <td>-2.0</td>\n",
              "      <td>-2.0</td>\n",
              "      <td>-2</td>\n",
              "      <td>-1</td>\n",
              "      <td>1</td>\n",
              "    </tr>\n",
              "    <tr>\n",
              "      <th>9</th>\n",
              "      <td>50000.0</td>\n",
              "      <td>1</td>\n",
              "      <td>2</td>\n",
              "      <td>2</td>\n",
              "      <td>23.0</td>\n",
              "      <td>-1.0</td>\n",
              "      <td>-1.0</td>\n",
              "      <td>-1.0</td>\n",
              "      <td>-1.0</td>\n",
              "      <td>0</td>\n",
              "      <td>0</td>\n",
              "      <td>0</td>\n",
              "    </tr>\n",
              "  </tbody>\n",
              "</table>\n",
              "</div>\n",
              "      <button class=\"colab-df-convert\" onclick=\"convertToInteractive('df-930e3180-9b94-493c-90d8-f9459ab0c9b1')\"\n",
              "              title=\"Convert this dataframe to an interactive table.\"\n",
              "              style=\"display:none;\">\n",
              "        \n",
              "  <svg xmlns=\"http://www.w3.org/2000/svg\" height=\"24px\"viewBox=\"0 0 24 24\"\n",
              "       width=\"24px\">\n",
              "    <path d=\"M0 0h24v24H0V0z\" fill=\"none\"/>\n",
              "    <path d=\"M18.56 5.44l.94 2.06.94-2.06 2.06-.94-2.06-.94-.94-2.06-.94 2.06-2.06.94zm-11 1L8.5 8.5l.94-2.06 2.06-.94-2.06-.94L8.5 2.5l-.94 2.06-2.06.94zm10 10l.94 2.06.94-2.06 2.06-.94-2.06-.94-.94-2.06-.94 2.06-2.06.94z\"/><path d=\"M17.41 7.96l-1.37-1.37c-.4-.4-.92-.59-1.43-.59-.52 0-1.04.2-1.43.59L10.3 9.45l-7.72 7.72c-.78.78-.78 2.05 0 2.83L4 21.41c.39.39.9.59 1.41.59.51 0 1.02-.2 1.41-.59l7.78-7.78 2.81-2.81c.8-.78.8-2.07 0-2.86zM5.41 20L4 18.59l7.72-7.72 1.47 1.35L5.41 20z\"/>\n",
              "  </svg>\n",
              "      </button>\n",
              "      \n",
              "  <style>\n",
              "    .colab-df-container {\n",
              "      display:flex;\n",
              "      flex-wrap:wrap;\n",
              "      gap: 12px;\n",
              "    }\n",
              "\n",
              "    .colab-df-convert {\n",
              "      background-color: #E8F0FE;\n",
              "      border: none;\n",
              "      border-radius: 50%;\n",
              "      cursor: pointer;\n",
              "      display: none;\n",
              "      fill: #1967D2;\n",
              "      height: 32px;\n",
              "      padding: 0 0 0 0;\n",
              "      width: 32px;\n",
              "    }\n",
              "\n",
              "    .colab-df-convert:hover {\n",
              "      background-color: #E2EBFA;\n",
              "      box-shadow: 0px 1px 2px rgba(60, 64, 67, 0.3), 0px 1px 3px 1px rgba(60, 64, 67, 0.15);\n",
              "      fill: #174EA6;\n",
              "    }\n",
              "\n",
              "    [theme=dark] .colab-df-convert {\n",
              "      background-color: #3B4455;\n",
              "      fill: #D2E3FC;\n",
              "    }\n",
              "\n",
              "    [theme=dark] .colab-df-convert:hover {\n",
              "      background-color: #434B5C;\n",
              "      box-shadow: 0px 1px 3px 1px rgba(0, 0, 0, 0.15);\n",
              "      filter: drop-shadow(0px 1px 2px rgba(0, 0, 0, 0.3));\n",
              "      fill: #FFFFFF;\n",
              "    }\n",
              "  </style>\n",
              "\n",
              "      <script>\n",
              "        const buttonEl =\n",
              "          document.querySelector('#df-930e3180-9b94-493c-90d8-f9459ab0c9b1 button.colab-df-convert');\n",
              "        buttonEl.style.display =\n",
              "          google.colab.kernel.accessAllowed ? 'block' : 'none';\n",
              "\n",
              "        async function convertToInteractive(key) {\n",
              "          const element = document.querySelector('#df-930e3180-9b94-493c-90d8-f9459ab0c9b1');\n",
              "          const dataTable =\n",
              "            await google.colab.kernel.invokeFunction('convertToInteractive',\n",
              "                                                     [key], {});\n",
              "          if (!dataTable) return;\n",
              "\n",
              "          const docLinkHtml = 'Like what you see? Visit the ' +\n",
              "            '<a target=\"_blank\" href=https://colab.research.google.com/notebooks/data_table.ipynb>data table notebook</a>'\n",
              "            + ' to learn more about interactive tables.';\n",
              "          element.innerHTML = '';\n",
              "          dataTable['output_type'] = 'display_data';\n",
              "          await google.colab.output.renderOutput(dataTable, element);\n",
              "          const docLink = document.createElement('div');\n",
              "          docLink.innerHTML = docLinkHtml;\n",
              "          element.appendChild(docLink);\n",
              "        }\n",
              "      </script>\n",
              "    </div>\n",
              "  </div>\n",
              "  "
            ]
          },
          "metadata": {},
          "execution_count": 86
        }
      ]
    },
    {
      "cell_type": "code",
      "source": [
        "# Split between num columns and cat columns\n",
        "\n",
        "data_inf_num = data_inf[num_columns]\n",
        "data_inf_cat = data_inf[cat_columns]\n",
        "\n",
        "data_inf_num"
      ],
      "metadata": {
        "colab": {
          "base_uri": "https://localhost:8080/",
          "height": 363
        },
        "id": "Q0hwxr4C6UdI",
        "outputId": "5639b6b9-4901-4586-df33-92af82ec51bd"
      },
      "execution_count": null,
      "outputs": [
        {
          "output_type": "execute_result",
          "data": {
            "text/plain": [
              "   limit_balance   age\n",
              "0       200000.0  39.0\n",
              "1       180000.0  29.0\n",
              "2       210000.0  31.0\n",
              "3        30000.0  27.0\n",
              "4       350000.0  55.0\n",
              "5       220000.0  40.0\n",
              "6        50000.0  25.0\n",
              "7        20000.0  25.0\n",
              "8       170000.0  32.0\n",
              "9        50000.0  23.0"
            ],
            "text/html": [
              "\n",
              "  <div id=\"df-c414a71a-e4f5-4f5c-9e42-eb4600254579\">\n",
              "    <div class=\"colab-df-container\">\n",
              "      <div>\n",
              "<style scoped>\n",
              "    .dataframe tbody tr th:only-of-type {\n",
              "        vertical-align: middle;\n",
              "    }\n",
              "\n",
              "    .dataframe tbody tr th {\n",
              "        vertical-align: top;\n",
              "    }\n",
              "\n",
              "    .dataframe thead th {\n",
              "        text-align: right;\n",
              "    }\n",
              "</style>\n",
              "<table border=\"1\" class=\"dataframe\">\n",
              "  <thead>\n",
              "    <tr style=\"text-align: right;\">\n",
              "      <th></th>\n",
              "      <th>limit_balance</th>\n",
              "      <th>age</th>\n",
              "    </tr>\n",
              "  </thead>\n",
              "  <tbody>\n",
              "    <tr>\n",
              "      <th>0</th>\n",
              "      <td>200000.0</td>\n",
              "      <td>39.0</td>\n",
              "    </tr>\n",
              "    <tr>\n",
              "      <th>1</th>\n",
              "      <td>180000.0</td>\n",
              "      <td>29.0</td>\n",
              "    </tr>\n",
              "    <tr>\n",
              "      <th>2</th>\n",
              "      <td>210000.0</td>\n",
              "      <td>31.0</td>\n",
              "    </tr>\n",
              "    <tr>\n",
              "      <th>3</th>\n",
              "      <td>30000.0</td>\n",
              "      <td>27.0</td>\n",
              "    </tr>\n",
              "    <tr>\n",
              "      <th>4</th>\n",
              "      <td>350000.0</td>\n",
              "      <td>55.0</td>\n",
              "    </tr>\n",
              "    <tr>\n",
              "      <th>5</th>\n",
              "      <td>220000.0</td>\n",
              "      <td>40.0</td>\n",
              "    </tr>\n",
              "    <tr>\n",
              "      <th>6</th>\n",
              "      <td>50000.0</td>\n",
              "      <td>25.0</td>\n",
              "    </tr>\n",
              "    <tr>\n",
              "      <th>7</th>\n",
              "      <td>20000.0</td>\n",
              "      <td>25.0</td>\n",
              "    </tr>\n",
              "    <tr>\n",
              "      <th>8</th>\n",
              "      <td>170000.0</td>\n",
              "      <td>32.0</td>\n",
              "    </tr>\n",
              "    <tr>\n",
              "      <th>9</th>\n",
              "      <td>50000.0</td>\n",
              "      <td>23.0</td>\n",
              "    </tr>\n",
              "  </tbody>\n",
              "</table>\n",
              "</div>\n",
              "      <button class=\"colab-df-convert\" onclick=\"convertToInteractive('df-c414a71a-e4f5-4f5c-9e42-eb4600254579')\"\n",
              "              title=\"Convert this dataframe to an interactive table.\"\n",
              "              style=\"display:none;\">\n",
              "        \n",
              "  <svg xmlns=\"http://www.w3.org/2000/svg\" height=\"24px\"viewBox=\"0 0 24 24\"\n",
              "       width=\"24px\">\n",
              "    <path d=\"M0 0h24v24H0V0z\" fill=\"none\"/>\n",
              "    <path d=\"M18.56 5.44l.94 2.06.94-2.06 2.06-.94-2.06-.94-.94-2.06-.94 2.06-2.06.94zm-11 1L8.5 8.5l.94-2.06 2.06-.94-2.06-.94L8.5 2.5l-.94 2.06-2.06.94zm10 10l.94 2.06.94-2.06 2.06-.94-2.06-.94-.94-2.06-.94 2.06-2.06.94z\"/><path d=\"M17.41 7.96l-1.37-1.37c-.4-.4-.92-.59-1.43-.59-.52 0-1.04.2-1.43.59L10.3 9.45l-7.72 7.72c-.78.78-.78 2.05 0 2.83L4 21.41c.39.39.9.59 1.41.59.51 0 1.02-.2 1.41-.59l7.78-7.78 2.81-2.81c.8-.78.8-2.07 0-2.86zM5.41 20L4 18.59l7.72-7.72 1.47 1.35L5.41 20z\"/>\n",
              "  </svg>\n",
              "      </button>\n",
              "      \n",
              "  <style>\n",
              "    .colab-df-container {\n",
              "      display:flex;\n",
              "      flex-wrap:wrap;\n",
              "      gap: 12px;\n",
              "    }\n",
              "\n",
              "    .colab-df-convert {\n",
              "      background-color: #E8F0FE;\n",
              "      border: none;\n",
              "      border-radius: 50%;\n",
              "      cursor: pointer;\n",
              "      display: none;\n",
              "      fill: #1967D2;\n",
              "      height: 32px;\n",
              "      padding: 0 0 0 0;\n",
              "      width: 32px;\n",
              "    }\n",
              "\n",
              "    .colab-df-convert:hover {\n",
              "      background-color: #E2EBFA;\n",
              "      box-shadow: 0px 1px 2px rgba(60, 64, 67, 0.3), 0px 1px 3px 1px rgba(60, 64, 67, 0.15);\n",
              "      fill: #174EA6;\n",
              "    }\n",
              "\n",
              "    [theme=dark] .colab-df-convert {\n",
              "      background-color: #3B4455;\n",
              "      fill: #D2E3FC;\n",
              "    }\n",
              "\n",
              "    [theme=dark] .colab-df-convert:hover {\n",
              "      background-color: #434B5C;\n",
              "      box-shadow: 0px 1px 3px 1px rgba(0, 0, 0, 0.15);\n",
              "      filter: drop-shadow(0px 1px 2px rgba(0, 0, 0, 0.3));\n",
              "      fill: #FFFFFF;\n",
              "    }\n",
              "  </style>\n",
              "\n",
              "      <script>\n",
              "        const buttonEl =\n",
              "          document.querySelector('#df-c414a71a-e4f5-4f5c-9e42-eb4600254579 button.colab-df-convert');\n",
              "        buttonEl.style.display =\n",
              "          google.colab.kernel.accessAllowed ? 'block' : 'none';\n",
              "\n",
              "        async function convertToInteractive(key) {\n",
              "          const element = document.querySelector('#df-c414a71a-e4f5-4f5c-9e42-eb4600254579');\n",
              "          const dataTable =\n",
              "            await google.colab.kernel.invokeFunction('convertToInteractive',\n",
              "                                                     [key], {});\n",
              "          if (!dataTable) return;\n",
              "\n",
              "          const docLinkHtml = 'Like what you see? Visit the ' +\n",
              "            '<a target=\"_blank\" href=https://colab.research.google.com/notebooks/data_table.ipynb>data table notebook</a>'\n",
              "            + ' to learn more about interactive tables.';\n",
              "          element.innerHTML = '';\n",
              "          dataTable['output_type'] = 'display_data';\n",
              "          await google.colab.output.renderOutput(dataTable, element);\n",
              "          const docLink = document.createElement('div');\n",
              "          docLink.innerHTML = docLinkHtml;\n",
              "          element.appendChild(docLink);\n",
              "        }\n",
              "      </script>\n",
              "    </div>\n",
              "  </div>\n",
              "  "
            ]
          },
          "metadata": {},
          "execution_count": 87
        }
      ]
    },
    {
      "cell_type": "code",
      "source": [
        "# Feature Scaling and Feature Encoding\n",
        "\n",
        "data_inf_num_scaled = model_scaler.transform(data_inf_num)\n",
        "data_inf_cat_encoded = model_encoder.transform(data_inf_cat).toarray()\n",
        "data_inf_num_scaled"
      ],
      "metadata": {
        "colab": {
          "base_uri": "https://localhost:8080/"
        },
        "id": "1ZvFqGZa6Xzo",
        "outputId": "26af5eb5-2bbf-4bb3-bd24-509d2b17880a"
      },
      "execution_count": null,
      "outputs": [
        {
          "output_type": "execute_result",
          "data": {
            "text/plain": [
              "array([[0.3877551 , 0.46153846],\n",
              "       [0.34693878, 0.20512821],\n",
              "       [0.40816327, 0.25641026],\n",
              "       [0.04081633, 0.15384615],\n",
              "       [0.69387755, 0.87179487],\n",
              "       [0.42857143, 0.48717949],\n",
              "       [0.08163265, 0.1025641 ],\n",
              "       [0.02040816, 0.1025641 ],\n",
              "       [0.32653061, 0.28205128],\n",
              "       [0.08163265, 0.05128205]])"
            ]
          },
          "metadata": {},
          "execution_count": 88
        }
      ]
    },
    {
      "cell_type": "code",
      "source": [
        "# Concate\n",
        "\n",
        "data_inf_final = np.concatenate([data_inf_num_scaled, data_inf_cat_encoded], axis=1)\n",
        "data_inf_final"
      ],
      "metadata": {
        "colab": {
          "base_uri": "https://localhost:8080/"
        },
        "id": "qWFi9woM6373",
        "outputId": "68503fcc-5b55-4794-ec33-04bef25e69df"
      },
      "execution_count": null,
      "outputs": [
        {
          "output_type": "execute_result",
          "data": {
            "text/plain": [
              "array([[0.3877551 , 0.46153846, 1.        , 0.        , 0.        ,\n",
              "        1.        , 0.        , 0.        , 0.        , 0.        ,\n",
              "        1.        , 0.        , 0.        , 0.        , 1.        ,\n",
              "        0.        , 0.        , 0.        , 0.        , 0.        ,\n",
              "        0.        , 0.        , 0.        , 0.        , 1.        ,\n",
              "        0.        , 0.        , 0.        , 0.        , 0.        ,\n",
              "        0.        , 0.        , 0.        , 0.        , 0.        ,\n",
              "        1.        , 0.        , 0.        , 0.        , 0.        ,\n",
              "        0.        , 0.        , 1.        , 0.        , 0.        ,\n",
              "        0.        , 0.        , 0.        , 0.        , 0.        ,\n",
              "        0.        , 1.        , 0.        , 0.        , 0.        ,\n",
              "        0.        , 0.        , 0.        , 0.        , 1.        ,\n",
              "        0.        , 0.        , 0.        , 0.        ],\n",
              "       [0.34693878, 0.20512821, 0.        , 1.        , 0.        ,\n",
              "        1.        , 0.        , 0.        , 0.        , 0.        ,\n",
              "        0.        , 1.        , 0.        , 0.        , 1.        ,\n",
              "        0.        , 0.        , 0.        , 0.        , 0.        ,\n",
              "        0.        , 0.        , 0.        , 0.        , 1.        ,\n",
              "        0.        , 0.        , 0.        , 0.        , 0.        ,\n",
              "        0.        , 0.        , 1.        , 0.        , 0.        ,\n",
              "        0.        , 0.        , 0.        , 0.        , 0.        ,\n",
              "        0.        , 1.        , 0.        , 0.        , 0.        ,\n",
              "        0.        , 0.        , 0.        , 0.        , 1.        ,\n",
              "        0.        , 0.        , 0.        , 0.        , 0.        ,\n",
              "        0.        , 0.        , 1.        , 0.        , 0.        ,\n",
              "        0.        , 0.        , 0.        , 0.        ],\n",
              "       [0.40816327, 0.25641026, 1.        , 0.        , 0.        ,\n",
              "        0.        , 0.        , 0.        , 1.        , 0.        ,\n",
              "        1.        , 0.        , 0.        , 0.        , 0.        ,\n",
              "        0.        , 0.        , 1.        , 0.        , 0.        ,\n",
              "        0.        , 0.        , 0.        , 0.        , 0.        ,\n",
              "        1.        , 0.        , 0.        , 0.        , 0.        ,\n",
              "        0.        , 0.        , 0.        , 0.        , 1.        ,\n",
              "        0.        , 0.        , 0.        , 0.        , 0.        ,\n",
              "        0.        , 0.        , 0.        , 1.        , 0.        ,\n",
              "        0.        , 0.        , 0.        , 0.        , 0.        ,\n",
              "        0.        , 1.        , 0.        , 0.        , 0.        ,\n",
              "        0.        , 0.        , 0.        , 1.        , 0.        ,\n",
              "        0.        , 0.        , 0.        , 0.        ],\n",
              "       [0.04081633, 0.15384615, 0.        , 1.        , 1.        ,\n",
              "        0.        , 0.        , 0.        , 0.        , 0.        ,\n",
              "        0.        , 1.        , 0.        , 0.        , 0.        ,\n",
              "        0.        , 1.        , 0.        , 0.        , 0.        ,\n",
              "        0.        , 0.        , 0.        , 0.        , 0.        ,\n",
              "        0.        , 0.        , 1.        , 0.        , 0.        ,\n",
              "        0.        , 0.        , 0.        , 0.        , 1.        ,\n",
              "        0.        , 0.        , 0.        , 0.        , 0.        ,\n",
              "        0.        , 0.        , 0.        , 1.        , 0.        ,\n",
              "        0.        , 0.        , 0.        , 0.        , 0.        ,\n",
              "        0.        , 0.        , 1.        , 0.        , 0.        ,\n",
              "        0.        , 0.        , 0.        , 0.        , 1.        ,\n",
              "        0.        , 0.        , 0.        , 0.        ],\n",
              "       [0.69387755, 0.87179487, 0.        , 1.        , 1.        ,\n",
              "        0.        , 0.        , 0.        , 0.        , 0.        ,\n",
              "        1.        , 0.        , 0.        , 0.        , 1.        ,\n",
              "        0.        , 0.        , 0.        , 0.        , 0.        ,\n",
              "        0.        , 0.        , 0.        , 0.        , 1.        ,\n",
              "        0.        , 0.        , 0.        , 0.        , 0.        ,\n",
              "        0.        , 0.        , 0.        , 1.        , 0.        ,\n",
              "        0.        , 0.        , 0.        , 0.        , 0.        ,\n",
              "        0.        , 0.        , 1.        , 0.        , 0.        ,\n",
              "        0.        , 0.        , 0.        , 0.        , 0.        ,\n",
              "        1.        , 0.        , 0.        , 0.        , 0.        ,\n",
              "        0.        , 0.        , 0.        , 1.        , 0.        ,\n",
              "        0.        , 0.        , 0.        , 0.        ],\n",
              "       [0.42857143, 0.48717949, 1.        , 0.        , 0.        ,\n",
              "        1.        , 0.        , 0.        , 0.        , 0.        ,\n",
              "        1.        , 0.        , 0.        , 0.        , 1.        ,\n",
              "        0.        , 0.        , 0.        , 0.        , 0.        ,\n",
              "        0.        , 0.        , 0.        , 0.        , 1.        ,\n",
              "        0.        , 0.        , 0.        , 0.        , 0.        ,\n",
              "        0.        , 0.        , 0.        , 1.        , 0.        ,\n",
              "        0.        , 0.        , 0.        , 0.        , 0.        ,\n",
              "        0.        , 0.        , 1.        , 0.        , 0.        ,\n",
              "        0.        , 0.        , 0.        , 0.        , 0.        ,\n",
              "        1.        , 0.        , 0.        , 0.        , 0.        ,\n",
              "        0.        , 0.        , 0.        , 1.        , 0.        ,\n",
              "        0.        , 0.        , 0.        , 0.        ],\n",
              "       [0.08163265, 0.1025641 , 0.        , 1.        , 1.        ,\n",
              "        0.        , 0.        , 0.        , 0.        , 0.        ,\n",
              "        0.        , 1.        , 0.        , 0.        , 0.        ,\n",
              "        1.        , 0.        , 0.        , 0.        , 0.        ,\n",
              "        0.        , 0.        , 0.        , 0.        , 0.        ,\n",
              "        1.        , 0.        , 0.        , 0.        , 0.        ,\n",
              "        0.        , 0.        , 0.        , 0.        , 1.        ,\n",
              "        0.        , 0.        , 0.        , 0.        , 0.        ,\n",
              "        0.        , 0.        , 0.        , 1.        , 0.        ,\n",
              "        0.        , 0.        , 0.        , 0.        , 0.        ,\n",
              "        0.        , 1.        , 0.        , 0.        , 0.        ,\n",
              "        0.        , 0.        , 0.        , 0.        , 1.        ,\n",
              "        0.        , 0.        , 0.        , 0.        ],\n",
              "       [0.02040816, 0.1025641 , 1.        , 0.        , 0.        ,\n",
              "        1.        , 0.        , 0.        , 0.        , 0.        ,\n",
              "        1.        , 0.        , 0.        , 0.        , 0.        ,\n",
              "        1.        , 0.        , 0.        , 0.        , 0.        ,\n",
              "        0.        , 0.        , 0.        , 0.        , 0.        ,\n",
              "        1.        , 0.        , 0.        , 0.        , 0.        ,\n",
              "        0.        , 0.        , 0.        , 0.        , 1.        ,\n",
              "        0.        , 0.        , 0.        , 0.        , 0.        ,\n",
              "        0.        , 0.        , 0.        , 1.        , 0.        ,\n",
              "        0.        , 0.        , 0.        , 0.        , 0.        ,\n",
              "        0.        , 1.        , 0.        , 0.        , 0.        ,\n",
              "        0.        , 0.        , 0.        , 0.        , 1.        ,\n",
              "        0.        , 0.        , 0.        , 0.        ],\n",
              "       [0.32653061, 0.28205128, 1.        , 0.        , 1.        ,\n",
              "        0.        , 0.        , 0.        , 0.        , 0.        ,\n",
              "        0.        , 1.        , 0.        , 0.        , 0.        ,\n",
              "        0.        , 0.        , 1.        , 0.        , 0.        ,\n",
              "        0.        , 0.        , 0.        , 0.        , 0.        ,\n",
              "        0.        , 0.        , 1.        , 0.        , 0.        ,\n",
              "        0.        , 0.        , 1.        , 0.        , 0.        ,\n",
              "        0.        , 0.        , 0.        , 0.        , 0.        ,\n",
              "        0.        , 1.        , 0.        , 0.        , 0.        ,\n",
              "        0.        , 0.        , 0.        , 0.        , 1.        ,\n",
              "        0.        , 0.        , 0.        , 0.        , 0.        ,\n",
              "        0.        , 0.        , 0.        , 1.        , 0.        ,\n",
              "        0.        , 0.        , 0.        , 0.        ],\n",
              "       [0.08163265, 0.05128205, 1.        , 0.        , 0.        ,\n",
              "        1.        , 0.        , 0.        , 0.        , 0.        ,\n",
              "        0.        , 1.        , 0.        , 0.        , 1.        ,\n",
              "        0.        , 0.        , 0.        , 0.        , 0.        ,\n",
              "        0.        , 0.        , 0.        , 0.        , 1.        ,\n",
              "        0.        , 0.        , 0.        , 0.        , 0.        ,\n",
              "        0.        , 0.        , 0.        , 1.        , 0.        ,\n",
              "        0.        , 0.        , 0.        , 0.        , 0.        ,\n",
              "        0.        , 0.        , 1.        , 0.        , 0.        ,\n",
              "        0.        , 0.        , 0.        , 0.        , 0.        ,\n",
              "        0.        , 1.        , 0.        , 0.        , 0.        ,\n",
              "        0.        , 0.        , 0.        , 0.        , 1.        ,\n",
              "        0.        , 0.        , 0.        , 0.        ]])"
            ]
          },
          "metadata": {},
          "execution_count": 89
        }
      ]
    },
    {
      "cell_type": "markdown",
      "source": [
        "## 9.3. Inference SVM - SVC Model"
      ],
      "metadata": {
        "id": "j3MULY_l68ng"
      }
    },
    {
      "cell_type": "code",
      "source": [
        "# Predict Data Inference\n",
        "\n",
        "y_pred_inf = best_svc_model.predict(data_inf_final)\n",
        "y_pred_inf"
      ],
      "metadata": {
        "colab": {
          "base_uri": "https://localhost:8080/"
        },
        "id": "cxqk90St7JfL",
        "outputId": "4d2e471f-fc5e-400a-83e4-592c6c7c38f6"
      },
      "execution_count": null,
      "outputs": [
        {
          "output_type": "execute_result",
          "data": {
            "text/plain": [
              "array([0, 0, 0, 0, 0, 0, 0, 0, 0, 0])"
            ]
          },
          "metadata": {},
          "execution_count": 90
        }
      ]
    },
    {
      "cell_type": "code",
      "source": [
        "# Convert into DataFrame\n",
        "\n",
        "y_pred_inf_df = pd.DataFrame(y_pred_inf, columns=['Default - Prediction'])\n",
        "y_pred_inf_df"
      ],
      "metadata": {
        "colab": {
          "base_uri": "https://localhost:8080/",
          "height": 363
        },
        "id": "F2YAoap67OIP",
        "outputId": "e5fd94a7-0307-42ac-d0b2-6122ae4e8d28"
      },
      "execution_count": null,
      "outputs": [
        {
          "output_type": "execute_result",
          "data": {
            "text/plain": [
              "   Default - Prediction\n",
              "0                     0\n",
              "1                     0\n",
              "2                     0\n",
              "3                     0\n",
              "4                     0\n",
              "5                     0\n",
              "6                     0\n",
              "7                     0\n",
              "8                     0\n",
              "9                     0"
            ],
            "text/html": [
              "\n",
              "  <div id=\"df-1d157c5a-59bc-4737-8e99-21859305d48e\">\n",
              "    <div class=\"colab-df-container\">\n",
              "      <div>\n",
              "<style scoped>\n",
              "    .dataframe tbody tr th:only-of-type {\n",
              "        vertical-align: middle;\n",
              "    }\n",
              "\n",
              "    .dataframe tbody tr th {\n",
              "        vertical-align: top;\n",
              "    }\n",
              "\n",
              "    .dataframe thead th {\n",
              "        text-align: right;\n",
              "    }\n",
              "</style>\n",
              "<table border=\"1\" class=\"dataframe\">\n",
              "  <thead>\n",
              "    <tr style=\"text-align: right;\">\n",
              "      <th></th>\n",
              "      <th>Default - Prediction</th>\n",
              "    </tr>\n",
              "  </thead>\n",
              "  <tbody>\n",
              "    <tr>\n",
              "      <th>0</th>\n",
              "      <td>0</td>\n",
              "    </tr>\n",
              "    <tr>\n",
              "      <th>1</th>\n",
              "      <td>0</td>\n",
              "    </tr>\n",
              "    <tr>\n",
              "      <th>2</th>\n",
              "      <td>0</td>\n",
              "    </tr>\n",
              "    <tr>\n",
              "      <th>3</th>\n",
              "      <td>0</td>\n",
              "    </tr>\n",
              "    <tr>\n",
              "      <th>4</th>\n",
              "      <td>0</td>\n",
              "    </tr>\n",
              "    <tr>\n",
              "      <th>5</th>\n",
              "      <td>0</td>\n",
              "    </tr>\n",
              "    <tr>\n",
              "      <th>6</th>\n",
              "      <td>0</td>\n",
              "    </tr>\n",
              "    <tr>\n",
              "      <th>7</th>\n",
              "      <td>0</td>\n",
              "    </tr>\n",
              "    <tr>\n",
              "      <th>8</th>\n",
              "      <td>0</td>\n",
              "    </tr>\n",
              "    <tr>\n",
              "      <th>9</th>\n",
              "      <td>0</td>\n",
              "    </tr>\n",
              "  </tbody>\n",
              "</table>\n",
              "</div>\n",
              "      <button class=\"colab-df-convert\" onclick=\"convertToInteractive('df-1d157c5a-59bc-4737-8e99-21859305d48e')\"\n",
              "              title=\"Convert this dataframe to an interactive table.\"\n",
              "              style=\"display:none;\">\n",
              "        \n",
              "  <svg xmlns=\"http://www.w3.org/2000/svg\" height=\"24px\"viewBox=\"0 0 24 24\"\n",
              "       width=\"24px\">\n",
              "    <path d=\"M0 0h24v24H0V0z\" fill=\"none\"/>\n",
              "    <path d=\"M18.56 5.44l.94 2.06.94-2.06 2.06-.94-2.06-.94-.94-2.06-.94 2.06-2.06.94zm-11 1L8.5 8.5l.94-2.06 2.06-.94-2.06-.94L8.5 2.5l-.94 2.06-2.06.94zm10 10l.94 2.06.94-2.06 2.06-.94-2.06-.94-.94-2.06-.94 2.06-2.06.94z\"/><path d=\"M17.41 7.96l-1.37-1.37c-.4-.4-.92-.59-1.43-.59-.52 0-1.04.2-1.43.59L10.3 9.45l-7.72 7.72c-.78.78-.78 2.05 0 2.83L4 21.41c.39.39.9.59 1.41.59.51 0 1.02-.2 1.41-.59l7.78-7.78 2.81-2.81c.8-.78.8-2.07 0-2.86zM5.41 20L4 18.59l7.72-7.72 1.47 1.35L5.41 20z\"/>\n",
              "  </svg>\n",
              "      </button>\n",
              "      \n",
              "  <style>\n",
              "    .colab-df-container {\n",
              "      display:flex;\n",
              "      flex-wrap:wrap;\n",
              "      gap: 12px;\n",
              "    }\n",
              "\n",
              "    .colab-df-convert {\n",
              "      background-color: #E8F0FE;\n",
              "      border: none;\n",
              "      border-radius: 50%;\n",
              "      cursor: pointer;\n",
              "      display: none;\n",
              "      fill: #1967D2;\n",
              "      height: 32px;\n",
              "      padding: 0 0 0 0;\n",
              "      width: 32px;\n",
              "    }\n",
              "\n",
              "    .colab-df-convert:hover {\n",
              "      background-color: #E2EBFA;\n",
              "      box-shadow: 0px 1px 2px rgba(60, 64, 67, 0.3), 0px 1px 3px 1px rgba(60, 64, 67, 0.15);\n",
              "      fill: #174EA6;\n",
              "    }\n",
              "\n",
              "    [theme=dark] .colab-df-convert {\n",
              "      background-color: #3B4455;\n",
              "      fill: #D2E3FC;\n",
              "    }\n",
              "\n",
              "    [theme=dark] .colab-df-convert:hover {\n",
              "      background-color: #434B5C;\n",
              "      box-shadow: 0px 1px 3px 1px rgba(0, 0, 0, 0.15);\n",
              "      filter: drop-shadow(0px 1px 2px rgba(0, 0, 0, 0.3));\n",
              "      fill: #FFFFFF;\n",
              "    }\n",
              "  </style>\n",
              "\n",
              "      <script>\n",
              "        const buttonEl =\n",
              "          document.querySelector('#df-1d157c5a-59bc-4737-8e99-21859305d48e button.colab-df-convert');\n",
              "        buttonEl.style.display =\n",
              "          google.colab.kernel.accessAllowed ? 'block' : 'none';\n",
              "\n",
              "        async function convertToInteractive(key) {\n",
              "          const element = document.querySelector('#df-1d157c5a-59bc-4737-8e99-21859305d48e');\n",
              "          const dataTable =\n",
              "            await google.colab.kernel.invokeFunction('convertToInteractive',\n",
              "                                                     [key], {});\n",
              "          if (!dataTable) return;\n",
              "\n",
              "          const docLinkHtml = 'Like what you see? Visit the ' +\n",
              "            '<a target=\"_blank\" href=https://colab.research.google.com/notebooks/data_table.ipynb>data table notebook</a>'\n",
              "            + ' to learn more about interactive tables.';\n",
              "          element.innerHTML = '';\n",
              "          dataTable['output_type'] = 'display_data';\n",
              "          await google.colab.output.renderOutput(dataTable, element);\n",
              "          const docLink = document.createElement('div');\n",
              "          docLink.innerHTML = docLinkHtml;\n",
              "          element.appendChild(docLink);\n",
              "        }\n",
              "      </script>\n",
              "    </div>\n",
              "  </div>\n",
              "  "
            ]
          },
          "metadata": {},
          "execution_count": 91
        }
      ]
    },
    {
      "cell_type": "code",
      "source": [
        "data_inf['default_payment_next_month']"
      ],
      "metadata": {
        "colab": {
          "base_uri": "https://localhost:8080/"
        },
        "id": "M5KyLVFVm3fp",
        "outputId": "daf11a4b-f278-4dd0-cc22-128f93fb6d14"
      },
      "execution_count": null,
      "outputs": [
        {
          "output_type": "execute_result",
          "data": {
            "text/plain": [
              "0    0\n",
              "1    0\n",
              "2    0\n",
              "3    0\n",
              "4    0\n",
              "5    0\n",
              "6    0\n",
              "7    0\n",
              "8    1\n",
              "9    0\n",
              "Name: default_payment_next_month, dtype: int64"
            ]
          },
          "metadata": {},
          "execution_count": 92
        }
      ]
    },
    {
      "cell_type": "markdown",
      "source": [
        "jika dibandingkan dengan target data asli, hasil prediksi data inference sudah 90% benar. Hanya ada 1 kesalahan di index row [8] yaitu pada data asli adalah default (1) akan tetapi hasil prediksi inference adalah not default(1). Dari asumsi saya, hal ini disebabkan oleh adanya imbalance pada data dimana data not default (0) jauh lebih banyak daripada data default (1)."
      ],
      "metadata": {
        "id": "Q4su5ekCnhZz"
      }
    },
    {
      "cell_type": "markdown",
      "source": [
        "# X. Kesimpulan"
      ],
      "metadata": {
        "id": "YHIG0GOq9tqE"
      }
    },
    {
      "cell_type": "markdown",
      "source": [
        "**Metrics Model**\n",
        "- Penilaian cross validation dari base-model ditarik dari rerata akurasi prediksi tiap base model. Hasilnya dari yang terbaik ke terburuk adalah model SVM-SVC, Logistic Regression, AdaBoost, KNN, Naive Bayes, Random Forest, dan Decision Tree.\n",
        "- `Model SVC menjadi base model terbaik` karena memang model ini meiliki kelebihan dapat memprediksi target dengan fitur lebih dari 2 karena adanya komponen separator kelas yang baik seperti clear margin.\n",
        "- Hyperparameter terbaik dari model SVM-SVC adalah `C=1 dan gamma=0.1 pada kernel RBF`.\n",
        "- Metrics evaluasi model SVC, salah satunya metrics akurasi menunjukkan angka yang cukup baik dengan persentase 81%.\n",
        "- F1-score data not default lebih tinggi daripada data default karena adanya imbalance pada target data.\n",
        "\n",
        "\n",
        "**Analisis kelebihan dan kelemahan tiap model**\n",
        "- `Model SVM-SVC` memiliki kelebihan dapat memprediksi lebih dari 2 kategori dengan baik karena adanya clear separator seperti margin, akan tetapi runtime SVC jauh lebih lama daripada model lainnya dan tidak cocok untuk dataset yang besar.\n",
        "- `Model Logistic Regression` memiliki kelebihan mudah untuk digunakan, mudah dipahami, dan efisien untuk dipelajari pada data. Kelemahannya adalah asumsi linearitas antara fitur independen dan fitur dependen.\n",
        "- `Model AdaBoost` memiliki kelebihan logika machine learning yang lebih baik daripada decision tree dan random forest karena terdapat konsep boosting model yang lemah sehingga menghasilkan akurasi yang lebih tinggi. AdaBoost sensitif terhadap outlier dan hal ini bisa menjadi kelebihan/kelemahan tergantung dari karakteristik datasetnya.\n",
        "- `Model KNN` memiliki beberapa kelebihan yaitu tidak perlu proses training dan dapat diaplikasikan kapanpun karena tidak akan memengaruhi modelnya. KNN juga mudah untuk digunakan. Kelemahannya adalah kurang baik untuk dataset yang besar, model yang buruk untuk dataset dengan karakter high dimensionality(fiturnya banyak), sensitif terhadap missing values dan outlier, dan sangat membutuhkan scaling.\n",
        "- `Model Naive Bayes` memiliki kelebihan tidak butuh banyak data training. Kelemahannya adalah pada asumsinya bahwa tiap fitur bersifat independen. Maka dari itu model ini disebut 'naive'.\n",
        "- `Model Random Forest` memiliki kelebihan secara otomatis handling missing values dan tidak perlu scaling data. Selain itu model ini robust terhadap outliers dan stabil. Akan tetapi kelemahannya adalah model ini kompleks dan butuh waktu yang lebih lama untuk proses training.\n",
        "- `Model Decision Tree` memiliki kelebihan mudah dipahami, prosesnya cepat, dan tidak perlu scaling, handling missing values. Kelemahannya adalah jika diaplikasikan ke dataset yang besar/data dengan fitur yang banyak, rentan untuk terjadi overfitting. Kemudian jika ada perubahan sedikitpun pada data, maka modelnya juga akan berubah.\n",
        "\n",
        "**Improvement Suggestion**\n",
        "- Improvement yang dapat diterapkan untuk machine learning ini adalah adanya handling imbalance data sehingga diharapkan nilai f1-score bisa lebih imbang dan prediksi bisa lebih baik lagi.\n",
        "\n",
        "\n",
        "**Insight setelah proses EDA dan selanjutnya**\n",
        "- dari analisis grafik, chi-square test, dan personal judgement di EDA, kolom yang terpilih sebagai fitur sudah cukup baik dalam memprediksi data karena akurasinya mencapai 81%.\n",
        "- proses yang ingin saya highlight adalah cross validation dan hyperparameter tuning. kedua proses itu memberikan probabilitas lebih tinggi untuk mendapatkan model machine learning yang optimal untuk dataset yang digunakan.\n",
        "- setiap proses yang diambil harus dipilih berdasarkan argumen yang kuat. Apabila model dan proses pada dataset ini diaplikasikan pada dataset lain, belum tentu menghasilkan model dengan akurasi yang sama."
      ],
      "metadata": {
        "id": "QqUB2pulBRN6"
      }
    },
    {
      "cell_type": "markdown",
      "source": [
        "# XI. Conceptual Problems"
      ],
      "metadata": {
        "id": "7ZogM0vPBN5T"
      }
    },
    {
      "cell_type": "markdown",
      "source": [
        "1. Apakah fungsi parameter criterion pada Decision Tree? Jelaskan salah satu criterion yang kalian pahami!\n",
        "2. Apakah fungsi dari pruning pada Tree model?\n",
        "3. Bagaimana cara memilih K yang optimal pada KNN?\n",
        "4. Jelaskan apa yang kalian ketahui tentang Cross Validation!\n",
        "5. Jelaskan apa yang kalian ketahui tentang Accuracy, Precision, Recall, F1 Score!"
      ],
      "metadata": {
        "id": "Y4r0tsj_Gxx8"
      }
    },
    {
      "cell_type": "markdown",
      "source": [
        "1. Parameter Criterion pada Decision Tree berfungsi untuk menentukan bagaimana ketidakmurnian kelas akan diukur. terdapat 2 jenis metode yaitu gini dan entropy.\n",
        "  - Gini mengukur frekuensi dimana setiap elemen dari kumpulan data akan missclassified ketika diberi klasifikasi secara acak. Nilai minimal gini adalah 0 yang berarti perfectly pure sehingga tidak akan dibagi lagi nodenya.\n",
        "  - Entropy mengukur ketidakteraturan fitur dengan target. Pemisahan kelas paling optimal adalah node dengan entropy paling kecil. Nilai minimalnya 0 dimana itu adalah nilai sempurna.\n",
        "\n",
        "2. Pruning berfungsi untuk menyederhanakan decision tree yang kompleks dengan menghapus bagian pohon/node yang tidak kritis dan berlebihan dalam membagi kelas/label. Terdapat 2 teknik yaitu pre-pruning dan post-pruning. Salah satu cara pre pruning adalah mengatur max-depth decision tree. Kelebihan pre-pruning adalah lebih efektif.\n",
        "\n",
        "3. K optimal pada KNN model dapat dicari/dilihat menggunakan metode elbow dengan sumbu x adalah jumlah k dan sumbu y adalah rerata dispersi. Grafik elbow ini akan menunjukkan seiting bertambahnya jumlah k, maka dispersi semakin menurun. Titik dimana terjadi penurunan dispersi maksimal disebut titik elbow. Di titik inilah nilai k optimal karena setelah itu penurunan dispersi tidak signifikan dan jika memnggunakan nilai k lebih dari nilai optimalnya akan mengurangi akurasi prediksi dari model.\n",
        "\n",
        "4. Cross Validation adalah suatu metode untuk mengevaluasi model dengan cara mengambil sampel secara berulang untuk train dan test set. Perulangan pengambilan sampel bergantung pada nilai k dimana k adalah berapa banyak kelas dari dataset akan dibagi. Hasilnya dapat dilihat dari metrics pengukuran misalnya akurasi.Jika k=3 maka akan ditarik rerata akurasi dari 3 folds kemudian akan dibandingkan dari setiap model.\n",
        "\n",
        "5. Metrics : TP = True Positive, TN = True Negative, FP = False Positive, FN = False Negative.\n",
        "  - Accuracy : persentase total data yang terprediksi dengan benar/sesuai dengan aktual. `Rumus Akurasi = (TP+TN)/(TP+FP+FN+TN)`.\n",
        "  - Precision : persentase banyaknya data yang benar-benar positive dari total data yang terprediksi positive. (Akurasi dari prediksi positive). `Rumus Precision = TP/(TP + FP)`.\n",
        "  - Recall : persentase banyaknya data yang bisa diprediksi positive dari total data aktual positive. `Rumus Recall = TP/(TP+FN)`.\n",
        "  - F1-Score : persentase banyaknya prediksi positive data yang benar. `Rumus F1-score = 2*(Recall * Precision) / (Recall + Precision)`."
      ],
      "metadata": {
        "id": "8ddMCxawqFOl"
      }
    }
  ],
  "metadata": {
    "interpreter": {
      "hash": "ad2bdc8ecc057115af97d19610ffacc2b4e99fae6737bb82f5d7fb13d2f2c186"
    },
    "kernelspec": {
      "display_name": "Python 3.9.7 ('base')",
      "language": "python",
      "name": "python3"
    },
    "language_info": {
      "codemirror_mode": {
        "name": "ipython",
        "version": 3
      },
      "file_extension": ".py",
      "mimetype": "text/x-python",
      "name": "python",
      "nbconvert_exporter": "python",
      "pygments_lexer": "ipython3",
      "version": "3.9.7"
    },
    "orig_nbformat": 4,
    "colab": {
      "name": "h8dsft_P1M1_Nabila_Edelliana_K.ipynb",
      "provenance": [],
      "collapsed_sections": [
        "6liN450RxueO",
        "lDss3R8RxueP",
        "YZLxZifOxueq"
      ],
      "toc_visible": true
    }
  },
  "nbformat": 4,
  "nbformat_minor": 0
}